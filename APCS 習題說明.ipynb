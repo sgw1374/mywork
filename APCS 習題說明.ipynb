{
 "cells": [
  {
   "cell_type": "code",
   "execution_count": 3,
   "metadata": {},
   "outputs": [
    {
     "name": "stdout",
     "output_type": "stream",
     "text": [
      "- - - - * \n",
      "- - - * * * \n",
      "- - * * * * * \n",
      "- * * * * * * * \n",
      "* * * * * * * * * \n"
     ]
    }
   ],
   "source": [
    "k=4\n",
    "m=1\n",
    "\n",
    "for i in range(1,6):\n",
    "    for j in range(1,k+1):\n",
    "        print(\"-\",end=' ')\n",
    "        \n",
    "    for j in range(1,m+1):\n",
    "        print(\"*\",end=' ')\n",
    "        \n",
    "    print()\n",
    "    k=k-1\n",
    "    m=m+2\n",
    "    #m控制*數量"
   ]
  },
  {
   "cell_type": "code",
   "execution_count": 4,
   "metadata": {},
   "outputs": [
    {
     "name": "stdout",
     "output_type": "stream",
     "text": [
      "0\n",
      "1\n",
      "2\n",
      "2\n"
     ]
    }
   ],
   "source": [
    "for i in range(3):\n",
    "    print(i)\n",
    "print(i)"
   ]
  },
  {
   "cell_type": "markdown",
   "metadata": {},
   "source": [
    "## 第二題"
   ]
  },
  {
   "cell_type": "code",
   "execution_count": 43,
   "metadata": {},
   "outputs": [],
   "source": [
    "def f(a=[], n=0):\n",
    "    index=0\n",
    "    for i in range(n):\n",
    "        if a[i]>=a[index]:\n",
    "            index=i\n",
    "    return index"
   ]
  },
  {
   "cell_type": "code",
   "execution_count": 44,
   "metadata": {},
   "outputs": [
    {
     "data": {
      "text/plain": [
       "7"
      ]
     },
     "execution_count": 44,
     "metadata": {},
     "output_type": "execute_result"
    }
   ],
   "source": [
    "a=[1,3,9,2,5,8,4,9,6,7]\n",
    "f(a,10)"
   ]
  },
  {
   "cell_type": "markdown",
   "metadata": {},
   "source": [
    "# 第三題"
   ]
  },
  {
   "cell_type": "code",
   "execution_count": 45,
   "metadata": {},
   "outputs": [
    {
     "name": "stdout",
     "output_type": "stream",
     "text": [
      "[0, 0, 0, 0, 0]\n",
      "[0, 0, 0, 0, 0]\n",
      "[0, 1, 0, 0, 0]\n",
      "[0, 1, 2, 0, 0]\n",
      "[0, 1, 2, 3, 0]\n",
      "[0, 1, 2, 3, 4]\n"
     ]
    }
   ],
   "source": [
    "a=[0,0,0,0,0]\n",
    "print(a)\n",
    "for i in range(5):\n",
    "    a[i]=i\n",
    "    print(a)"
   ]
  },
  {
   "cell_type": "code",
   "execution_count": 54,
   "metadata": {},
   "outputs": [],
   "source": [
    "a = []\n",
    "\n",
    "for k in range(0,100):\n",
    "    a.append (3*k+1)"
   ]
  },
  {
   "cell_type": "code",
   "execution_count": 59,
   "metadata": {},
   "outputs": [],
   "source": [
    "def f1(a ,value):\n",
    "    r_value = -1\n",
    "    i=0\n",
    "\n",
    "    ###\n",
    "    counter=0\n",
    "    ###        \n",
    "    \n",
    "    while i < 100 :\n",
    "\n",
    "        ###\n",
    "        counter += 1\n",
    "        ###\n",
    "        \n",
    "        if a[i] == value:\n",
    "            r_value=i\n",
    "            \n",
    "            ###\n",
    "            print(f' n1 = {counter}')\n",
    "            ###\n",
    "    \n",
    "            break\n",
    "                  \n",
    "        i=i+1\n",
    "                  \n",
    "    return r_value"
   ]
  },
  {
   "cell_type": "code",
   "execution_count": 60,
   "metadata": {},
   "outputs": [],
   "source": [
    "def f2(a,value):\n",
    "    r_value=-1\n",
    "    low=0\n",
    "    high=99\n",
    "    mid=0\n",
    "    \n",
    "    ###\n",
    "    counter=0\n",
    "    ###\n",
    "    \n",
    "    while(low <= high):\n",
    "        mid=(low+high)//2\n",
    "\n",
    "        ###\n",
    "        counter += 1\n",
    "        ###\n",
    "        \n",
    "        if a[mid]==value:\n",
    "            r_value=mid\n",
    "            \n",
    "            ###\n",
    "            print(f' n2 = {counter}')\n",
    "            ###            \n",
    "            \n",
    "            break;\n",
    "        \n",
    "        elif a[mid]<value:\n",
    "            low=mid+1\n",
    "        \n",
    "        else:\n",
    "            high=mid-1\n",
    "    \n",
    "    return r_value"
   ]
  },
  {
   "cell_type": "code",
   "execution_count": 61,
   "metadata": {
    "scrolled": true
   },
   "outputs": [
    {
     "name": "stdout",
     "output_type": "stream",
     "text": [
      " n1 = 34\n",
      " n2 = 5\n",
      " r1 = 33, r2 = 33\n"
     ]
    }
   ],
   "source": [
    "r1 = f1(a, 100)\n",
    "r2 = f2(a, 100)\n",
    "print(f' r1 = {r1}, r2 = {r2}')"
   ]
  },
  {
   "cell_type": "markdown",
   "metadata": {},
   "source": [
    "# 第四題"
   ]
  },
  {
   "cell_type": "code",
   "execution_count": 30,
   "metadata": {},
   "outputs": [
    {
     "name": "stdout",
     "output_type": "stream",
     "text": [
      "30\n",
      "465.0\n"
     ]
    }
   ],
   "source": [
    "n=int(input())\n",
    "print(n*(n+1)/2)"
   ]
  },
  {
   "cell_type": "code",
   "execution_count": 31,
   "metadata": {},
   "outputs": [
    {
     "name": "stdout",
     "output_type": "stream",
     "text": [
      "50\n",
      "1275.0\n"
     ]
    }
   ],
   "source": [
    "n=int(input())\n",
    "print(n*(n+1)/2)"
   ]
  },
  {
   "cell_type": "code",
   "execution_count": 33,
   "metadata": {},
   "outputs": [
    {
     "data": {
      "text/plain": [
       "810"
      ]
     },
     "execution_count": 33,
     "metadata": {},
     "output_type": "execute_result"
    }
   ],
   "source": [
    "1275-465"
   ]
  },
  {
   "cell_type": "code",
   "execution_count": 41,
   "metadata": {},
   "outputs": [
    {
     "name": "stdout",
     "output_type": "stream",
     "text": [
      "810\n"
     ]
    }
   ],
   "source": [
    "b=list(range(101))\n",
    "\n",
    "a=[0]\n",
    "for i in range(1,100+1):\n",
    "    a.append(b[i]+a[i-1])\n",
    "    \n",
    "print(a[50]-a[30])    "
   ]
  },
  {
   "cell_type": "code",
   "execution_count": 42,
   "metadata": {},
   "outputs": [
    {
     "name": "stdout",
     "output_type": "stream",
     "text": [
      "810\n"
     ]
    }
   ],
   "source": [
    "b=list(range(101))\n",
    "a=list(range(101))\n",
    "\n",
    "for i in range(1,100+1):\n",
    "    a[i]=b[i]+a[i-1]\n",
    "    \n",
    "print(a[50]-a[30]) "
   ]
  },
  {
   "cell_type": "markdown",
   "metadata": {},
   "source": [
    "## 第七題"
   ]
  },
  {
   "cell_type": "code",
   "execution_count": 62,
   "metadata": {},
   "outputs": [],
   "source": [
    "def a(n=0, m=0):\n",
    "    if n < 10:\n",
    "        if m <10:\n",
    "            return n+m\n",
    "        else:\n",
    "            return a(n, m-2) +m\n",
    "    else:\n",
    "        return a(n-1, m) +n"
   ]
  },
  {
   "cell_type": "code",
   "execution_count": 63,
   "metadata": {},
   "outputs": [
    {
     "data": {
      "text/plain": [
       "103"
      ]
     },
     "execution_count": 63,
     "metadata": {},
     "output_type": "execute_result"
    }
   ],
   "source": [
    "a(13,15)"
   ]
  },
  {
   "cell_type": "code",
   "execution_count": null,
   "metadata": {},
   "outputs": [],
   "source": []
  },
  {
   "cell_type": "code",
   "execution_count": null,
   "metadata": {},
   "outputs": [],
   "source": []
  },
  {
   "cell_type": "code",
   "execution_count": null,
   "metadata": {},
   "outputs": [],
   "source": []
  },
  {
   "cell_type": "markdown",
   "metadata": {},
   "source": [
    "## 第九題"
   ]
  },
  {
   "cell_type": "code",
   "execution_count": 64,
   "metadata": {},
   "outputs": [
    {
     "name": "stdout",
     "output_type": "stream",
     "text": [
      "4\n"
     ]
    }
   ],
   "source": [
    "b=list(range(5))\n",
    "a=list(range(5))\n",
    "\n",
    "for i  in range(1, 5):\n",
    "    a[i] = 2 + i*4\n",
    "    b[i] = i*5\n",
    "    \n",
    "c = 0\n",
    "\n",
    "for i  in range(1, 5):\n",
    "    if b[i] > a[i]:\n",
    "        c = c + (b[i] % a[i])\n",
    "    else:\n",
    "        c = 1\n",
    "\n",
    "print(c)"
   ]
  },
  {
   "cell_type": "code",
   "execution_count": null,
   "metadata": {},
   "outputs": [],
   "source": []
  }
 ],
 "metadata": {
  "kernelspec": {
   "display_name": "Python 3",
   "language": "python",
   "name": "python3"
  },
  "language_info": {
   "codemirror_mode": {
    "name": "ipython",
    "version": 3
   },
   "file_extension": ".py",
   "mimetype": "text/x-python",
   "name": "python",
   "nbconvert_exporter": "python",
   "pygments_lexer": "ipython3",
   "version": "3.7.3"
  }
 },
 "nbformat": 4,
 "nbformat_minor": 2
}
