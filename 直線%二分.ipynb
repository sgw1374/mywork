{
 "cells": [
  {
   "cell_type": "code",
   "execution_count": 2,
   "metadata": {},
   "outputs": [
    {
     "name": "stdout",
     "output_type": "stream",
     "text": [
      "450\n",
      "450 不在亂數中\n"
     ]
    }
   ],
   "source": [
    "from random import randint\n",
    "A=[]\n",
    "for i in range(99):\n",
    "    A.append(randint(1,1000)) #隨機選取1~1000間100個數\n",
    "    \n",
    "for j in range(len(A)):\n",
    "    for k in range(len(A)):\n",
    "        if A[j]<A[k]:\n",
    "            tmp=A[j]\n",
    "            A[j]=A[k]\n",
    "            A[k]=tmp\n",
    "T=int(input())\n",
    "l=0\n",
    "h=98\n",
    "while l<h:\n",
    "    m=(l+h)/2\n",
    "    if T>A[int(m)]:\n",
    "        l=m+1\n",
    "    elif T<A[int(m)]:\n",
    "        h=m-1\n",
    "    else :\n",
    "        print(T,\"在亂數中第\",(l+h)/2,\"位\")\n",
    "        break\n",
    "print(T,\"不在亂數中\")"
   ]
  },
  {
   "cell_type": "code",
   "execution_count": null,
   "metadata": {},
   "outputs": [],
   "source": []
  }
 ],
 "metadata": {
  "kernelspec": {
   "display_name": "Python 3",
   "language": "python",
   "name": "python3"
  },
  "language_info": {
   "codemirror_mode": {
    "name": "ipython",
    "version": 3
   },
   "file_extension": ".py",
   "mimetype": "text/x-python",
   "name": "python",
   "nbconvert_exporter": "python",
   "pygments_lexer": "ipython3",
   "version": "3.7.4"
  }
 },
 "nbformat": 4,
 "nbformat_minor": 2
}
