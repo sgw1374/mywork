{
 "cells": [
  {
   "cell_type": "code",
   "execution_count": 1,
   "metadata": {},
   "outputs": [],
   "source": [
    "class Element:\n",
    "    def __init__(self,data=' ',nextIndex=' '):\n",
    "        self.data = data\n",
    "        self.nextIndex = nextIndex"
   ]
  },
  {
   "cell_type": "code",
   "execution_count": 15,
   "metadata": {},
   "outputs": [],
   "source": [
    "class ElementPlus:\n",
    "    def __init__(self,d=' ',i=-1):\n",
    "        self.data = d\n",
    "        self.nextIndex = i"
   ]
  },
  {
   "cell_type": "code",
   "execution_count": 16,
   "metadata": {},
   "outputs": [
    {
     "name": "stdout",
     "output_type": "stream",
     "text": [
      "data=a,next=6\n"
     ]
    }
   ],
   "source": [
    "aPlus=ElementPlus('a',6)\n",
    "print(f'data={aPlus.data},next={aPlus.nextIndex}')"
   ]
  },
  {
   "cell_type": "code",
   "execution_count": 11,
   "metadata": {},
   "outputs": [
    {
     "data": {
      "text/plain": [
       "6"
      ]
     },
     "execution_count": 11,
     "metadata": {},
     "output_type": "execute_result"
    }
   ],
   "source": [
    "aPlus.data\n",
    "aPlus.nextIndex"
   ]
  },
  {
   "cell_type": "code",
   "execution_count": 4,
   "metadata": {},
   "outputs": [
    {
     "name": "stdout",
     "output_type": "stream",
     "text": [
      "data=Hello,next=6\n"
     ]
    }
   ],
   "source": [
    "aa=Element('Hello',6)\n",
    "print(f'data={aa.data},next={aa.nextIndex}')"
   ]
  },
  {
   "cell_type": "code",
   "execution_count": 5,
   "metadata": {},
   "outputs": [],
   "source": [
    "b=Element('b',7)"
   ]
  },
  {
   "cell_type": "code",
   "execution_count": 7,
   "metadata": {},
   "outputs": [
    {
     "data": {
      "text/plain": [
       "[<__main__.Element at 0x10799a438>,\n",
       " <__main__.Element at 0x10799a400>,\n",
       " <__main__.Element at 0x10799a470>]"
      ]
     },
     "execution_count": 7,
     "metadata": {},
     "output_type": "execute_result"
    }
   ],
   "source": [
    "E=Element('a',2)\n",
    "R=Element('b',-1)\n",
    "S=Element('c',1)\n",
    "\n",
    "someList=[E, R, S]\n",
    "someList"
   ]
  },
  {
   "cell_type": "code",
   "execution_count": 8,
   "metadata": {},
   "outputs": [
    {
     "name": "stdout",
     "output_type": "stream",
     "text": [
      "a 2\n",
      "b -1\n",
      "c 1\n"
     ]
    }
   ],
   "source": [
    "for ele in someList:\n",
    "    print(ele.data,ele.nextIndex)"
   ]
  },
  {
   "cell_type": "code",
   "execution_count": null,
   "metadata": {},
   "outputs": [],
   "source": []
  },
  {
   "cell_type": "code",
   "execution_count": 17,
   "metadata": {},
   "outputs": [],
   "source": [
    "class Abc:\n",
    "    pass"
   ]
  },
  {
   "cell_type": "code",
   "execution_count": 18,
   "metadata": {},
   "outputs": [],
   "source": [
    "x=Abc()"
   ]
  },
  {
   "cell_type": "code",
   "execution_count": 20,
   "metadata": {},
   "outputs": [],
   "source": [
    "x.data='a'\n",
    "x.nextIndx=2"
   ]
  },
  {
   "cell_type": "code",
   "execution_count": 21,
   "metadata": {},
   "outputs": [
    {
     "data": {
      "text/plain": [
       "'a'"
      ]
     },
     "execution_count": 21,
     "metadata": {},
     "output_type": "execute_result"
    }
   ],
   "source": [
    "x.data"
   ]
  },
  {
   "cell_type": "code",
   "execution_count": null,
   "metadata": {},
   "outputs": [],
   "source": []
  },
  {
   "cell_type": "code",
   "execution_count": 31,
   "metadata": {},
   "outputs": [
    {
     "name": "stdout",
     "output_type": "stream",
     "text": [
      "foo has called, i =16\n",
      "bar has called, i =6\n",
      "bar: 6\n",
      "bar has called, i =16\n",
      "foo has called, i =11\n",
      "bar has called, i =1\n",
      "bar: 1\n",
      "foo has called, i =18\n",
      "bar has called, i =8\n",
      "bar: 8\n"
     ]
    }
   ],
   "source": [
    "def foo(i=0):\n",
    "    if i<=20:\n",
    "        print(f'foo has called, i ={i}')\n",
    "    if i <= 5:\n",
    "        print(\"foo:\",i)\n",
    "    else:\n",
    "        bar(i-10)\n",
    "\n",
    "def bar(i=0):\n",
    "    if i<=20:\n",
    "        print(f'bar has called, i ={i}')\n",
    "    if i<=10:\n",
    "        print(\"bar:\",i)\n",
    "    else:\n",
    "        foo(i-5)\n",
    "        \n",
    "foo(15106)\n",
    "bar(3091)\n",
    "foo(6693)"
   ]
  },
  {
   "cell_type": "code",
   "execution_count": 53,
   "metadata": {},
   "outputs": [],
   "source": [
    "def fun(n=0):\n",
    "    fac=1\n",
    "    if n>0:\n",
    "        fac=n*fun(n-1)\n",
    "    return fac"
   ]
  },
  {
   "cell_type": "code",
   "execution_count": 54,
   "metadata": {},
   "outputs": [
    {
     "data": {
      "text/plain": [
       "1"
      ]
     },
     "execution_count": 54,
     "metadata": {},
     "output_type": "execute_result"
    }
   ],
   "source": [
    "fun()"
   ]
  },
  {
   "cell_type": "code",
   "execution_count": 60,
   "metadata": {},
   "outputs": [
    {
     "data": {
      "text/plain": [
       "40320"
      ]
     },
     "execution_count": 60,
     "metadata": {},
     "output_type": "execute_result"
    }
   ],
   "source": [
    "fun(8)"
   ]
  },
  {
   "cell_type": "code",
   "execution_count": 47,
   "metadata": {},
   "outputs": [
    {
     "name": "stdout",
     "output_type": "stream",
     "text": [
      "0\n",
      "2\n",
      "4\n",
      "6\n",
      "8\n",
      "10\n"
     ]
    }
   ],
   "source": [
    "for i in range(0,11,2):\n",
    "    print(i)\n",
    "    i=i+1"
   ]
  },
  {
   "cell_type": "code",
   "execution_count": null,
   "metadata": {},
   "outputs": [],
   "source": []
  }
 ],
 "metadata": {
  "kernelspec": {
   "display_name": "Python 3",
   "language": "python",
   "name": "python3"
  },
  "language_info": {
   "codemirror_mode": {
    "name": "ipython",
    "version": 3
   },
   "file_extension": ".py",
   "mimetype": "text/x-python",
   "name": "python",
   "nbconvert_exporter": "python",
   "pygments_lexer": "ipython3",
   "version": "3.7.3"
  }
 },
 "nbformat": 4,
 "nbformat_minor": 2
}
