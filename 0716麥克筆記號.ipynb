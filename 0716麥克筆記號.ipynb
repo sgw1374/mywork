{
 "cells": [
  {
   "cell_type": "markdown",
   "metadata": {},
   "source": [
    "## Markdown語法"
   ]
  },
  {
   "cell_type": "markdown",
   "metadata": {},
   "source": [
    "##  大標題"
   ]
  },
  {
   "cell_type": "markdown",
   "metadata": {},
   "source": [
    "###  超連結\n",
    "[政大磨刻師](http://moocs.nccu.edu.tw/course/121/intro)"
   ]
  },
  {
   "cell_type": "markdown",
   "metadata": {},
   "source": [
    "我們現在插入一張圖片\n",
    "![腦袋](head.jpg)"
   ]
  },
  {
   "cell_type": "markdown",
   "metadata": {},
   "source": [
    "### 基本重點：\n",
    "*  條件判斷\n",
    "*  函式\n",
    "*  變數"
   ]
  },
  {
   "cell_type": "markdown",
   "metadata": {},
   "source": [
    "###  有順序的分項說明：\n",
    "1. zzzz\n",
    "2. python\n",
    "3. pandas"
   ]
  },
  {
   "cell_type": "markdown",
   "metadata": {},
   "source": [
    "### 打入一段程式碼(I)\n",
    "        for i in range(10):\n",
    "              print(1)"
   ]
  },
  {
   "cell_type": "markdown",
   "metadata": {},
   "source": [
    "### 打入一段程式碼(II)\n",
    "```python\n",
    "for i in range(10):\n",
    "        print(1)```"
   ]
  },
  {
   "cell_type": "markdown",
   "metadata": {},
   "source": [
    "# 打入LaTeX碼\n",
    "\n",
    "函數$f(x)=X^2-3X+5$(隨文模式),積分函式$$\\int_a^b f(x)\\,d(x)$$(展示模式)\n",
    "$$f(x)=\\sin(x)$$"
   ]
  },
  {
   "cell_type": "code",
   "execution_count": null,
   "metadata": {},
   "outputs": [],
   "source": []
  }
 ],
 "metadata": {
  "kernelspec": {
   "display_name": "Python 3",
   "language": "python",
   "name": "python3"
  },
  "language_info": {
   "codemirror_mode": {
    "name": "ipython",
    "version": 3
   },
   "file_extension": ".py",
   "mimetype": "text/x-python",
   "name": "python",
   "nbconvert_exporter": "python",
   "pygments_lexer": "ipython3",
   "version": "3.7.3"
  }
 },
 "nbformat": 4,
 "nbformat_minor": 2
}
