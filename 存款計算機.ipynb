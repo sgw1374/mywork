{
 "cells": [
  {
   "cell_type": "code",
   "execution_count": 17,
   "metadata": {},
   "outputs": [
    {
     "name": "stdout",
     "output_type": "stream",
     "text": [
      "存款金額2000000\n",
      "預計存款月數36\n",
      "年利率1.2\n",
      "本利和 2073274\n"
     ]
    }
   ],
   "source": [
    "a0=int(input(\"存款金額\"))\n",
    "m=int(input(\"預計存款月數\"))\n",
    "p=float(input(\"年利率\"))\n",
    "k=p/1200+1\n",
    "for i in range (m):\n",
    "    m=a0*k\n",
    "    a0=m\n",
    "    \n",
    "print(\"本利和\",int(m))"
   ]
  },
  {
   "cell_type": "code",
   "execution_count": null,
   "metadata": {},
   "outputs": [],
   "source": []
  }
 ],
 "metadata": {
  "kernelspec": {
   "display_name": "Python 3",
   "language": "python",
   "name": "python3"
  },
  "language_info": {
   "codemirror_mode": {
    "name": "ipython",
    "version": 3
   },
   "file_extension": ".py",
   "mimetype": "text/x-python",
   "name": "python",
   "nbconvert_exporter": "python",
   "pygments_lexer": "ipython3",
   "version": "3.7.3"
  }
 },
 "nbformat": 4,
 "nbformat_minor": 2
}
