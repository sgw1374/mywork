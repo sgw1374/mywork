{
 "cells": [
  {
   "cell_type": "code",
   "execution_count": 1,
   "metadata": {},
   "outputs": [],
   "source": [
    "from random import randint"
   ]
  },
  {
   "cell_type": "code",
   "execution_count": 2,
   "metadata": {},
   "outputs": [],
   "source": [
    "def game():\n",
    "    start=input(\"啟動\")\n",
    "    L=[]\n",
    "    for i in range (0,6):\n",
    "        b =int(randint(1,50))\n",
    "        L.append(b)\n",
    "    print(L)"
   ]
  },
  {
   "cell_type": "code",
   "execution_count": null,
   "metadata": {},
   "outputs": [
    {
     "name": "stdout",
     "output_type": "stream",
     "text": [
      "啟動1\n",
      "[8, 40, 30, 17, 49, 4]\n",
      "\n",
      "祝你中大獎\n"
     ]
    }
   ],
   "source": [
    "play=True\n",
    "\n",
    "while play:\n",
    "    game()\n",
    "    print()\n",
    "    print(\"祝你中大獎\")\n",
    "    again=input(\"再玩一次\")\n",
    "    if again=='no':\n",
    "        play=False"
   ]
  },
  {
   "cell_type": "code",
   "execution_count": null,
   "metadata": {},
   "outputs": [],
   "source": []
  }
 ],
 "metadata": {
  "kernelspec": {
   "display_name": "Python 3",
   "language": "python",
   "name": "python3"
  },
  "language_info": {
   "codemirror_mode": {
    "name": "ipython",
    "version": 3
   },
   "file_extension": ".py",
   "mimetype": "text/x-python",
   "name": "python",
   "nbconvert_exporter": "python",
   "pygments_lexer": "ipython3",
   "version": "3.7.3"
  }
 },
 "nbformat": 4,
 "nbformat_minor": 2
}
