{
 "cells": [
  {
   "cell_type": "markdown",
   "metadata": {},
   "source": [
    "```\n",
    "105 年 10 月 29 日\n",
    "程式設計實作題\n",
    "```\n",
    "# 第 2 題 最大和\n",
    "\n",
    "## 問題描述\n",
    "```\n",
    "給定N群數字，每群都恰有M個正整數。若從每群數字中各選擇一個數字 (假設第\n",
    "i 群所選出數字為 ti )，將所選出的N個數字加總即可得總和S = t 1 + t 2 +...+ tN 。請寫程\n",
    "式計算S的最大值 (最大總和)，並判斷各群所選出的數字是否可以整除S。\n",
    "```\n",
    "輸入格式\n",
    "第一行有二個正整數N和M， 1 ≦ N ≦ 20 ， 1 ≦ M ≦ 20 。\n",
    "接下來的N行，每一行各有M個正整數 _xi_ ，代表一群整數，數字與數字間有一個空\n",
    "格，且 1 ≦ _i_ ≦M，以及 1 ≦ _xi_ ≦ 256 。\n",
    "\n",
    "輸出格式\n",
    "第一行輸出最大總和S。\n",
    "第二行按照被選擇數字所屬群的順序，輸出可以整除S的被選擇數字，數字與數字間\n",
    "以一個空格隔開，最後一個數字後無空白；若N個被選擇數字都不能整除S，就輸出- 1 。\n",
    "\n",
    "## 範例一：輸入\n",
    "\n",
    "## 3 2\n",
    "\n",
    "## 1 5\n",
    "\n",
    "## 6 4\n",
    "\n",
    "## 1 1\n",
    "\n",
    "## 範例一：正確輸出\n",
    "\n",
    "## 12\n",
    "\n",
    "## 6 1\n",
    "\n",
    "```\n",
    "（說明）挑選的數字依序是5, 6, 1 ，總和\n",
    "\n",
    " S=12。而此三數中可整除S的是 6 與 1 ，\n",
    "\n",
    "6 在第二群， 1 在第 3 群所以先輸出 6 再\n",
    "\n",
    "輸出 1 。注意， 1 雖然也出現在第一群，\n",
    "\n",
    " 但她不是第一群中挑出的數字，所以順\n",
    "\n",
    "序是先 6 後 1 。\n",
    "```\n",
    "\n",
    "## 範例二：輸入\n",
    "\n",
    "## 4 3\n",
    "\n",
    "## 6 3 2\n",
    "\n",
    "## 2 7 9\n",
    "\n",
    "## 4 7 1\n",
    "\n",
    "## 9 5 3\n",
    "\n",
    "## 範例二：正確輸出\n",
    "\n",
    "## 31\n",
    "\n",
    "## - 1\n",
    "\n",
    "```\n",
    "（說明）挑選的數字依序是 6,9,7,9，總\n",
    "\n",
    "和S= 31 。而此四數中沒有可整除S的，\n",
    "\n",
    " 所以第二行輸出- 1 。\n",
    "\n",
    " 評分說明\n",
    "```\n",
    "\n",
    "```\n",
    "輸入包含若干筆測試資料，每一筆測試資料的執行時間限制(time limit)均為 1 秒，依\n",
    "正確通過測資筆數給分。其中：\n",
    "第 1 子題組 20 分： 1 ≦ N ≦ 20 ，M = 1。\n",
    "第 2 子題組 30 分： 1 ≦ N ≦ 20 ，M = 2。\n",
    "第 3 子題組 50 分： 1 ≦ N ≦ 20 ， 1 ≦ M ≦ 20 。\n",
    "```"
   ]
  },
  {
   "cell_type": "code",
   "execution_count": 53,
   "metadata": {},
   "outputs": [
    {
     "name": "stdout",
     "output_type": "stream",
     "text": [
      "4 3\n",
      "2 7 9\n",
      "6 3 2\n",
      "4 7 1\n",
      "9 5 3\n",
      "31\n",
      "-1\n"
     ]
    }
   ],
   "source": [
    "line =input()\n",
    "a ,b = line.split()\n",
    "\n",
    "w=[]\n",
    "for i in range(int(a)):\n",
    "    i=input()\n",
    "    w.append(i)\n",
    "    \n",
    "x=[]\n",
    "for j in range(int(a)):\n",
    "    c=w[j].split()\n",
    "    x.append(c)\n",
    "    \n",
    "y=[]\n",
    "for k in range(int(a)):\n",
    "    d=int(max(x[k]))\n",
    "    y.append(d)\n",
    "    \n",
    "e=sum(y)\n",
    "print(e)\n",
    "\n",
    "z=[]\n",
    "for l in range(int(a)):\n",
    "    if e % int(y[l]) != 0:\n",
    "        z.append(0)\n",
    "    else:\n",
    "        z.append(1)\n",
    "\n",
    "if sum(z) != 0:\n",
    "    print(\"1\")\n",
    "else:\n",
    "    print(\"-1\")"
   ]
  },
  {
   "cell_type": "code",
   "execution_count": null,
   "metadata": {},
   "outputs": [],
   "source": []
  },
  {
   "cell_type": "code",
   "execution_count": null,
   "metadata": {},
   "outputs": [],
   "source": []
  },
  {
   "cell_type": "code",
   "execution_count": 1,
   "metadata": {},
   "outputs": [
    {
     "name": "stdout",
     "output_type": "stream",
     "text": [
      "3 2\n"
     ]
    }
   ],
   "source": [
    "line =input()\n",
    "a ,b = line.split()"
   ]
  },
  {
   "cell_type": "code",
   "execution_count": 2,
   "metadata": {},
   "outputs": [
    {
     "data": {
      "text/plain": [
       "'3'"
      ]
     },
     "execution_count": 2,
     "metadata": {},
     "output_type": "execute_result"
    }
   ],
   "source": [
    "a"
   ]
  },
  {
   "cell_type": "code",
   "execution_count": 3,
   "metadata": {},
   "outputs": [
    {
     "data": {
      "text/plain": [
       "'2'"
      ]
     },
     "execution_count": 3,
     "metadata": {},
     "output_type": "execute_result"
    }
   ],
   "source": [
    "b"
   ]
  },
  {
   "cell_type": "code",
   "execution_count": 14,
   "metadata": {},
   "outputs": [
    {
     "name": "stdout",
     "output_type": "stream",
     "text": [
      "1 5\n",
      "6 4\n",
      "1 1\n"
     ]
    }
   ],
   "source": [
    "w=[]\n",
    "for i in range(int(a)):\n",
    "    i=input()\n",
    "    w.append(i)"
   ]
  },
  {
   "cell_type": "code",
   "execution_count": 15,
   "metadata": {},
   "outputs": [
    {
     "data": {
      "text/plain": [
       "['1 5', '6 4', '1 1']"
      ]
     },
     "execution_count": 15,
     "metadata": {},
     "output_type": "execute_result"
    }
   ],
   "source": [
    "w"
   ]
  },
  {
   "cell_type": "code",
   "execution_count": 17,
   "metadata": {},
   "outputs": [],
   "source": [
    "x=[]\n",
    "for j in range(int(a)):\n",
    "    c=w[j].split()\n",
    "    x.append(c)"
   ]
  },
  {
   "cell_type": "code",
   "execution_count": 18,
   "metadata": {},
   "outputs": [
    {
     "data": {
      "text/plain": [
       "[['1', '5'], ['6', '4'], ['1', '1']]"
      ]
     },
     "execution_count": 18,
     "metadata": {},
     "output_type": "execute_result"
    }
   ],
   "source": [
    "x"
   ]
  },
  {
   "cell_type": "code",
   "execution_count": 21,
   "metadata": {},
   "outputs": [
    {
     "data": {
      "text/plain": [
       "['6', '4']"
      ]
     },
     "execution_count": 21,
     "metadata": {},
     "output_type": "execute_result"
    }
   ],
   "source": [
    "x[1]"
   ]
  },
  {
   "cell_type": "code",
   "execution_count": 22,
   "metadata": {},
   "outputs": [
    {
     "data": {
      "text/plain": [
       "'6'"
      ]
     },
     "execution_count": 22,
     "metadata": {},
     "output_type": "execute_result"
    }
   ],
   "source": [
    "max(x[1])"
   ]
  },
  {
   "cell_type": "code",
   "execution_count": 33,
   "metadata": {},
   "outputs": [],
   "source": [
    "y=[]\n",
    "for k in range(int(a)):\n",
    "    d=int(max(x[k]))\n",
    "    y.append(d)"
   ]
  },
  {
   "cell_type": "code",
   "execution_count": 34,
   "metadata": {},
   "outputs": [
    {
     "data": {
      "text/plain": [
       "[5, 6, 1]"
      ]
     },
     "execution_count": 34,
     "metadata": {},
     "output_type": "execute_result"
    }
   ],
   "source": [
    "y"
   ]
  },
  {
   "cell_type": "code",
   "execution_count": 36,
   "metadata": {},
   "outputs": [],
   "source": [
    "e=sum(y)"
   ]
  },
  {
   "cell_type": "code",
   "execution_count": 37,
   "metadata": {},
   "outputs": [
    {
     "data": {
      "text/plain": [
       "12"
      ]
     },
     "execution_count": 37,
     "metadata": {},
     "output_type": "execute_result"
    }
   ],
   "source": [
    "e"
   ]
  },
  {
   "cell_type": "code",
   "execution_count": 47,
   "metadata": {},
   "outputs": [],
   "source": [
    "z=[]\n",
    "for l in range(int(a)):\n",
    "    if e % int(y[l]) != 0:\n",
    "        z.append(0)\n",
    "    else:\n",
    "        z.append(1)"
   ]
  },
  {
   "cell_type": "code",
   "execution_count": 48,
   "metadata": {},
   "outputs": [
    {
     "data": {
      "text/plain": [
       "[1, 0, 0]"
      ]
     },
     "execution_count": 48,
     "metadata": {},
     "output_type": "execute_result"
    }
   ],
   "source": [
    "z"
   ]
  },
  {
   "cell_type": "code",
   "execution_count": 49,
   "metadata": {},
   "outputs": [
    {
     "data": {
      "text/plain": [
       "1"
      ]
     },
     "execution_count": 49,
     "metadata": {},
     "output_type": "execute_result"
    }
   ],
   "source": [
    "sum(z)"
   ]
  },
  {
   "cell_type": "code",
   "execution_count": null,
   "metadata": {},
   "outputs": [],
   "source": []
  }
 ],
 "metadata": {
  "kernelspec": {
   "display_name": "Python 3",
   "language": "python",
   "name": "python3"
  },
  "language_info": {
   "codemirror_mode": {
    "name": "ipython",
    "version": 3
   },
   "file_extension": ".py",
   "mimetype": "text/x-python",
   "name": "python",
   "nbconvert_exporter": "python",
   "pygments_lexer": "ipython3",
   "version": "3.7.3"
  }
 },
 "nbformat": 4,
 "nbformat_minor": 2
}
