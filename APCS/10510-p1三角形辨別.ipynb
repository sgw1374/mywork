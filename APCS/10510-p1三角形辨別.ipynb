{
 "cells": [
  {
   "cell_type": "markdown",
   "metadata": {},
   "source": [
    "```\n",
    "105 年 10 月 29 日\n",
    "程式設計實作題\n",
    "```\n",
    "# 第 1 題 三角形辨別\n",
    "\n",
    "## 問題描述\n",
    "\n",
    "## 三角形除了是最基本的多邊形外，亦可進一步細分為鈍角三角形、直角三角形及銳角\n",
    "\n",
    "## 三角形。若給定三個線段的長度，透過下列公式的運算，即可得知此三線段能否構成\n",
    "\n",
    "## 三角形，亦可判斷是直角、銳攪和鈍角三角形。\n",
    "\n",
    "```\n",
    "提示：若a、b、c為三個線段的邊長，且c為最大值，則\n",
    "若a + b ≦ c ，三線段無法構成三角形\n",
    "若a × a + b × b < c × c ，三線段構成鈍角三角形 (Obtuse triangle)\n",
    "若a × a + b × b = c × c ，三線段構成直角三角形 (Right triangle)\n",
    "若a × a + b × b > c × c ，三線段構成銳角三角形 (Acute triangle)\n",
    "```\n",
    "```\n",
    "請設計程式以讀入三個線段的長度判斷並輸出此三線段可否構成三角形？若可，判斷\n",
    "並輸出其所屬三角形類型。\n",
    "```\n",
    "輸入格式\n",
    "輸入僅一行包含三正整數，三正整數皆小於 30,001 ，兩數之間有一空白。\n",
    "\n",
    "輸出格式\n",
    "輸出共有兩行，第一行由小而大印出此三正整數，兩數字之間以一個空白間格，最後\n",
    "一個數字後不應有空白；第二行輸出三角形的類型：\n",
    "若無法構成三角形時輸出「No」；\n",
    "若構成鈍角三角形時輸出「Obtuse」；\n",
    "若直角三角形時輸出「Right」；\n",
    "若銳角三角形時輸出「Acute」。\n",
    "```\n",
    "範例一：輸入\n",
    "3 4 5\n",
    "\n",
    "範例一：正確輸出\n",
    "3 4 5\n",
    "Right\n",
    "```\n",
    "```\n",
    "（說明）a×a + b×b = c×c\n",
    "成立時為直角三角形。\n",
    "```\n",
    "```\n",
    "範例二：輸入\n",
    "\n",
    "101 100 99\n",
    "\n",
    "範例二：正確輸出\n",
    "\n",
    "99 100 101\n",
    "Acute\n",
    "```\n",
    "```\n",
    "（說明）邊長排序由小到\n",
    "大輸出，a×a + b×b > c×c\n",
    "成立時為銳角三角形。\n",
    "```\n",
    "```\n",
    "範例三：輸入\n",
    "\n",
    "10 100 10\n",
    "\n",
    "範例三：正確輸出\n",
    "\n",
    "10 10 100\n",
    "No\n",
    "```\n",
    "```\n",
    "（說明）由於無法構成三\n",
    "角形，因此第二行須印出\n",
    "「No」。\n",
    "```\n",
    "## 評分說明\n",
    "\n",
    "```\n",
    "輸入包含若干筆測試資料，每一筆測試資料的執行時間限制(time limit)均為 1 秒，依\n",
    "正確通過測資筆數給分。\n",
    "```\n"
   ]
  },
  {
   "cell_type": "code",
   "execution_count": 152,
   "metadata": {},
   "outputs": [
    {
     "name": "stdout",
     "output_type": "stream",
     "text": [
      "5 12 14\n",
      "5 12 14\n",
      "Obtuse\n"
     ]
    }
   ],
   "source": [
    "m = input()\n",
    "n = m.split()\n",
    "\n",
    "o=[]\n",
    "for i in n:\n",
    "    k=f'{int(i):0>5}'\n",
    "    o.append(k)\n",
    "\n",
    "o.sort()\n",
    "\n",
    "p=[]\n",
    "for j in o:\n",
    "    k=int(j)\n",
    "    p.append(k)\n",
    "\n",
    "print(p[0],p[1],p[2])\n",
    "\n",
    "if int(p[0]) + int(p[1]) < int(p[2]):\n",
    "    print(\"No\")\n",
    "elif int(p[0])**2 + int(p[1])**2 < int(p[2])**2:\n",
    "    print(\"Obtuse\")\n",
    "elif int(p[0])**2 + int(p[1])**2 > int(p[2])**2:\n",
    "    print(\"Acute\")\n",
    "else:\n",
    "    print(\"Right\") "
   ]
  },
  {
   "cell_type": "code",
   "execution_count": null,
   "metadata": {},
   "outputs": [],
   "source": []
  },
  {
   "cell_type": "code",
   "execution_count": null,
   "metadata": {},
   "outputs": [],
   "source": []
  },
  {
   "cell_type": "code",
   "execution_count": 114,
   "metadata": {},
   "outputs": [
    {
     "name": "stdout",
     "output_type": "stream",
     "text": [
      "12 5 13\n"
     ]
    }
   ],
   "source": [
    "m = input()\n",
    "n = m.split()"
   ]
  },
  {
   "cell_type": "code",
   "execution_count": 115,
   "metadata": {},
   "outputs": [
    {
     "data": {
      "text/plain": [
       "'12 5 13'"
      ]
     },
     "execution_count": 115,
     "metadata": {},
     "output_type": "execute_result"
    }
   ],
   "source": [
    "m"
   ]
  },
  {
   "cell_type": "code",
   "execution_count": 116,
   "metadata": {},
   "outputs": [
    {
     "data": {
      "text/plain": [
       "['12', '5', '13']"
      ]
     },
     "execution_count": 116,
     "metadata": {},
     "output_type": "execute_result"
    }
   ],
   "source": [
    "n"
   ]
  },
  {
   "cell_type": "code",
   "execution_count": 66,
   "metadata": {},
   "outputs": [],
   "source": []
  },
  {
   "cell_type": "code",
   "execution_count": 135,
   "metadata": {},
   "outputs": [
    {
     "name": "stdout",
     "output_type": "stream",
     "text": [
      "['00012', '00005', '00013']\n"
     ]
    }
   ],
   "source": [
    "o=[]\n",
    "for i in n:\n",
    "    k=f'{int(i):0>5}'\n",
    "    o.append(k)\n",
    "print(o)"
   ]
  },
  {
   "cell_type": "code",
   "execution_count": 136,
   "metadata": {},
   "outputs": [],
   "source": [
    "o.sort()"
   ]
  },
  {
   "cell_type": "code",
   "execution_count": 137,
   "metadata": {},
   "outputs": [],
   "source": [
    "p=\" \".join(o)"
   ]
  },
  {
   "cell_type": "code",
   "execution_count": 138,
   "metadata": {},
   "outputs": [
    {
     "data": {
      "text/plain": [
       "'00005 00012 00013'"
      ]
     },
     "execution_count": 138,
     "metadata": {},
     "output_type": "execute_result"
    }
   ],
   "source": [
    "p"
   ]
  },
  {
   "cell_type": "code",
   "execution_count": 139,
   "metadata": {},
   "outputs": [],
   "source": [
    "l=[]\n",
    "for j in o:\n",
    "    k=int(j)\n",
    "    l.append(k)\n"
   ]
  },
  {
   "cell_type": "code",
   "execution_count": 143,
   "metadata": {},
   "outputs": [
    {
     "name": "stdout",
     "output_type": "stream",
     "text": [
      "[5, 12, 13]\n"
     ]
    }
   ],
   "source": [
    "print(l)"
   ]
  },
  {
   "cell_type": "code",
   "execution_count": 145,
   "metadata": {},
   "outputs": [
    {
     "name": "stdout",
     "output_type": "stream",
     "text": [
      "5 12 13\n"
     ]
    }
   ],
   "source": [
    "print(l[0],l[1],l[2])"
   ]
  },
  {
   "cell_type": "code",
   "execution_count": 124,
   "metadata": {},
   "outputs": [
    {
     "data": {
      "text/plain": [
       "'00005 00012 00013'"
      ]
     },
     "execution_count": 124,
     "metadata": {},
     "output_type": "execute_result"
    }
   ],
   "source": [
    "aa"
   ]
  },
  {
   "cell_type": "code",
   "execution_count": null,
   "metadata": {},
   "outputs": [],
   "source": []
  },
  {
   "cell_type": "code",
   "execution_count": null,
   "metadata": {},
   "outputs": [],
   "source": []
  },
  {
   "cell_type": "code",
   "execution_count": 108,
   "metadata": {},
   "outputs": [
    {
     "name": "stdout",
     "output_type": "stream",
     "text": [
      "Right\n"
     ]
    }
   ],
   "source": [
    "if int(l[0]) + int(l[1]) < int(l[2]):\n",
    "    print(\"No\")\n",
    "elif int(l[0])**2 + int(l[1])**2 < int(l[2])**2:\n",
    "    print(\"Obtuse\")\n",
    "elif int(l[0])**2 + int(l[1])**2 > int(l[2])**2:\n",
    "    print(\"Acute\")\n",
    "else:\n",
    "    print(\"Right\")"
   ]
  },
  {
   "cell_type": "code",
   "execution_count": null,
   "metadata": {},
   "outputs": [],
   "source": []
  },
  {
   "cell_type": "code",
   "execution_count": 153,
   "metadata": {},
   "outputs": [
    {
     "name": "stdout",
     "output_type": "stream",
     "text": [
      "The following commands were written to file `p1.py`:\n",
      "m = input()\n",
      "n = m.split()\n",
      "\n",
      "o=[]\n",
      "for i in n:\n",
      "    k=f'{int(i):0>5}'\n",
      "    o.append(k)\n",
      "\n",
      "o.sort()\n",
      "\n",
      "p=[]\n",
      "for j in o:\n",
      "    k=int(j)\n",
      "    p.append(k)\n",
      "\n",
      "print(p[0],p[1],p[2])\n",
      "\n",
      "if int(p[0]) + int(p[1]) < int(p[2]):\n",
      "    print(\"No\")\n",
      "elif int(p[0])**2 + int(p[1])**2 < int(p[2])**2:\n",
      "    print(\"Obtuse\")\n",
      "elif int(p[0])**2 + int(p[1])**2 > int(p[2])**2:\n",
      "    print(\"Acute\")\n",
      "else:\n",
      "    print(\"Right\") \n"
     ]
    }
   ],
   "source": [
    "%save \"p1.py\" 152"
   ]
  },
  {
   "cell_type": "code",
   "execution_count": 154,
   "metadata": {},
   "outputs": [
    {
     "name": "stdout",
     "output_type": "stream",
     "text": [
      "Writing p1t01.txt\n"
     ]
    }
   ],
   "source": [
    "%%writefile \"p1t01.txt\"\n",
    "3 4 5"
   ]
  },
  {
   "cell_type": "code",
   "execution_count": 155,
   "metadata": {},
   "outputs": [
    {
     "name": "stdout",
     "output_type": "stream",
     "text": [
      "Writing p1t02.txt\n"
     ]
    }
   ],
   "source": [
    "%%writefile \"p1t02.txt\"\n",
    "101 100 99"
   ]
  },
  {
   "cell_type": "code",
   "execution_count": 156,
   "metadata": {},
   "outputs": [
    {
     "name": "stdout",
     "output_type": "stream",
     "text": [
      "Writing p1t03.txt\n"
     ]
    }
   ],
   "source": [
    "%%writefile \"p1t03.txt\"\n",
    "10 100 10"
   ]
  },
  {
   "cell_type": "code",
   "execution_count": 157,
   "metadata": {},
   "outputs": [
    {
     "name": "stdout",
     "output_type": "stream",
     "text": [
      "3 4 5\r\n",
      "Right\r\n"
     ]
    }
   ],
   "source": [
    "!python p1.py < p1t01.txt"
   ]
  },
  {
   "cell_type": "code",
   "execution_count": 158,
   "metadata": {},
   "outputs": [
    {
     "name": "stdout",
     "output_type": "stream",
     "text": [
      "99 100 101\r\n",
      "Acute\r\n"
     ]
    }
   ],
   "source": [
    "!python p1.py < p1t02.txt"
   ]
  },
  {
   "cell_type": "code",
   "execution_count": 159,
   "metadata": {},
   "outputs": [
    {
     "name": "stdout",
     "output_type": "stream",
     "text": [
      "10 10 100\r\n",
      "No\r\n"
     ]
    }
   ],
   "source": [
    "!python p1.py < p1t03.txt"
   ]
  },
  {
   "cell_type": "code",
   "execution_count": null,
   "metadata": {},
   "outputs": [],
   "source": []
  }
 ],
 "metadata": {
  "kernelspec": {
   "display_name": "Python 3",
   "language": "python",
   "name": "python3"
  },
  "language_info": {
   "codemirror_mode": {
    "name": "ipython",
    "version": 3
   },
   "file_extension": ".py",
   "mimetype": "text/x-python",
   "name": "python",
   "nbconvert_exporter": "python",
   "pygments_lexer": "ipython3",
   "version": "3.7.3"
  }
 },
 "nbformat": 4,
 "nbformat_minor": 2
}
