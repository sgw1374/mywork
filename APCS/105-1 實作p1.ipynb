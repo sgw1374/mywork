{
 "cells": [
  {
   "cell_type": "markdown",
   "metadata": {},
   "source": [
    "```\n",
    "105 年 3 月 5 日\n",
    "程式設計實作題\n",
    "```\n",
    "```\n",
    "1\n",
    "```\n",
    "# 第 1 題 成績指標\n",
    "\n",
    "## 問題描述\n",
    "\n",
    "## 一次考試中，於所有及格學生中獲取最低分數者最為幸運，反之，於所有不及格同\n",
    "\n",
    "## 學中，獲取最高分數者，可以說是最為不幸，而此二種分數，可以視為成績指標。\n",
    "\n",
    "## 請你設計一支程式，讀入全班成績(人數不固定)，請對所有分數進行排序，並分別\n",
    "\n",
    "## 找出不及格中最高分數，以及及格中最低分數。\n",
    "\n",
    "## 當找不到最低及格分數，表示對於本次考試而言，這是一個不幸之班級，此時請你\n",
    "\n",
    "```\n",
    "印出：「worst case」；反之，當找不到最高不及格分數時，請你印出「best case」。\n",
    "註：假設及格分數為 60 ，每筆測資皆為0~1 00 間整數，且筆數未定。\n",
    "```\n",
    "輸入格式\n",
    "第一行輸入學生人數，第二行為各學生分數(0~100間)，分數與分數之間以一個空\n",
    "白間格。每一筆測資的學生人數為 1 ~ 20 的整數。\n",
    "\n",
    "輸出格式\n",
    "每筆測資輸出三行。\n",
    "第一行由小而大印出所有成績，兩數字之間以一個空白間格，最後一個數字後無空\n",
    "白；\n",
    "第二行印出最高不及格分數，如果全數及格時，於此行印出best case；\n",
    "第三行印出最低及格分數，當全數不及格時，於此行印出worst case。\n",
    "\n",
    "範例一：輸入\n",
    "\n",
    "10\n",
    "\n",
    "0 11 22 33 55 66 77 99 88 44\n",
    "\n",
    "範例一：正確輸出\n",
    "\n",
    "0 11 22 33 44 55 66 77 88 99\n",
    "\n",
    "55\n",
    "\n",
    "66\n",
    "\n",
    "（說明）不及格分數最高為 55 ，及格分數最低為 66 。\n",
    "\n",
    "範例二：輸入\n",
    "\n",
    "1\n",
    "\n",
    "13\n",
    "\n",
    "範例二：正確輸出\n",
    "\n",
    "13\n",
    "\n",
    "13\n",
    "\n",
    "worst case\n",
    "\n",
    "（說明）由於找不到最低及格分，因此第三行須印出「worst case」。\n",
    "\n",
    "範例三：輸入\n",
    "\n",
    "2\n",
    "\n",
    "73 65\n",
    "\n",
    "範例三：正確輸出\n",
    "\n",
    "65 73\n",
    "\n",
    "best case\n",
    "\n",
    "65\n",
    "\n",
    "（說明）由於找不到不及格分，因此第二行須印出「best case」。\n",
    "\n",
    "評分說明\n",
    "輸入包含若干筆測試資料，每一筆測試資料的執行時間限制(time limit)均為 2 秒，\n",
    "依正確通過測資筆數給分。"
   ]
  },
  {
   "cell_type": "code",
   "execution_count": 165,
   "metadata": {},
   "outputs": [
    {
     "name": "stdout",
     "output_type": "stream",
     "text": [
      "2\n",
      "73 65\n",
      "65 73\n",
      "bast case\n",
      "65\n"
     ]
    }
   ],
   "source": [
    "person=int(input())\n",
    "grade=input()\n",
    "\n",
    "a=grade.split()\n",
    "#將a轉成list\n",
    "a.sort()\n",
    "#a由大到小依序排列指令\n",
    "aa = \" \".join(a)\n",
    "#將a轉成字串aa\n",
    "print(aa)\n",
    "\n",
    "if int(min(a)) > 60:\n",
    "    print(\"bast case\")\n",
    "else:\n",
    "    c=[]\n",
    "    for i in a:\n",
    "        if int(i) < 60:\n",
    "            c.append(i)\n",
    "    print(max(c))\n",
    "\n",
    "if int(max(a)) < 60:\n",
    "    print(\"worst case\")\n",
    "else:\n",
    "    b=[]\n",
    "    for i in a:\n",
    "        if int(i) >= 60:\n",
    "            b.append(i)\n",
    "    print(min(b))\n",
    "    "
   ]
  },
  {
   "cell_type": "code",
   "execution_count": null,
   "metadata": {},
   "outputs": [],
   "source": []
  },
  {
   "cell_type": "code",
   "execution_count": null,
   "metadata": {},
   "outputs": [],
   "source": []
  },
  {
   "cell_type": "markdown",
   "metadata": {},
   "source": [
    "# 第 3 題 線段覆蓋長度\n",
    "\n",
    "#### 問題描述\n",
    "\n",
    "#### 給定一維座標上一些線段，求這些線段所覆蓋的長度，注意，重疊的部分只能算一\n",
    "\n",
    "#### 次。例如給定三個線段：(5, 6)、(1, 2)、(4, 8)、和(7, 9)，如下圖，線段覆蓋長度為\n",
    "\n",
    "#### 6 。\n",
    "\n",
    "#### 0 1 2 3 4 5 6 7 8 9 10\n",
    "\n",
    "#### 輸入格式：\n",
    "\n",
    "#### 第一列是一個正整數 N，表示此測試案例有N個線段。\n",
    "\n",
    "#### 接著的N列每一列是一個線段的開始端點座標和結束端點座標整數值，開始端點\n",
    "\n",
    "#### 座標值小於等於結束端點座標值，兩者之間以一個空格區隔。\n",
    "\n",
    "#### 輸出格式：\n",
    "\n",
    "#### 輸出其總覆蓋的長度 。\n",
    "\n",
    "#### 範例一：輸入\n",
    "\n",
    "#### 輸入 說明\n",
    "\n",
    "(^5) 此測試案例有 5 個線段\n",
    "160 180 (^) 開始端點座標值與結束端點座標\n",
    "150 200 (^) 開始端點座標值與結束端點座標\n",
    "280 300 (^) 開始端點座標值與結束端點座標\n",
    "300 330 (^) 開始端點座標值與結束端點座標\n",
    "190 210 (^) 開始端點座標值與結束端點座標\n",
    "範例一：輸出\n",
    "輸出 說明\n",
    "(^110) 測試案例的結果\n",
    "範例二：輸入\n",
    "輸入 說明\n",
    "(^1) 此測試案例有 1 個線段\n",
    "120 120 (^) 開始端點座標值與結束端點座標值\n",
    "範例二：輸出\n",
    "輸出 說明\n",
    "(^0) 測試案例的結果\n",
    "\n",
    "\n",
    "```\n",
    "程式設計實作題\n",
    "```\n",
    "#### 評分說明\n",
    "\n",
    "```\n",
    "輸入包含若干筆測試資料，每一筆測試資料的執行時間限制(time limit)均為 2 秒，\n",
    "依正確通過測資筆數給分。每一個端點座標是一個介於0~M之間的整數，每筆測\n",
    "試案例線段個數上限為N。其中：\n",
    "第一子題組共 30 分，M< 1000 ，N<100，線段沒有重疊。\n",
    "第二子題組共 40 分，M< 1000 ，N< 100 ，線段可能重疊。\n",
    "第三子題組共 30 分，M< 10000000 ，N<1000 0 ，線段可能重疊。\n",
    "```"
   ]
  },
  {
   "cell_type": "code",
   "execution_count": null,
   "metadata": {},
   "outputs": [],
   "source": []
  },
  {
   "cell_type": "code",
   "execution_count": 60,
   "metadata": {},
   "outputs": [
    {
     "name": "stdout",
     "output_type": "stream",
     "text": [
      "3\n",
      "60 70\n",
      "20 30\n",
      "50 80\n"
     ]
    }
   ],
   "source": [
    "n=int(input())\n",
    "x=[]\n",
    "for i in range(n):\n",
    "    i=input()\n",
    "    x.append(i)"
   ]
  },
  {
   "cell_type": "code",
   "execution_count": 68,
   "metadata": {},
   "outputs": [
    {
     "data": {
      "text/plain": [
       "['60 70', '20 30', '50 80']"
      ]
     },
     "execution_count": 68,
     "metadata": {},
     "output_type": "execute_result"
    }
   ],
   "source": [
    "x"
   ]
  },
  {
   "cell_type": "code",
   "execution_count": 69,
   "metadata": {},
   "outputs": [
    {
     "data": {
      "text/plain": [
       "'60 70'"
      ]
     },
     "execution_count": 69,
     "metadata": {},
     "output_type": "execute_result"
    }
   ],
   "source": [
    "x[0]"
   ]
  },
  {
   "cell_type": "code",
   "execution_count": 70,
   "metadata": {},
   "outputs": [],
   "source": [
    "a= x[0].split()"
   ]
  },
  {
   "cell_type": "code",
   "execution_count": 71,
   "metadata": {
    "scrolled": false
   },
   "outputs": [
    {
     "data": {
      "text/plain": [
       "['60', '70']"
      ]
     },
     "execution_count": 71,
     "metadata": {},
     "output_type": "execute_result"
    }
   ],
   "source": [
    "a"
   ]
  },
  {
   "cell_type": "code",
   "execution_count": 72,
   "metadata": {},
   "outputs": [
    {
     "data": {
      "text/plain": [
       "10"
      ]
     },
     "execution_count": 72,
     "metadata": {},
     "output_type": "execute_result"
    }
   ],
   "source": [
    "int(a[1])-int(a[0])"
   ]
  },
  {
   "cell_type": "code",
   "execution_count": 74,
   "metadata": {},
   "outputs": [
    {
     "name": "stdout",
     "output_type": "stream",
     "text": [
      "10\n",
      "10\n",
      "30\n"
     ]
    }
   ],
   "source": [
    "for y in x:\n",
    "    z=y.split()\n",
    "    print(int(z[1])-int(z[0]))"
   ]
  },
  {
   "cell_type": "code",
   "execution_count": 77,
   "metadata": {},
   "outputs": [],
   "source": [
    "z=[y.split() for y in x]"
   ]
  },
  {
   "cell_type": "code",
   "execution_count": 78,
   "metadata": {},
   "outputs": [
    {
     "data": {
      "text/plain": [
       "[['60', '70'], ['20', '30'], ['50', '80']]"
      ]
     },
     "execution_count": 78,
     "metadata": {},
     "output_type": "execute_result"
    }
   ],
   "source": [
    "z"
   ]
  },
  {
   "cell_type": "code",
   "execution_count": 81,
   "metadata": {},
   "outputs": [
    {
     "data": {
      "text/plain": [
       "'50'"
      ]
     },
     "execution_count": 81,
     "metadata": {},
     "output_type": "execute_result"
    }
   ],
   "source": [
    "z[2][0]"
   ]
  },
  {
   "cell_type": "code",
   "execution_count": 91,
   "metadata": {},
   "outputs": [
    {
     "name": "stdout",
     "output_type": "stream",
     "text": [
      "10\n",
      "10\n",
      "30\n"
     ]
    }
   ],
   "source": [
    "for x in range(n):\n",
    "    k=int(z[x][1])-int(z[x][0])\n",
    "    print(k)"
   ]
  },
  {
   "cell_type": "code",
   "execution_count": 92,
   "metadata": {},
   "outputs": [
    {
     "name": "stdout",
     "output_type": "stream",
     "text": [
      "10\n",
      "10\n",
      "30\n"
     ]
    }
   ],
   "source": [
    "for x in range(n):\n",
    "    k=int(z[x][1])-int(z[x][0])\n",
    "    print(k)"
   ]
  },
  {
   "cell_type": "code",
   "execution_count": 93,
   "metadata": {},
   "outputs": [],
   "source": [
    "## 矩陣\n"
   ]
  },
  {
   "cell_type": "code",
   "execution_count": null,
   "metadata": {},
   "outputs": [],
   "source": []
  },
  {
   "cell_type": "code",
   "execution_count": null,
   "metadata": {},
   "outputs": [],
   "source": []
  }
 ],
 "metadata": {
  "kernelspec": {
   "display_name": "Python 3",
   "language": "python",
   "name": "python3"
  },
  "language_info": {
   "codemirror_mode": {
    "name": "ipython",
    "version": 3
   },
   "file_extension": ".py",
   "mimetype": "text/x-python",
   "name": "python",
   "nbconvert_exporter": "python",
   "pygments_lexer": "ipython3",
   "version": "3.7.3"
  }
 },
 "nbformat": 4,
 "nbformat_minor": 2
}
