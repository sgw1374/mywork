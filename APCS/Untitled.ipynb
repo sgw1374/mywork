{
 "cells": [
  {
   "cell_type": "code",
   "execution_count": 41,
   "metadata": {},
   "outputs": [
    {
     "data": {
      "text/plain": [
       "95"
      ]
     },
     "execution_count": 41,
     "metadata": {},
     "output_type": "execute_result"
    }
   ],
   "source": [
    "def read():\n",
    "    return randint(100,10000)\n",
    "read()%1000 + 1"
   ]
  },
  {
   "cell_type": "code",
   "execution_count": 36,
   "metadata": {},
   "outputs": [
    {
     "data": {
      "text/plain": [
       "422"
      ]
     },
     "execution_count": 36,
     "metadata": {},
     "output_type": "execute_result"
    }
   ],
   "source": [
    "read()%901 + 100"
   ]
  },
  {
   "cell_type": "code",
   "execution_count": null,
   "metadata": {},
   "outputs": [],
   "source": []
  },
  {
   "cell_type": "code",
   "execution_count": 13,
   "metadata": {},
   "outputs": [
    {
     "name": "stdout",
     "output_type": "stream",
     "text": [
      "1 Hi\n",
      "2 Hi\n",
      "3 Hi\n",
      "4 Hi\n",
      "5 Hi\n",
      "6 Hi\n",
      "7 Hi\n",
      "8 Hi\n",
      "9 Hi\n",
      "10 Hi\n",
      "11 Hi\n",
      "12 Hi\n",
      "13 Hi\n",
      "14 Hi\n",
      "15 Hi\n",
      "16 Hi\n",
      "17 Hi\n",
      "18 Hi\n",
      "19 Hi\n"
     ]
    }
   ],
   "source": [
    "count=0\n",
    "for i in range(5,100,5):\n",
    "    count=count+1\n",
    "    print(f'{count}',\"Hi\")"
   ]
  },
  {
   "cell_type": "code",
   "execution_count": null,
   "metadata": {},
   "outputs": [],
   "source": []
  },
  {
   "cell_type": "code",
   "execution_count": 58,
   "metadata": {},
   "outputs": [],
   "source": [
    "def f(a):\n",
    "    while(a<10):\n",
    "        a=a+5\n",
    "        print(\"W\",a)\n",
    "    if(a<12):\n",
    "        a=a+2\n",
    "        print(\"F1\",a)\n",
    "    if(a<=11):\n",
    "        a=5\n",
    "        print(\"F2\",a)"
   ]
  },
  {
   "cell_type": "code",
   "execution_count": 66,
   "metadata": {},
   "outputs": [
    {
     "name": "stdout",
     "output_type": "stream",
     "text": [
      "W 5\n",
      "W 10\n",
      "F1 12\n"
     ]
    }
   ],
   "source": [
    "f(0)"
   ]
  },
  {
   "cell_type": "code",
   "execution_count": 73,
   "metadata": {},
   "outputs": [
    {
     "data": {
      "text/plain": [
       "'0xffff'"
      ]
     },
     "execution_count": 73,
     "metadata": {},
     "output_type": "execute_result"
    }
   ],
   "source": [
    "hex(65535)"
   ]
  },
  {
   "cell_type": "code",
   "execution_count": 74,
   "metadata": {},
   "outputs": [],
   "source": [
    "a=1\n",
    "b=2\n",
    "c=3\n",
    "d=4\n",
    "e=5"
   ]
  },
  {
   "cell_type": "code",
   "execution_count": 75,
   "metadata": {},
   "outputs": [
    {
     "data": {
      "text/plain": [
       "2"
      ]
     },
     "execution_count": 75,
     "metadata": {},
     "output_type": "execute_result"
    }
   ],
   "source": [
    "a+b*c-e"
   ]
  },
  {
   "cell_type": "code",
   "execution_count": 76,
   "metadata": {},
   "outputs": [
    {
     "data": {
      "text/plain": [
       "2"
      ]
     },
     "execution_count": 76,
     "metadata": {},
     "output_type": "execute_result"
    }
   ],
   "source": [
    "((a+(b*c))-e)"
   ]
  },
  {
   "cell_type": "code",
   "execution_count": 77,
   "metadata": {},
   "outputs": [
    {
     "data": {
      "text/plain": [
       "2"
      ]
     },
     "execution_count": 77,
     "metadata": {},
     "output_type": "execute_result"
    }
   ],
   "source": [
    "(a+((b*c)-e))"
   ]
  },
  {
   "cell_type": "code",
   "execution_count": 86,
   "metadata": {},
   "outputs": [
    {
     "name": "stdout",
     "output_type": "stream",
     "text": [
      "70 D\n"
     ]
    }
   ],
   "source": [
    "def S(s=0):\n",
    "    if s>=90:\n",
    "        print(s,\"A\")\n",
    "    elif s>=80:\n",
    "        print(s,\"B\")\n",
    "    elif s>60:\n",
    "        print(s,\"D\")        \n",
    "    elif s>70:\n",
    "        print(s,\"C\")    \n",
    "    else:\n",
    "        print(s,\"F\")\n",
    "S(70)"
   ]
  },
  {
   "cell_type": "code",
   "execution_count": 87,
   "metadata": {},
   "outputs": [
    {
     "name": "stdout",
     "output_type": "stream",
     "text": [
      "0 F\n",
      "1 F\n",
      "2 F\n",
      "3 F\n",
      "4 F\n",
      "5 F\n",
      "6 F\n",
      "7 F\n",
      "8 F\n",
      "9 F\n",
      "10 F\n",
      "11 F\n",
      "12 F\n",
      "13 F\n",
      "14 F\n",
      "15 F\n",
      "16 F\n",
      "17 F\n",
      "18 F\n",
      "19 F\n",
      "20 F\n",
      "21 F\n",
      "22 F\n",
      "23 F\n",
      "24 F\n",
      "25 F\n",
      "26 F\n",
      "27 F\n",
      "28 F\n",
      "29 F\n",
      "30 F\n",
      "31 F\n",
      "32 F\n",
      "33 F\n",
      "34 F\n",
      "35 F\n",
      "36 F\n",
      "37 F\n",
      "38 F\n",
      "39 F\n",
      "40 F\n",
      "41 F\n",
      "42 F\n",
      "43 F\n",
      "44 F\n",
      "45 F\n",
      "46 F\n",
      "47 F\n",
      "48 F\n",
      "49 F\n",
      "50 F\n",
      "51 F\n",
      "52 F\n",
      "53 F\n",
      "54 F\n",
      "55 F\n",
      "56 F\n",
      "57 F\n",
      "58 F\n",
      "59 F\n",
      "60 F\n",
      "61 D\n",
      "62 D\n",
      "63 D\n",
      "64 D\n",
      "65 D\n",
      "66 D\n",
      "67 D\n",
      "68 D\n",
      "69 D\n",
      "70 D\n",
      "71 D\n",
      "72 D\n",
      "73 D\n",
      "74 D\n",
      "75 D\n",
      "76 D\n",
      "77 D\n",
      "78 D\n",
      "79 D\n",
      "80 B\n",
      "81 B\n",
      "82 B\n",
      "83 B\n",
      "84 B\n",
      "85 B\n",
      "86 B\n",
      "87 B\n",
      "88 B\n",
      "89 B\n",
      "90 A\n",
      "91 A\n",
      "92 A\n",
      "93 A\n",
      "94 A\n",
      "95 A\n",
      "96 A\n",
      "97 A\n",
      "98 A\n",
      "99 A\n",
      "100 A\n"
     ]
    }
   ],
   "source": [
    "for i in range(101):\n",
    "    S(i)"
   ]
  },
  {
   "cell_type": "code",
   "execution_count": 88,
   "metadata": {},
   "outputs": [],
   "source": [
    "s=\" \"*4"
   ]
  },
  {
   "cell_type": "code",
   "execution_count": 89,
   "metadata": {},
   "outputs": [
    {
     "data": {
      "text/plain": [
       "'    '"
      ]
     },
     "execution_count": 89,
     "metadata": {},
     "output_type": "execute_result"
    }
   ],
   "source": [
    "s"
   ]
  },
  {
   "cell_type": "code",
   "execution_count": 90,
   "metadata": {},
   "outputs": [
    {
     "data": {
      "text/plain": [
       "' '"
      ]
     },
     "execution_count": 90,
     "metadata": {},
     "output_type": "execute_result"
    }
   ],
   "source": [
    "s[2]"
   ]
  },
  {
   "cell_type": "code",
   "execution_count": 92,
   "metadata": {},
   "outputs": [],
   "source": [
    "st=\"hello world!\""
   ]
  },
  {
   "cell_type": "code",
   "execution_count": 93,
   "metadata": {},
   "outputs": [
    {
     "data": {
      "text/plain": [
       "'e'"
      ]
     },
     "execution_count": 93,
     "metadata": {},
     "output_type": "execute_result"
    }
   ],
   "source": [
    "st[1]"
   ]
  },
  {
   "cell_type": "code",
   "execution_count": 94,
   "metadata": {},
   "outputs": [
    {
     "data": {
      "text/plain": [
       "' '"
      ]
     },
     "execution_count": 94,
     "metadata": {},
     "output_type": "execute_result"
    }
   ],
   "source": [
    "st[5]"
   ]
  },
  {
   "cell_type": "code",
   "execution_count": 97,
   "metadata": {},
   "outputs": [
    {
     "data": {
      "text/plain": [
       "'!'"
      ]
     },
     "execution_count": 97,
     "metadata": {},
     "output_type": "execute_result"
    }
   ],
   "source": [
    "st[11]"
   ]
  },
  {
   "cell_type": "code",
   "execution_count": null,
   "metadata": {},
   "outputs": [],
   "source": [
    "try:\n",
    "except:"
   ]
  },
  {
   "cell_type": "code",
   "execution_count": 104,
   "metadata": {},
   "outputs": [],
   "source": [
    "def divided(a, b):\n",
    "    print(f\"a/b={a/b}\")\n",
    "    print(\"謝謝使用\")"
   ]
  },
  {
   "cell_type": "code",
   "execution_count": 105,
   "metadata": {},
   "outputs": [
    {
     "ename": "ZeroDivisionError",
     "evalue": "division by zero",
     "output_type": "error",
     "traceback": [
      "\u001b[0;31m---------------------------------------------------------------------------\u001b[0m",
      "\u001b[0;31mZeroDivisionError\u001b[0m                         Traceback (most recent call last)",
      "\u001b[0;32m<ipython-input-105-c75a242f575d>\u001b[0m in \u001b[0;36m<module>\u001b[0;34m\u001b[0m\n\u001b[0;32m----> 1\u001b[0;31m \u001b[0mdivided\u001b[0m\u001b[0;34m(\u001b[0m\u001b[0;36m3\u001b[0m\u001b[0;34m,\u001b[0m\u001b[0;36m0\u001b[0m\u001b[0;34m)\u001b[0m\u001b[0;34m\u001b[0m\u001b[0;34m\u001b[0m\u001b[0m\n\u001b[0m",
      "\u001b[0;32m<ipython-input-104-fcb9a1e8886c>\u001b[0m in \u001b[0;36mdivided\u001b[0;34m(a, b)\u001b[0m\n\u001b[1;32m      1\u001b[0m \u001b[0;32mdef\u001b[0m \u001b[0mdivided\u001b[0m\u001b[0;34m(\u001b[0m\u001b[0ma\u001b[0m\u001b[0;34m,\u001b[0m \u001b[0mb\u001b[0m\u001b[0;34m)\u001b[0m\u001b[0;34m:\u001b[0m\u001b[0;34m\u001b[0m\u001b[0;34m\u001b[0m\u001b[0m\n\u001b[0;32m----> 2\u001b[0;31m     \u001b[0mprint\u001b[0m\u001b[0;34m(\u001b[0m\u001b[0;34mf\"a/b={a/b}\"\u001b[0m\u001b[0;34m)\u001b[0m\u001b[0;34m\u001b[0m\u001b[0;34m\u001b[0m\u001b[0m\n\u001b[0m\u001b[1;32m      3\u001b[0m     \u001b[0mprint\u001b[0m\u001b[0;34m(\u001b[0m\u001b[0;34m\"謝謝使用\"\u001b[0m\u001b[0;34m)\u001b[0m\u001b[0;34m\u001b[0m\u001b[0;34m\u001b[0m\u001b[0m\n",
      "\u001b[0;31mZeroDivisionError\u001b[0m: division by zero"
     ]
    }
   ],
   "source": [
    "divided(3,0)"
   ]
  },
  {
   "cell_type": "code",
   "execution_count": 110,
   "metadata": {},
   "outputs": [],
   "source": [
    "def dividedplus(a, b):\n",
    "    try:\n",
    "        print(f\"a/b={a/b}\")\n",
    "    except:\n",
    "        print(f\"b 不能給0\")\n",
    "    print(\"謝謝使用\")"
   ]
  },
  {
   "cell_type": "code",
   "execution_count": 107,
   "metadata": {},
   "outputs": [
    {
     "name": "stdout",
     "output_type": "stream",
     "text": [
      "b 不能給0\n",
      "謝謝使用\n"
     ]
    }
   ],
   "source": [
    "dividedplus(5, 0)"
   ]
  },
  {
   "cell_type": "code",
   "execution_count": 108,
   "metadata": {},
   "outputs": [],
   "source": [
    "def dividedplusreturn(a, b):\n",
    "    try:\n",
    "        return a/b\n",
    "    except:\n",
    "        print(f\"b 不能給0\")\n",
    "    print(\"謝謝使用\")"
   ]
  },
  {
   "cell_type": "code",
   "execution_count": 109,
   "metadata": {},
   "outputs": [
    {
     "data": {
      "text/plain": [
       "0.5"
      ]
     },
     "execution_count": 109,
     "metadata": {},
     "output_type": "execute_result"
    }
   ],
   "source": [
    "dividedplusreturn(5, 10)"
   ]
  },
  {
   "cell_type": "code",
   "execution_count": null,
   "metadata": {},
   "outputs": [],
   "source": []
  }
 ],
 "metadata": {
  "kernelspec": {
   "display_name": "Python 3",
   "language": "python",
   "name": "python3"
  },
  "language_info": {
   "codemirror_mode": {
    "name": "ipython",
    "version": 3
   },
   "file_extension": ".py",
   "mimetype": "text/x-python",
   "name": "python",
   "nbconvert_exporter": "python",
   "pygments_lexer": "ipython3",
   "version": "3.7.3"
  }
 },
 "nbformat": 4,
 "nbformat_minor": 2
}
