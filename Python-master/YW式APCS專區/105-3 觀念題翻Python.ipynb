{
 "cells": [
  {
   "cell_type": "code",
   "execution_count": null,
   "metadata": {},
   "outputs": [],
   "source": [
    "# %pylab inline\n",
    "%matplotlib inline\n",
    "import numpy as np\n",
    "import matplotlib.pyplot as plt"
   ]
  },
  {
   "cell_type": "markdown",
   "metadata": {},
   "source": [
    "## 105-3_1"
   ]
  },
  {
   "cell_type": "code",
   "execution_count": 4,
   "metadata": {},
   "outputs": [
    {
     "name": "stdout",
     "output_type": "stream",
     "text": [
      "1\n",
      "2\n",
      "3\n",
      "4\n",
      "5\n"
     ]
    }
   ],
   "source": [
    "for i in range(1, 6):\n",
    "    print(i)"
   ]
  },
  {
   "cell_type": "code",
   "execution_count": 16,
   "metadata": {},
   "outputs": [
    {
     "name": "stdout",
     "output_type": "stream",
     "text": [
      "----*---- k=4, m=1\n",
      "\n",
      "---***--- k=3, m=3\n",
      "\n",
      "--*****-- k=2, m=5\n",
      "\n",
      "-*******- k=1, m=7\n",
      "\n",
      "********* k=0, m=9\n",
      "\n"
     ]
    }
   ],
   "source": [
    "k = 4\n",
    "m = 1\n",
    "\n",
    "for i in range(1, 6):\n",
    "    for j in range(1, k+1):\n",
    "        print(\"-\", end = '')\n",
    "    \n",
    "    for j in range(1, m+1):\n",
    "        print(\"*\",end = '')\n",
    "\n",
    "    for j in range(1, k+1):\n",
    "        print(\"-\", end = '')\n",
    "\n",
    "\n",
    "    print(' k={}, m={}'.format(k, m))\n",
    "    print()\n",
    "    k = k - 1\n",
    "    m = 2*i + 1\n",
    "\n",
    "# print(*objects, sep=' ', end='\\n', file=sys.stdout, flush=False)"
   ]
  },
  {
   "cell_type": "markdown",
   "metadata": {},
   "source": [
    "## 105-3_2"
   ]
  },
  {
   "cell_type": "code",
   "execution_count": 28,
   "metadata": {},
   "outputs": [],
   "source": [
    "def f(a, n):\n",
    "    index = 0\n",
    "    for i in range(1, n):\n",
    "        if (a[i] >= a[index]) :\n",
    "            index = i\n",
    "    \n",
    "    return index"
   ]
  },
  {
   "cell_type": "code",
   "execution_count": 18,
   "metadata": {},
   "outputs": [],
   "source": [
    "a = [1, 3, 9, 2, 5, 8, 4, 9, 6, 7]"
   ]
  },
  {
   "cell_type": "code",
   "execution_count": 30,
   "metadata": {},
   "outputs": [
    {
     "data": {
      "text/plain": [
       "7"
      ]
     },
     "execution_count": 30,
     "metadata": {},
     "output_type": "execute_result"
    }
   ],
   "source": [
    "f(a, 10)"
   ]
  },
  {
   "cell_type": "markdown",
   "metadata": {},
   "source": [
    "## 105-3_3"
   ]
  },
  {
   "cell_type": "code",
   "execution_count": 1,
   "metadata": {},
   "outputs": [],
   "source": [
    "def f1(a, value):\n",
    "    r_value = -1\n",
    "    i = 0\n",
    "\n",
    "    ###\n",
    "    counter = 0\n",
    "    ###\n",
    "\n",
    "    while i < 100 :\n",
    "        ###\n",
    "        counter += 1\n",
    "        ###       \n",
    "        if a[i] == value:\n",
    "            r_value = i\n",
    "            \n",
    "            ###\n",
    "            print(f'n1 = {counter}')\n",
    "            ###\n",
    "            \n",
    "            break\n",
    "            \n",
    "        i += 1\n",
    "        \n",
    "    return r_value"
   ]
  },
  {
   "cell_type": "code",
   "execution_count": 3,
   "metadata": {},
   "outputs": [],
   "source": [
    "def f2(a, value):\n",
    "    r_value = -1\n",
    "    low = 0\n",
    "    high = 99\n",
    "    mid = 0\n",
    "    \n",
    "    ###\n",
    "    counter = 0\n",
    "    ###\n",
    "    \n",
    "    while (low <= high) :\n",
    "        mid = (low + high)//2\n",
    "        \n",
    "        ###\n",
    "        counter += 1\n",
    "        ###\n",
    "        \n",
    "        if (a[mid] == value) :\n",
    "            r_value = mid\n",
    "            \n",
    "            ###\n",
    "            print(f'n2 = {counter}')\n",
    "            ###\n",
    "\n",
    "            break\n",
    "        elif (a[mid] < value) :\n",
    "            low = mid + 1\n",
    "        else :\n",
    "            high = mid - 1\n",
    "        \n",
    "    return r_value    "
   ]
  },
  {
   "cell_type": "code",
   "execution_count": 8,
   "metadata": {},
   "outputs": [
    {
     "data": {
      "text/plain": [
       "100"
      ]
     },
     "execution_count": 8,
     "metadata": {},
     "output_type": "execute_result"
    }
   ],
   "source": [
    "a = range(1, 300, 3)\n",
    "len(a)\n",
    "# for i in a:\n",
    "#     print(i)"
   ]
  },
  {
   "cell_type": "code",
   "execution_count": 10,
   "metadata": {},
   "outputs": [
    {
     "name": "stdout",
     "output_type": "stream",
     "text": [
      "n1 = 100\n",
      "n2 = 7\n",
      "r1 = 99, r2 = 99\n"
     ]
    }
   ],
   "source": [
    "r1 = f1(a, 298)\n",
    "r2 = f2(a, 298)\n",
    "print(f'r1 = {r1}, r2 = {r2}')"
   ]
  },
  {
   "cell_type": "code",
   "execution_count": 61,
   "metadata": {},
   "outputs": [
    {
     "name": "stdout",
     "output_type": "stream",
     "text": [
      "counter number = 5\n"
     ]
    },
    {
     "data": {
      "text/plain": [
       "33"
      ]
     },
     "execution_count": 61,
     "metadata": {},
     "output_type": "execute_result"
    }
   ],
   "source": [
    "f2(a, 100)"
   ]
  },
  {
   "cell_type": "code",
   "execution_count": null,
   "metadata": {},
   "outputs": [],
   "source": [
    "#內插搜尋 Interpolation search\n",
    "#mid = ((key - low_data)/(high_data - low_data)) * (high-low)"
   ]
  },
  {
   "cell_type": "markdown",
   "metadata": {},
   "source": [
    "## 105-3_4"
   ]
  },
  {
   "cell_type": "code",
   "execution_count": 67,
   "metadata": {},
   "outputs": [
    {
     "name": "stdout",
     "output_type": "stream",
     "text": [
      "810\n"
     ]
    }
   ],
   "source": [
    "b = [0]\n",
    "for i in range(1, 101):\n",
    "    b.append(i)\n",
    "\n",
    "a = [0]\n",
    "for i in range(1, 101):\n",
    "    a.append(b[i] + a[i-1])\n",
    "    \n",
    "print('{}'.format(a[50] - a[30]))"
   ]
  },
  {
   "cell_type": "markdown",
   "metadata": {},
   "source": [
    "## 105-3_5\n",
    "### 計算方法 1 (全域變數，危險)"
   ]
  },
  {
   "cell_type": "code",
   "execution_count": 38,
   "metadata": {},
   "outputs": [
    {
     "name": "stdout",
     "output_type": "stream",
     "text": [
      "f(1000) = 900336, count = 2980\n"
     ]
    }
   ],
   "source": [
    "count2_9 = 0\n",
    "def f(n):\n",
    "#     global count2_9    \n",
    "    if n < 2 :\n",
    "        return 0\n",
    "    \n",
    "    sum=0\n",
    "    for i in range(1, n+1):\n",
    "        count2_9 +=1\n",
    "#         print('now count = {}'.format(count2_9))\n",
    "        sum += i\n",
    "        \n",
    "    newN = (2*n)//3\n",
    "#     print('n = {}, newN = {}'.format(n, newN))\n",
    "    sum += f(newN)\n",
    "    \n",
    "#     print('n = {} end, total count = {}'.format(n, count2_9))\n",
    "    return sum\n",
    "\n",
    "n = 1000\n",
    "result = f(n)\n",
    "# print('f({}) = {}, count2_9 = {}'.format(n, result, count2_9))"
   ]
  },
  {
   "cell_type": "code",
   "execution_count": 37,
   "metadata": {},
   "outputs": [
    {
     "data": {
      "text/plain": [
       "0"
      ]
     },
     "execution_count": 37,
     "metadata": {},
     "output_type": "execute_result"
    }
   ],
   "source": [
    "f(1000, count)\n",
    "count"
   ]
  },
  {
   "cell_type": "markdown",
   "metadata": {},
   "source": [
    "### 計算方法 2 (靜態變數，安全)"
   ]
  },
  {
   "cell_type": "markdown",
   "metadata": {},
   "source": [
    "#### 透過外部設定-相對危險"
   ]
  },
  {
   "cell_type": "code",
   "execution_count": 130,
   "metadata": {},
   "outputs": [],
   "source": [
    "def f2_9(n):\n",
    "    sum=0\n",
    "    \n",
    "    if n < 2 :\n",
    "        return 0\n",
    "    \n",
    "    for i in range(1, n+1):\n",
    "        f2_9.count2_9 +=1\n",
    "        sum += i\n",
    "        \n",
    "    newN = (2*n)//3\n",
    "    sum += f2_9(newN)\n",
    "    return sum\n"
   ]
  },
  {
   "cell_type": "code",
   "execution_count": 172,
   "metadata": {},
   "outputs": [
    {
     "name": "stdout",
     "output_type": "stream",
     "text": [
      "f(1000) = 900336, count2_9 = 2980\n"
     ]
    }
   ],
   "source": [
    "f2_9.count2_9 = 0\n",
    "n=1000\n",
    "print('f({}) = {}, count2_9 = {}'.format(n, f2_9(n), f2_9.count2_9))"
   ]
  },
  {
   "cell_type": "markdown",
   "metadata": {},
   "source": [
    "#### 內部完成設定-相對安全"
   ]
  },
  {
   "cell_type": "code",
   "execution_count": 44,
   "metadata": {},
   "outputs": [
    {
     "name": "stdout",
     "output_type": "stream",
     "text": [
      "sum = 3, loop count = 2980\n",
      "sum = 13, loop count = 2980\n",
      "sum = 34, loop count = 2980\n",
      "sum = 89, loop count = 2980\n",
      "sum = 225, loop count = 2980\n",
      "sum = 550, loop count = 2980\n",
      "sum = 1291, loop count = 2980\n",
      "sum = 3002, loop count = 2980\n",
      "sum = 6830, loop count = 2980\n",
      "sum = 15476, loop count = 2980\n",
      "sum = 34979, loop count = 2980\n",
      "sum = 78935, loop count = 2980\n",
      "sum = 177725, loop count = 2980\n",
      "sum = 399836, loop count = 2980\n",
      "sum = 900336, loop count = 2980\n"
     ]
    },
    {
     "data": {
      "text/plain": [
       "900336"
      ]
     },
     "execution_count": 44,
     "metadata": {},
     "output_type": "execute_result"
    }
   ],
   "source": [
    "def f2_9_3(n):\n",
    "    sum=0\n",
    "    \n",
    "    if n < 2 :\n",
    "        return 0\n",
    "    \n",
    "    for i in range(1, n+1):\n",
    "        try:\n",
    "            f2_9_3.count += 1   # 修改函式屬性的值\n",
    "        except AttributeError: \n",
    "            f2_9_3.count = 1   # 建立函式的屬性\n",
    "\n",
    "        sum += i\n",
    "        \n",
    "    newN = (2*n)//3\n",
    "    sum += f2_9_3(newN)\n",
    "    print('sum = {}, loop count = {}'.format(sum, f2_9_3.count))\n",
    "    return sum\n",
    "\n",
    "f2_9_3(1000)"
   ]
  },
  {
   "cell_type": "markdown",
   "metadata": {},
   "source": [
    "## 105-3_6"
   ]
  },
  {
   "cell_type": "code",
   "execution_count": 12,
   "metadata": {},
   "outputs": [],
   "source": [
    "class Element:\n",
    "    def __init__(self, data = '', nextIndex = -1):\n",
    "        self.data = data\n",
    "        self.nextIndex = nextIndex     "
   ]
  },
  {
   "cell_type": "code",
   "execution_count": 13,
   "metadata": {},
   "outputs": [],
   "source": [
    "class ElementPlus:\n",
    "    def __init__(self, d = '', i = -1):\n",
    "        self.data = d\n",
    "        self.nextIndex = i     "
   ]
  },
  {
   "cell_type": "code",
   "execution_count": 8,
   "metadata": {},
   "outputs": [],
   "source": [
    "aPlus = ElementPlus('a', 6)"
   ]
  },
  {
   "cell_type": "code",
   "execution_count": 9,
   "metadata": {},
   "outputs": [
    {
     "data": {
      "text/plain": [
       "'a'"
      ]
     },
     "execution_count": 9,
     "metadata": {},
     "output_type": "execute_result"
    }
   ],
   "source": [
    "aPlus.data"
   ]
  },
  {
   "cell_type": "code",
   "execution_count": 2,
   "metadata": {},
   "outputs": [
    {
     "name": "stdout",
     "output_type": "stream",
     "text": [
      "data = Hello, next = 6\n"
     ]
    }
   ],
   "source": [
    "aa = Element('Hello', 6)\n",
    "print(f'data = {aa.data}, next = {aa.nextIndex}')"
   ]
  },
  {
   "cell_type": "code",
   "execution_count": 3,
   "metadata": {},
   "outputs": [
    {
     "data": {
      "text/plain": [
       "<__main__.Element at 0x10c44d828>"
      ]
     },
     "execution_count": 3,
     "metadata": {},
     "output_type": "execute_result"
    }
   ],
   "source": [
    "b = Element('b', 7)"
   ]
  },
  {
   "cell_type": "code",
   "execution_count": 4,
   "metadata": {},
   "outputs": [
    {
     "data": {
      "text/plain": [
       "'b'"
      ]
     },
     "execution_count": 4,
     "metadata": {},
     "output_type": "execute_result"
    }
   ],
   "source": [
    "b.data"
   ]
  },
  {
   "cell_type": "code",
   "execution_count": 5,
   "metadata": {},
   "outputs": [
    {
     "data": {
      "text/plain": [
       "7"
      ]
     },
     "execution_count": 5,
     "metadata": {},
     "output_type": "execute_result"
    }
   ],
   "source": [
    "b.nextIndex"
   ]
  },
  {
   "cell_type": "code",
   "execution_count": 10,
   "metadata": {},
   "outputs": [
    {
     "data": {
      "text/plain": [
       "[<__main__.Element at 0x10c4bc518>,\n",
       " <__main__.Element at 0x10c4bc588>,\n",
       " <__main__.Element at 0x10c4380b8>]"
      ]
     },
     "execution_count": 10,
     "metadata": {},
     "output_type": "execute_result"
    }
   ],
   "source": [
    "E = Element('a', 2)\n",
    "R = Element('b', -1)\n",
    "S = Element('c', 1)\n",
    "\n",
    "someList= [E, R, S]\n",
    "someList"
   ]
  },
  {
   "cell_type": "code",
   "execution_count": 11,
   "metadata": {},
   "outputs": [
    {
     "name": "stdout",
     "output_type": "stream",
     "text": [
      "a 2\n",
      "b -1\n",
      "c 1\n"
     ]
    }
   ],
   "source": [
    "for ele in someList:\n",
    "    print(ele.data, ele.nextIndex)"
   ]
  },
  {
   "cell_type": "code",
   "execution_count": 27,
   "metadata": {},
   "outputs": [],
   "source": [
    "dataList = ['a', 'b', 'c']\n",
    "nextList = [2, -1, 1]\n",
    "elementList = []\n",
    "\n",
    "# aElement = Element(dataList[0], nextList[0])\n",
    "# elementList.append(aElement)\n",
    "\n",
    "for i in range(len(dataList)):\n",
    "    aElement = Element(dataList[i], nextList[i])\n",
    "    elementList.append(aElement)"
   ]
  },
  {
   "cell_type": "code",
   "execution_count": 15,
   "metadata": {},
   "outputs": [],
   "source": [
    "def RemoveNextElement(eleList = [], current = -1):\n",
    "    ele = eleList[current-1]\n",
    "    if ele.nextIndex != -1 :\n",
    "#         del eleList[ele.nextIndex - 1]\n",
    "#         ele.nextIndex = eleList[ele.nextIndex - 1].nextIndex\n",
    "        ele.nextIndex = eleList[ele.nextIndex].nextIndex"
   ]
  },
  {
   "cell_type": "code",
   "execution_count": 16,
   "metadata": {},
   "outputs": [],
   "source": [
    "def printElementListContentAfterIndex(eleList, index):\n",
    "    ele = eleList[index-1]\n",
    "    while 1:\n",
    "        print('current content = {} and nextIndex = {}'.format(ele.data, ele.nextIndex))\n",
    "        ele = eleList[ele.nextIndex - 1]\n",
    "        if ele.nextIndex == -1:\n",
    "            print('current content = {} and nextIndex = {}'.format(ele.data, ele.nextIndex))\n",
    "            break"
   ]
  },
  {
   "cell_type": "code",
   "execution_count": 26,
   "metadata": {},
   "outputs": [
    {
     "name": "stdout",
     "output_type": "stream",
     "text": [
      "current content = c and nextIndex = 2\n",
      "current content = b and nextIndex = -1\n"
     ]
    }
   ],
   "source": [
    "printElementListContentAfterIndex(elementList, 3)"
   ]
  },
  {
   "cell_type": "code",
   "execution_count": 22,
   "metadata": {},
   "outputs": [],
   "source": [
    "RemoveNextElement(elementList, 3)"
   ]
  },
  {
   "cell_type": "code",
   "execution_count": 24,
   "metadata": {},
   "outputs": [
    {
     "data": {
      "text/plain": [
       "[<__main__.Element at 0x106b04518>,\n",
       " <__main__.Element at 0x106b04e10>,\n",
       " <__main__.Element at 0x106b04780>]"
      ]
     },
     "execution_count": 24,
     "metadata": {},
     "output_type": "execute_result"
    }
   ],
   "source": [
    "elementList"
   ]
  },
  {
   "cell_type": "markdown",
   "metadata": {},
   "source": [
    "## 105-3_7"
   ]
  },
  {
   "cell_type": "code",
   "execution_count": 72,
   "metadata": {},
   "outputs": [],
   "source": [
    "def a(n=0, m=0):\n",
    "    if n < 10:\n",
    "        if m < 10 :\n",
    "            return n + m\n",
    "        else :\n",
    "            return a(n, m - 2) + m\n",
    "    else :\n",
    "        return a(n - 1, m) + n"
   ]
  },
  {
   "cell_type": "code",
   "execution_count": 73,
   "metadata": {},
   "outputs": [
    {
     "data": {
      "text/plain": [
       "103"
      ]
     },
     "execution_count": 73,
     "metadata": {},
     "output_type": "execute_result"
    }
   ],
   "source": [
    "a(13, 15)"
   ]
  },
  {
   "cell_type": "markdown",
   "metadata": {},
   "source": [
    "## 105-3_8"
   ]
  },
  {
   "cell_type": "code",
   "execution_count": 46,
   "metadata": {},
   "outputs": [
    {
     "name": "stdout",
     "output_type": "stream",
     "text": [
      "1\n",
      "2\n",
      "3\n",
      "5\n",
      "8\n",
      "13\n",
      "21\n",
      "34\n",
      "55\n",
      "89\n"
     ]
    }
   ],
   "source": [
    "a = 0\n",
    "b = 1\n",
    "i = 0\n",
    "temp = 0\n",
    "N = 10\n",
    "\n",
    "\n",
    "for i in range(1, N+1):\n",
    "#     temp = b\n",
    "#     b += a\n",
    "#     b = b + a\n",
    "    a, b = b, a+b\n",
    "#     a = temp\n",
    "    print(b)"
   ]
  },
  {
   "cell_type": "markdown",
   "metadata": {},
   "source": [
    "## 105-3_9"
   ]
  },
  {
   "cell_type": "code",
   "execution_count": 81,
   "metadata": {},
   "outputs": [
    {
     "name": "stdout",
     "output_type": "stream",
     "text": [
      "4\n"
     ]
    }
   ],
   "source": [
    "A = []\n",
    "B = []\n",
    "i = 0\n",
    "c = 0\n",
    "\n",
    "for i in range(1, 4+1):\n",
    "    A.append(2 + i * 4)\n",
    "    B.append(i * 5)\n",
    "    \n",
    "c = 0\n",
    "\n",
    "for i in range(1, 4 + 1):\n",
    "    if (B[i-1] > A[i-1]) :\n",
    "        c += B[i - 1] % A [i - 1]\n",
    "    else :\n",
    "        c = 1\n",
    "        \n",
    "print(c)"
   ]
  },
  {
   "cell_type": "markdown",
   "metadata": {},
   "source": [
    "## 105-3_10"
   ]
  },
  {
   "cell_type": "code",
   "execution_count": 82,
   "metadata": {},
   "outputs": [
    {
     "data": {
      "text/plain": [
       "19"
      ]
     },
     "execution_count": 82,
     "metadata": {},
     "output_type": "execute_result"
    }
   ],
   "source": [
    "def g(a = 0):\n",
    "    if a > 1:\n",
    "        return g(a - 2) + 3\n",
    "    else :\n",
    "        return a\n",
    "    \n",
    "g(13)"
   ]
  },
  {
   "cell_type": "markdown",
   "metadata": {},
   "source": [
    "## 105-3_11"
   ]
  },
  {
   "cell_type": "code",
   "execution_count": 97,
   "metadata": {},
   "outputs": [
    {
     "name": "stdout",
     "output_type": "stream",
     "text": [
      "0 0\n",
      "1 0\n",
      "2 0\n",
      "3 0\n",
      "4 0\n",
      "5 0\n",
      "6 0\n",
      "7 0\n",
      "8 0\n",
      "[1, 2, 3, 4, 5, 6, 7, 8, 9, 0]\n"
     ]
    }
   ],
   "source": [
    "i = 0\n",
    "hold = 0\n",
    "n = 0\n",
    "\n",
    "a = list(range(10))\n",
    "n = len(a)\n",
    "\n",
    "for i in range(n - 2 + 1):\n",
    "    print(i, hold)\n",
    "    hold = a[i]\n",
    "    a[i] = a[i+1]\n",
    "    a[i+1] = hold\n",
    "    \n",
    "print(a)"
   ]
  },
  {
   "cell_type": "markdown",
   "metadata": {},
   "source": [
    "## 105-3_12"
   ]
  },
  {
   "cell_type": "code",
   "execution_count": 102,
   "metadata": {},
   "outputs": [
    {
     "name": "stdout",
     "output_type": "stream",
     "text": [
      "1\n",
      "3\n",
      "2\n",
      "4\n",
      "2\n",
      "3\n",
      "1\n",
      "f1 Count = 2, f2 Count = 2\n"
     ]
    }
   ],
   "source": [
    "f1Counter = 0\n",
    "f2Counter = 0\n",
    "\n",
    "def f1(m = 0):\n",
    "    global f1Counter\n",
    "    f1Counter += 1\n",
    "    if m > 3 :\n",
    "        print(m)\n",
    "    else:\n",
    "        print(m)\n",
    "        f2(m + 2)\n",
    "        print(m)\n",
    "        \n",
    "def f2(n = 0):\n",
    "    global f2Counter\n",
    "    f2Counter += 1\n",
    "\n",
    "    if n > 3:\n",
    "        print(n)\n",
    "    else:\n",
    "        print(n)\n",
    "        f1(n-1)\n",
    "        print(n)\n",
    "        \n",
    "f1(1)\n",
    "print('f1 Count = {}, f2 Count = {}'.format(f1Counter, f2Counter))"
   ]
  },
  {
   "cell_type": "markdown",
   "metadata": {},
   "source": [
    "## 105-3_13"
   ]
  },
  {
   "cell_type": "code",
   "execution_count": 103,
   "metadata": {},
   "outputs": [
    {
     "name": "stdout",
     "output_type": "stream",
     "text": [
      "4\n"
     ]
    }
   ],
   "source": [
    "i= 76\n",
    "j= 48\n",
    "\n",
    "while (i%j) != 0:\n",
    "    k = i % j\n",
    "    i = j\n",
    "    j = k\n",
    "print(j)"
   ]
  },
  {
   "cell_type": "markdown",
   "metadata": {},
   "source": [
    "## 105-3_14"
   ]
  },
  {
   "cell_type": "code",
   "execution_count": 16,
   "metadata": {},
   "outputs": [
    {
     "name": "stdout",
     "output_type": "stream",
     "text": [
      "foo has called, i = 16\n",
      "bar has called, i = 6\n",
      "bar: 6\n",
      "bar has called, i = 16\n",
      "foo has called, i = 11\n",
      "bar has called, i = 1\n",
      "bar: 1\n",
      "foo has called, i = 18\n",
      "bar has called, i = 8\n",
      "bar: 8\n"
     ]
    }
   ],
   "source": [
    "def foo(i = 0):\n",
    "    if i <=20:\n",
    "        print(f'foo has called, i = {i}')\n",
    "        \n",
    "    if i <= 5 :\n",
    "        print(f'foo: {i}')\n",
    "    else:\n",
    "        bar(i - 10)\n",
    "    \n",
    "\n",
    "def bar(i = 0):\n",
    "    if i<=20:\n",
    "        print(f'bar has called, i = {i}')\n",
    "    \n",
    "    if i <= 10:\n",
    "        print(f'bar: {i}')\n",
    "    else:\n",
    "        foo(i - 5)\n",
    "        \n",
    "foo(15106)\n",
    "bar(3091)\n",
    "foo(6693)"
   ]
  },
  {
   "cell_type": "markdown",
   "metadata": {},
   "source": [
    "## 105-3_15(冰雹猜想)"
   ]
  },
  {
   "cell_type": "code",
   "execution_count": 114,
   "metadata": {},
   "outputs": [
    {
     "name": "stdout",
     "output_type": "stream",
     "text": [
      "22\n",
      "11\n",
      "34\n",
      "17\n",
      "52\n",
      "26\n",
      "13\n",
      "40\n",
      "20\n",
      "10\n",
      "5\n",
      "16\n",
      "8\n",
      "4\n",
      "2\n",
      "1\n",
      "count Of Print = 16\n"
     ]
    }
   ],
   "source": [
    "countOfPrint = 0\n",
    "def f(n = 0):\n",
    "    global countOfPrint\n",
    "    countOfPrint += 1\n",
    "    print(n)\n",
    "    while n != 1:\n",
    "        if (n%2) == 1:\n",
    "            n = 3*n + 1\n",
    "        else:\n",
    "            n = n//2\n",
    "        \n",
    "        countOfPrint += 1\n",
    "        print(n)\n",
    "f(22)\n",
    "print(\"count Of Print = {}\".format(countOfPrint))"
   ]
  },
  {
   "cell_type": "code",
   "execution_count": 111,
   "metadata": {},
   "outputs": [
    {
     "data": {
      "text/plain": [
       "11"
      ]
     },
     "execution_count": 111,
     "metadata": {},
     "output_type": "execute_result"
    }
   ],
   "source": [
    "22//2"
   ]
  },
  {
   "cell_type": "markdown",
   "metadata": {},
   "source": [
    "## 105-3_16"
   ]
  },
  {
   "cell_type": "code",
   "execution_count": 116,
   "metadata": {},
   "outputs": [
    {
     "name": "stdout",
     "output_type": "stream",
     "text": [
      "16\n"
     ]
    }
   ],
   "source": [
    "count = 10\n",
    "\n",
    "if count > 0:\n",
    "    count = 11\n",
    "    \n",
    "if count > 10:\n",
    "    count = 12\n",
    "    if (count%3) == 4:\n",
    "        count = 1\n",
    "    else:\n",
    "        count = 0\n",
    "elif count > 11:\n",
    "    count = 13\n",
    "else:\n",
    "    count = 14\n",
    "    \n",
    "if count:\n",
    "    count = 15\n",
    "else:\n",
    "    count = 16\n",
    "\n",
    "print(count)"
   ]
  },
  {
   "cell_type": "markdown",
   "metadata": {},
   "source": [
    "## 105-3_17\n",
    "* #define TRUE 1 ：表示定義一個新“常數”， TRUE 代表 1\n",
    "* #define FALSE 1 ：表示定義一個新“常數”， FALSE 代表 0"
   ]
  },
  {
   "cell_type": "code",
   "execution_count": 117,
   "metadata": {},
   "outputs": [
    {
     "data": {
      "text/plain": [
       "False"
      ]
     },
     "execution_count": 117,
     "metadata": {},
     "output_type": "execute_result"
    }
   ],
   "source": [
    "True\n",
    "False"
   ]
  },
  {
   "cell_type": "code",
   "execution_count": 4,
   "metadata": {},
   "outputs": [
    {
     "name": "stdout",
     "output_type": "stream",
     "text": [
      "First, default d = [0, 1, 2, 3, 4, 5]\n",
      "please key some integer:1\n",
      "please key some integer:2\n",
      "please key some integer:3\n",
      "please key some integer:4\n",
      "please key some integer:7\n",
      "please key some integer:6\n",
      "d = [0, 1, 2, 3, 4, 7]\n",
      "6 is the smallest.\n"
     ]
    }
   ],
   "source": [
    "d = list(range(6))\n",
    "val = 0\n",
    "allBig = 0\n",
    "\n",
    "print(f\"First, default d = {d}\")\n",
    "for i in range(1, 5+1):\n",
    "    d[i] = int(input(\"please key some integer:\"))\n",
    "val = int(input('please key some integer:'))\n",
    "\n",
    "print(f\"d = {d}\")\n",
    "allBig = True\n",
    "\n",
    "for i in range(1, 5+1):\n",
    "    if d[i] > val:\n",
    "        allBig = True\n",
    "    else:\n",
    "        allBig = False\n",
    "        \n",
    "#     print('i = {}, d[i] = {} val = {}, allBig = {}'.format(i, d[i], val, \"True\" if allBig else \"False\"))\n",
    "        \n",
    "if allBig == True:\n",
    "    print('{} is the smallest.'.format(val))\n",
    "else:\n",
    "    print('{} is not the smallest.'.format(val))"
   ]
  },
  {
   "cell_type": "markdown",
   "metadata": {},
   "source": [
    "## 105-3_18\n",
    "1. 語法錯誤 \n",
    "2. 語意錯誤 \n",
    "3. 邏輯錯誤 \n",
    "4. 以上皆是"
   ]
  },
  {
   "cell_type": "markdown",
   "metadata": {},
   "source": [
    "## 105-3_19\n",
    "1. 120\n",
    "1. 124\n",
    "1. 128\n",
    "1. 以上皆非"
   ]
  },
  {
   "cell_type": "markdown",
   "metadata": {},
   "source": [
    "## 105-3_20"
   ]
  },
  {
   "cell_type": "code",
   "execution_count": 27,
   "metadata": {},
   "outputs": [],
   "source": [
    "def fun(n=0):\n",
    "    fac = 1\n",
    "    if n > 0:\n",
    "        fac = n * fun(n - 1)\n",
    "#         fac = 4 * fun(4-1)\n",
    "        \n",
    "    print(f\"fac = {fac}\")\n",
    "    return fac"
   ]
  },
  {
   "cell_type": "code",
   "execution_count": 28,
   "metadata": {},
   "outputs": [
    {
     "name": "stdout",
     "output_type": "stream",
     "text": [
      "fac = 1\n"
     ]
    },
    {
     "data": {
      "text/plain": [
       "1"
      ]
     },
     "execution_count": 28,
     "metadata": {},
     "output_type": "execute_result"
    }
   ],
   "source": [
    "fun()"
   ]
  },
  {
   "cell_type": "markdown",
   "metadata": {},
   "source": [
    "## 105-3_21(無法以for改寫，理解題義後以while改寫)"
   ]
  },
  {
   "cell_type": "code",
   "execution_count": 19,
   "metadata": {},
   "outputs": [
    {
     "name": "stdout",
     "output_type": "stream",
     "text": [
      "0 2 4 6 8 10 \n"
     ]
    }
   ],
   "source": [
    "# for i in range(0, 10+1, 2):\n",
    "\n",
    "#     print('{} '.format(i), end='')\n",
    "    \n",
    "# print()\n",
    "\n",
    "i = 0\n",
    "while i <= 10:\n",
    "    ### 所需迴圈內容開始\n",
    "    print('{} '.format(i), end='')\n",
    "    i += 1\n",
    "    ### 所需迴圈內容結束\n",
    "    i += 1\n",
    "    \n",
    "print()"
   ]
  },
  {
   "cell_type": "markdown",
   "metadata": {},
   "source": [
    "## 105-3_22"
   ]
  },
  {
   "cell_type": "code",
   "execution_count": 22,
   "metadata": {},
   "outputs": [
    {
     "data": {
      "text/plain": [
       "2048"
      ]
     },
     "execution_count": 22,
     "metadata": {},
     "output_type": "execute_result"
    }
   ],
   "source": [
    "def f():\n",
    "    p = 2\n",
    "    while p < 2000:\n",
    "        p *= 2\n",
    "    return p\n",
    "\n",
    "f()"
   ]
  },
  {
   "cell_type": "markdown",
   "metadata": {},
   "source": [
    "## 105-3_23"
   ]
  },
  {
   "cell_type": "code",
   "execution_count": 24,
   "metadata": {},
   "outputs": [
    {
     "name": "stdout",
     "output_type": "stream",
     "text": [
      "2468"
     ]
    }
   ],
   "source": [
    "def f(n = 0):\n",
    "    p = 0\n",
    "    i = n\n",
    "    while i>= 1:\n",
    "        p = 10 -  2*i\n",
    "        print('{}'.format(p), end='')\n",
    "        i -= 1\n",
    "f(4)"
   ]
  },
  {
   "cell_type": "markdown",
   "metadata": {},
   "source": [
    "## 105-3_24"
   ]
  },
  {
   "cell_type": "code",
   "execution_count": 25,
   "metadata": {},
   "outputs": [
    {
     "data": {
      "text/plain": [
       "13"
      ]
     },
     "execution_count": 25,
     "metadata": {},
     "output_type": "execute_result"
    }
   ],
   "source": [
    "def f(n = 0):\n",
    "    if n > 3:\n",
    "        return 1\n",
    "    elif n == 2:\n",
    "        return 3 + f(n+1)\n",
    "    else:\n",
    "        return 1+ f(n+1)\n",
    "    \n",
    "def g(n = 0):\n",
    "    j = 0\n",
    "    for i in range(1, n-1 + 1):\n",
    "        j += f(i)\n",
    "    \n",
    "    return j\n",
    "\n",
    "g(4)"
   ]
  },
  {
   "cell_type": "markdown",
   "metadata": {},
   "source": [
    "## 105-3_25"
   ]
  },
  {
   "cell_type": "code",
   "execution_count": 29,
   "metadata": {},
   "outputs": [],
   "source": [
    "def Mystery(x = 0):\n",
    "    if x <= 1:\n",
    "        return x\n",
    "    else:\n",
    "        return Mystery(x-2) + Mystery(x-1)"
   ]
  },
  {
   "cell_type": "code",
   "execution_count": 30,
   "metadata": {},
   "outputs": [
    {
     "data": {
      "text/plain": [
       "34"
      ]
     },
     "execution_count": 30,
     "metadata": {},
     "output_type": "execute_result"
    }
   ],
   "source": [
    "Mystery(9)"
   ]
  },
  {
   "cell_type": "code",
   "execution_count": null,
   "metadata": {},
   "outputs": [],
   "source": []
  }
 ],
 "metadata": {
  "kernelspec": {
   "display_name": "Python 3",
   "language": "python",
   "name": "python3"
  },
  "language_info": {
   "codemirror_mode": {
    "name": "ipython",
    "version": 3
   },
   "file_extension": ".py",
   "mimetype": "text/x-python",
   "name": "python",
   "nbconvert_exporter": "python",
   "pygments_lexer": "ipython3",
   "version": "3.6.4"
  }
 },
 "nbformat": 4,
 "nbformat_minor": 2
}
