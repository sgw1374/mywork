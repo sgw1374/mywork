{
 "cells": [
  {
   "cell_type": "markdown",
   "metadata": {},
   "source": [
    "# 105-3-1\n",
    "   ## 關於變數宣告\n",
    "        * c 語言需要先宣變內容，例如 int k = 4\n",
    "        * python不需要，因此直接令變數 k = 4\n",
    "   ## 關於 for 迴圈\n",
    "        * c 的for 需要說明迴圈變數啟始值、結束條件、迴圈變數變化規則\n",
    "        * python 可以for in來代換\n",
    "   ## 關於print換行\n",
    "       * c 在進行print的時候不會自動換行，所以在需要換行的時候需要執行 printf(\"\\n\")\n",
    "       * python 預設會換行，所以不想換行的時候需要告知結尾(end=''), 取代\"\\n\"，因此python中不換行的print會如下\n",
    "       print(\"輸出內容\", end='')"
   ]
  },
  {
   "cell_type": "code",
   "execution_count": 4,
   "metadata": {},
   "outputs": [
    {
     "name": "stdout",
     "output_type": "stream",
     "text": [
      "----*\n",
      "---***\n",
      "--*****\n",
      "-*******\n",
      "*********\n"
     ]
    }
   ],
   "source": [
    "k = 4\n",
    "m = 1\n",
    "\n",
    "for i in range(1, 5+1):\n",
    "    for j in range(1, k+1):\n",
    "        print(\"-\", end='') #為了可以更清楚印出來的內容，故以短線取代一個空格\n",
    "    \n",
    "    for j in range(1, m+1):\n",
    "        print('*', end='')\n",
    "        \n",
    "    print()\n",
    "    k = k-1\n",
    "#     m = m+1 #原本題目的寫法\n",
    "    m = m+2 #修正後可以正確印出的寫法\n",
    "    "
   ]
  },
  {
   "cell_type": "code",
   "execution_count": 1,
   "metadata": {},
   "outputs": [
    {
     "name": "stdout",
     "output_type": "stream",
     "text": [
      "0\n",
      "1\n",
      "2\n",
      "2\n"
     ]
    }
   ],
   "source": [
    "for i in range(3):\n",
    "    print(i)\n",
    "    \n",
    "print(i)"
   ]
  },
  {
   "cell_type": "code",
   "execution_count": 7,
   "metadata": {},
   "outputs": [],
   "source": [
    "def f(a = [], n = 1):\n",
    "    index = 0\n",
    "    for i in range(1, n):\n",
    "        if a[i] >= a[index]:\n",
    "            index = i\n",
    "            \n",
    "    return index"
   ]
  },
  {
   "cell_type": "code",
   "execution_count": 8,
   "metadata": {},
   "outputs": [
    {
     "data": {
      "text/plain": [
       "7"
      ]
     },
     "execution_count": 8,
     "metadata": {},
     "output_type": "execute_result"
    }
   ],
   "source": [
    "L = [1, 3, 9, 2, 5, 8, 4, 9, 6, 7]\n",
    "f(L, 10)"
   ]
  },
  {
   "cell_type": "markdown",
   "metadata": {},
   "source": [
    "# 105-3_3"
   ]
  },
  {
   "cell_type": "code",
   "execution_count": 1,
   "metadata": {},
   "outputs": [],
   "source": [
    "def f1(a, value):\n",
    "    r_value = -1\n",
    "    i = 0\n",
    "\n",
    "    ###\n",
    "    counter = 0\n",
    "    ###\n",
    "\n",
    "    while i < 100 :\n",
    "        ###\n",
    "        counter += 1\n",
    "        ###       \n",
    "        if a[i] == value:\n",
    "            r_value = i\n",
    "            \n",
    "            ###\n",
    "            print(f'n1 = {counter}')\n",
    "            ###\n",
    "            \n",
    "            break\n",
    "            \n",
    "        i += 1\n",
    "        \n",
    "    return r_value"
   ]
  },
  {
   "cell_type": "code",
   "execution_count": 2,
   "metadata": {},
   "outputs": [],
   "source": [
    "def f2(a, value):\n",
    "    r_value = -1\n",
    "    low = 0\n",
    "    high = 99\n",
    "    mid = 0\n",
    "    \n",
    "    ###\n",
    "    counter = 0\n",
    "    ###\n",
    "    \n",
    "    while (low <= high) :\n",
    "        mid = (low + high)//2\n",
    "        \n",
    "        ###\n",
    "        counter += 1\n",
    "        ###\n",
    "        \n",
    "        if (a[mid] == value) :\n",
    "            r_value = mid\n",
    "            \n",
    "            ###\n",
    "            print(f'n2 = {counter}')\n",
    "            ###\n",
    "\n",
    "            break\n",
    "        elif (a[mid] < value) :\n",
    "            low = mid + 1\n",
    "        else :\n",
    "            high = mid - 1\n",
    "        \n",
    "    return r_value    "
   ]
  },
  {
   "cell_type": "code",
   "execution_count": 3,
   "metadata": {},
   "outputs": [
    {
     "data": {
      "text/plain": [
       "100"
      ]
     },
     "execution_count": 3,
     "metadata": {},
     "output_type": "execute_result"
    }
   ],
   "source": [
    "a = range(1, 300, 3)\n",
    "len(a)\n",
    "# for i in a:\n",
    "#     print(i)"
   ]
  },
  {
   "cell_type": "code",
   "execution_count": 4,
   "metadata": {},
   "outputs": [
    {
     "name": "stdout",
     "output_type": "stream",
     "text": [
      "n1 = 100\n",
      "n2 = 7\n",
      "r1 = 99, r2 = 99\n"
     ]
    }
   ],
   "source": [
    "r1 = f1(a, 298)\n",
    "r2 = f2(a, 298)\n",
    "print(f'r1 = {r1}, r2 = {r2}')"
   ]
  },
  {
   "cell_type": "code",
   "execution_count": null,
   "metadata": {},
   "outputs": [],
   "source": []
  },
  {
   "cell_type": "markdown",
   "metadata": {},
   "source": [
    "# 4"
   ]
  },
  {
   "cell_type": "code",
   "execution_count": 36,
   "metadata": {},
   "outputs": [
    {
     "name": "stdout",
     "output_type": "stream",
     "text": [
      "810\n"
     ]
    }
   ],
   "source": [
    "b = list(range(101))\n",
    "\n",
    "a = [0]\n",
    "for i in range(1, 100+1):\n",
    "    a.append(b[i] + a[i-1])\n",
    "\n",
    "print(a[50]- a[30])"
   ]
  },
  {
   "cell_type": "code",
   "execution_count": 37,
   "metadata": {},
   "outputs": [
    {
     "name": "stdout",
     "output_type": "stream",
     "text": [
      "810\n"
     ]
    }
   ],
   "source": [
    "b = list(range(101))\n",
    "a = list(range(101))\n",
    "for i in range(1, 100+1):\n",
    "    a[i] = b[i] + a[i-1]\n",
    "\n",
    "print(a[50]- a[30])"
   ]
  },
  {
   "cell_type": "code",
   "execution_count": 38,
   "metadata": {},
   "outputs": [
    {
     "name": "stdout",
     "output_type": "stream",
     "text": [
      "[]\n",
      "[0]\n",
      "[0, 1]\n",
      "[0, 1, 2]\n",
      "[0, 1, 2, 3]\n",
      "[0, 1, 2, 3, 4]\n"
     ]
    }
   ],
   "source": [
    "a = []\n",
    "print(a)\n",
    "\n",
    "for i in range(5):\n",
    "    a.append(i)\n",
    "    print(a)"
   ]
  },
  {
   "cell_type": "code",
   "execution_count": 39,
   "metadata": {},
   "outputs": [
    {
     "name": "stdout",
     "output_type": "stream",
     "text": [
      "[0, 0, 0, 0, 0]\n",
      "[0, 0, 0, 0, 0]\n",
      "[0, 1, 0, 0, 0]\n",
      "[0, 1, 2, 0, 0]\n",
      "[0, 1, 2, 3, 0]\n",
      "[0, 1, 2, 3, 4]\n"
     ]
    }
   ],
   "source": [
    "a = [0, 0, 0, 0, 0]\n",
    "print(a)\n",
    "for i in range(5):\n",
    "    a[i] = i\n",
    "    print(a)"
   ]
  },
  {
   "cell_type": "code",
   "execution_count": 40,
   "metadata": {},
   "outputs": [
    {
     "data": {
      "text/plain": [
       "[0, 0, 0, 0, 0]"
      ]
     },
     "execution_count": 40,
     "metadata": {},
     "output_type": "execute_result"
    }
   ],
   "source": [
    "[0] * 5"
   ]
  },
  {
   "cell_type": "code",
   "execution_count": null,
   "metadata": {},
   "outputs": [],
   "source": []
  }
 ],
 "metadata": {
  "kernelspec": {
   "display_name": "Python 3",
   "language": "python",
   "name": "python3"
  },
  "language_info": {
   "codemirror_mode": {
    "name": "ipython",
    "version": 3
   },
   "file_extension": ".py",
   "mimetype": "text/x-python",
   "name": "python",
   "nbconvert_exporter": "python",
   "pygments_lexer": "ipython3",
   "version": "3.6.4"
  }
 },
 "nbformat": 4,
 "nbformat_minor": 2
}
