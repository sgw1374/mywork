{
 "cells": [
  {
   "cell_type": "code",
   "execution_count": 3,
   "metadata": {},
   "outputs": [
    {
     "name": "stdout",
     "output_type": "stream",
     "text": [
      "5\n"
     ]
    }
   ],
   "source": [
    "b = randint(3, 10)\n",
    "print(b)\n"
   ]
  },
  {
   "cell_type": "code",
   "execution_count": 1,
   "metadata": {},
   "outputs": [
    {
     "name": "stdout",
     "output_type": "stream",
     "text": [
      "4\n"
     ]
    }
   ],
   "source": [
    "from random import randint\n",
    "\n",
    "a = randint(3, 10)\n",
    "print(a)"
   ]
  },
  {
   "cell_type": "code",
   "execution_count": null,
   "metadata": {},
   "outputs": [],
   "source": [
    "try:\n",
    "\n",
    "except:"
   ]
  },
  {
   "cell_type": "code",
   "execution_count": 36,
   "metadata": {},
   "outputs": [],
   "source": [
    "def divided(a, b):\n",
    "    print(f\"a/b = {a/b}\")\n",
    "    print('謝謝使用')"
   ]
  },
  {
   "cell_type": "code",
   "execution_count": 37,
   "metadata": {},
   "outputs": [
    {
     "ename": "ZeroDivisionError",
     "evalue": "division by zero",
     "output_type": "error",
     "traceback": [
      "\u001b[0;31m---------------------------------------------------------------------------\u001b[0m",
      "\u001b[0;31mZeroDivisionError\u001b[0m                         Traceback (most recent call last)",
      "\u001b[0;32m<ipython-input-37-4f97bdb99821>\u001b[0m in \u001b[0;36m<module>\u001b[0;34m()\u001b[0m\n\u001b[0;32m----> 1\u001b[0;31m \u001b[0mdivided\u001b[0m\u001b[0;34m(\u001b[0m\u001b[0;36m5\u001b[0m\u001b[0;34m,\u001b[0m \u001b[0;36m0\u001b[0m\u001b[0;34m)\u001b[0m\u001b[0;34m\u001b[0m\u001b[0m\n\u001b[0m",
      "\u001b[0;32m<ipython-input-36-1440c355e33b>\u001b[0m in \u001b[0;36mdivided\u001b[0;34m(a, b)\u001b[0m\n\u001b[1;32m      1\u001b[0m \u001b[0;32mdef\u001b[0m \u001b[0mdivided\u001b[0m\u001b[0;34m(\u001b[0m\u001b[0ma\u001b[0m\u001b[0;34m,\u001b[0m \u001b[0mb\u001b[0m\u001b[0;34m)\u001b[0m\u001b[0;34m:\u001b[0m\u001b[0;34m\u001b[0m\u001b[0m\n\u001b[0;32m----> 2\u001b[0;31m     \u001b[0mprint\u001b[0m\u001b[0;34m(\u001b[0m\u001b[0;34mf\"a/b = {a/b}\"\u001b[0m\u001b[0;34m)\u001b[0m\u001b[0;34m\u001b[0m\u001b[0m\n\u001b[0m\u001b[1;32m      3\u001b[0m     \u001b[0mprint\u001b[0m\u001b[0;34m(\u001b[0m\u001b[0;34m'謝謝使用'\u001b[0m\u001b[0;34m)\u001b[0m\u001b[0;34m\u001b[0m\u001b[0m\n",
      "\u001b[0;31mZeroDivisionError\u001b[0m: division by zero"
     ]
    }
   ],
   "source": [
    "divided(5, 0)"
   ]
  },
  {
   "cell_type": "code",
   "execution_count": 38,
   "metadata": {},
   "outputs": [],
   "source": [
    "def dividedPlus(a, b):\n",
    "    try:\n",
    "        print(f\"a/b = {a/b}\")\n",
    "    except:\n",
    "        print(f\"b 不能給0哦！\")\n",
    "\n",
    "    print('謝謝使用')"
   ]
  },
  {
   "cell_type": "code",
   "execution_count": 34,
   "metadata": {},
   "outputs": [
    {
     "name": "stdout",
     "output_type": "stream",
     "text": [
      "a/b = 0.5\n"
     ]
    }
   ],
   "source": [
    "dividedPlus(5,10)"
   ]
  },
  {
   "cell_type": "code",
   "execution_count": 39,
   "metadata": {},
   "outputs": [
    {
     "name": "stdout",
     "output_type": "stream",
     "text": [
      "b 不能給0哦！\n",
      "謝謝使用\n"
     ]
    }
   ],
   "source": [
    "dividedPlus(5,0)"
   ]
  },
  {
   "cell_type": "code",
   "execution_count": 40,
   "metadata": {},
   "outputs": [],
   "source": [
    "def dividedPlusReturn(a, b):\n",
    "    try:\n",
    "        return a/b\n",
    "    except:\n",
    "        print(f\"b 不能給0哦！\")"
   ]
  },
  {
   "cell_type": "code",
   "execution_count": 47,
   "metadata": {},
   "outputs": [],
   "source": [
    "def dividedPlusPrint(a, b):\n",
    "    try:\n",
    "        print(f\"我們得到{a/b}\")\n",
    "    except:\n",
    "        print(f\"b 不能給0哦！\")"
   ]
  },
  {
   "cell_type": "code",
   "execution_count": 42,
   "metadata": {},
   "outputs": [
    {
     "data": {
      "text/plain": [
       "0.5"
      ]
     },
     "execution_count": 42,
     "metadata": {},
     "output_type": "execute_result"
    }
   ],
   "source": [
    "dividedPlusReturn(1, 2)"
   ]
  },
  {
   "cell_type": "code",
   "execution_count": 43,
   "metadata": {},
   "outputs": [
    {
     "name": "stdout",
     "output_type": "stream",
     "text": [
      "0.5\n"
     ]
    }
   ],
   "source": [
    "dividedPlusPrint(1, 2)"
   ]
  },
  {
   "cell_type": "code",
   "execution_count": 44,
   "metadata": {},
   "outputs": [],
   "source": [
    "result = dividedPlusReturn(1, 2)"
   ]
  },
  {
   "cell_type": "code",
   "execution_count": 53,
   "metadata": {},
   "outputs": [
    {
     "data": {
      "text/plain": [
       "1.5"
      ]
     },
     "execution_count": 53,
     "metadata": {},
     "output_type": "execute_result"
    }
   ],
   "source": [
    "result + 1 "
   ]
  },
  {
   "cell_type": "code",
   "execution_count": 48,
   "metadata": {},
   "outputs": [
    {
     "name": "stdout",
     "output_type": "stream",
     "text": [
      "我們得到0.5\n"
     ]
    }
   ],
   "source": [
    "result_ = dividedPlusPrint(1, 2)"
   ]
  },
  {
   "cell_type": "code",
   "execution_count": 54,
   "metadata": {},
   "outputs": [
    {
     "ename": "TypeError",
     "evalue": "unsupported operand type(s) for +: 'NoneType' and 'int'",
     "output_type": "error",
     "traceback": [
      "\u001b[0;31m---------------------------------------------------------------------------\u001b[0m",
      "\u001b[0;31mTypeError\u001b[0m                                 Traceback (most recent call last)",
      "\u001b[0;32m<ipython-input-54-f44ecdb3acfd>\u001b[0m in \u001b[0;36m<module>\u001b[0;34m()\u001b[0m\n\u001b[0;32m----> 1\u001b[0;31m \u001b[0mresult_\u001b[0m \u001b[0;34m+\u001b[0m \u001b[0;36m4\u001b[0m\u001b[0;34m\u001b[0m\u001b[0m\n\u001b[0m",
      "\u001b[0;31mTypeError\u001b[0m: unsupported operand type(s) for +: 'NoneType' and 'int'"
     ]
    }
   ],
   "source": [
    "result_ + 4"
   ]
  },
  {
   "cell_type": "code",
   "execution_count": 51,
   "metadata": {},
   "outputs": [],
   "source": [
    "def S(s = 0):\n",
    "    if s >= 90:\n",
    "        print('A')\n",
    "    elif s >= 80:\n",
    "        print(\"B\")\n",
    "    elif s > 60:\n",
    "        print('D')\n",
    "    elif s > 70:\n",
    "        print(\"C\")\n",
    "    else :\n",
    "        print(\"F\")"
   ]
  },
  {
   "cell_type": "code",
   "execution_count": 52,
   "metadata": {},
   "outputs": [
    {
     "name": "stdout",
     "output_type": "stream",
     "text": [
      "If your score = 0, your will get S-Rating: F\n",
      "If your score = 1, your will get S-Rating: F\n",
      "If your score = 2, your will get S-Rating: F\n",
      "If your score = 3, your will get S-Rating: F\n",
      "If your score = 4, your will get S-Rating: F\n",
      "If your score = 5, your will get S-Rating: F\n",
      "If your score = 6, your will get S-Rating: F\n",
      "If your score = 7, your will get S-Rating: F\n",
      "If your score = 8, your will get S-Rating: F\n",
      "If your score = 9, your will get S-Rating: F\n",
      "If your score = 10, your will get S-Rating: F\n",
      "If your score = 11, your will get S-Rating: F\n",
      "If your score = 12, your will get S-Rating: F\n",
      "If your score = 13, your will get S-Rating: F\n",
      "If your score = 14, your will get S-Rating: F\n",
      "If your score = 15, your will get S-Rating: F\n",
      "If your score = 16, your will get S-Rating: F\n",
      "If your score = 17, your will get S-Rating: F\n",
      "If your score = 18, your will get S-Rating: F\n",
      "If your score = 19, your will get S-Rating: F\n",
      "If your score = 20, your will get S-Rating: F\n",
      "If your score = 21, your will get S-Rating: F\n",
      "If your score = 22, your will get S-Rating: F\n",
      "If your score = 23, your will get S-Rating: F\n",
      "If your score = 24, your will get S-Rating: F\n",
      "If your score = 25, your will get S-Rating: F\n",
      "If your score = 26, your will get S-Rating: F\n",
      "If your score = 27, your will get S-Rating: F\n",
      "If your score = 28, your will get S-Rating: F\n",
      "If your score = 29, your will get S-Rating: F\n",
      "If your score = 30, your will get S-Rating: F\n",
      "If your score = 31, your will get S-Rating: F\n",
      "If your score = 32, your will get S-Rating: F\n",
      "If your score = 33, your will get S-Rating: F\n",
      "If your score = 34, your will get S-Rating: F\n",
      "If your score = 35, your will get S-Rating: F\n",
      "If your score = 36, your will get S-Rating: F\n",
      "If your score = 37, your will get S-Rating: F\n",
      "If your score = 38, your will get S-Rating: F\n",
      "If your score = 39, your will get S-Rating: F\n",
      "If your score = 40, your will get S-Rating: F\n",
      "If your score = 41, your will get S-Rating: F\n",
      "If your score = 42, your will get S-Rating: F\n",
      "If your score = 43, your will get S-Rating: F\n",
      "If your score = 44, your will get S-Rating: F\n",
      "If your score = 45, your will get S-Rating: F\n",
      "If your score = 46, your will get S-Rating: F\n",
      "If your score = 47, your will get S-Rating: F\n",
      "If your score = 48, your will get S-Rating: F\n",
      "If your score = 49, your will get S-Rating: F\n",
      "If your score = 50, your will get S-Rating: F\n",
      "If your score = 51, your will get S-Rating: F\n",
      "If your score = 52, your will get S-Rating: F\n",
      "If your score = 53, your will get S-Rating: F\n",
      "If your score = 54, your will get S-Rating: F\n",
      "If your score = 55, your will get S-Rating: F\n",
      "If your score = 56, your will get S-Rating: F\n",
      "If your score = 57, your will get S-Rating: F\n",
      "If your score = 58, your will get S-Rating: F\n",
      "If your score = 59, your will get S-Rating: F\n",
      "If your score = 60, your will get S-Rating: F\n",
      "If your score = 61, your will get S-Rating: D\n",
      "If your score = 62, your will get S-Rating: D\n",
      "If your score = 63, your will get S-Rating: D\n",
      "If your score = 64, your will get S-Rating: D\n",
      "If your score = 65, your will get S-Rating: D\n",
      "If your score = 66, your will get S-Rating: D\n",
      "If your score = 67, your will get S-Rating: D\n",
      "If your score = 68, your will get S-Rating: D\n",
      "If your score = 69, your will get S-Rating: D\n",
      "If your score = 70, your will get S-Rating: D\n",
      "If your score = 71, your will get S-Rating: D\n",
      "If your score = 72, your will get S-Rating: D\n",
      "If your score = 73, your will get S-Rating: D\n",
      "If your score = 74, your will get S-Rating: D\n",
      "If your score = 75, your will get S-Rating: D\n",
      "If your score = 76, your will get S-Rating: D\n",
      "If your score = 77, your will get S-Rating: D\n",
      "If your score = 78, your will get S-Rating: D\n",
      "If your score = 79, your will get S-Rating: D\n",
      "If your score = 80, your will get S-Rating: B\n",
      "If your score = 81, your will get S-Rating: B\n",
      "If your score = 82, your will get S-Rating: B\n",
      "If your score = 83, your will get S-Rating: B\n",
      "If your score = 84, your will get S-Rating: B\n",
      "If your score = 85, your will get S-Rating: B\n",
      "If your score = 86, your will get S-Rating: B\n",
      "If your score = 87, your will get S-Rating: B\n",
      "If your score = 88, your will get S-Rating: B\n",
      "If your score = 89, your will get S-Rating: B\n",
      "If your score = 90, your will get S-Rating: A\n",
      "If your score = 91, your will get S-Rating: A\n",
      "If your score = 92, your will get S-Rating: A\n",
      "If your score = 93, your will get S-Rating: A\n",
      "If your score = 94, your will get S-Rating: A\n",
      "If your score = 95, your will get S-Rating: A\n",
      "If your score = 96, your will get S-Rating: A\n",
      "If your score = 97, your will get S-Rating: A\n",
      "If your score = 98, your will get S-Rating: A\n",
      "If your score = 99, your will get S-Rating: A\n",
      "If your score = 100, your will get S-Rating: A\n"
     ]
    }
   ],
   "source": [
    "def SPlus(s = 0):\n",
    "    if s >= 90:\n",
    "        return 'A'\n",
    "    elif s >= 80:\n",
    "        return 'B'\n",
    "    elif s > 60:\n",
    "        return \"D\"\n",
    "    elif s > 70:\n",
    "        return \"C\"\n",
    "    else :\n",
    "        return \"F\"\n",
    "\n",
    "\n",
    "scoreSet = list(range(101))\n",
    "for score in scoreSet:\n",
    "    SRating = SPlus(score)\n",
    "    print('If your score = {}, your will get S-Rating: {}'.format(score, SRating))"
   ]
  },
  {
   "cell_type": "code",
   "execution_count": 55,
   "metadata": {},
   "outputs": [
    {
     "data": {
      "text/plain": [
       "0"
      ]
     },
     "execution_count": 55,
     "metadata": {},
     "output_type": "execute_result"
    }
   ],
   "source": [
    "round(0.5)"
   ]
  },
  {
   "cell_type": "code",
   "execution_count": 56,
   "metadata": {},
   "outputs": [
    {
     "data": {
      "text/plain": [
       "2"
      ]
     },
     "execution_count": 56,
     "metadata": {},
     "output_type": "execute_result"
    }
   ],
   "source": [
    "round(1.5)"
   ]
  },
  {
   "cell_type": "code",
   "execution_count": 57,
   "metadata": {},
   "outputs": [
    {
     "data": {
      "text/plain": [
       "2"
      ]
     },
     "execution_count": 57,
     "metadata": {},
     "output_type": "execute_result"
    }
   ],
   "source": [
    "round(2.5)"
   ]
  },
  {
   "cell_type": "code",
   "execution_count": 58,
   "metadata": {},
   "outputs": [
    {
     "data": {
      "text/plain": [
       "4"
      ]
     },
     "execution_count": 58,
     "metadata": {},
     "output_type": "execute_result"
    }
   ],
   "source": [
    "round(4.5)"
   ]
  },
  {
   "cell_type": "code",
   "execution_count": null,
   "metadata": {},
   "outputs": [],
   "source": []
  }
 ],
 "metadata": {
  "kernelspec": {
   "display_name": "Python 3",
   "language": "python",
   "name": "python3"
  },
  "language_info": {
   "codemirror_mode": {
    "name": "ipython",
    "version": 3
   },
   "file_extension": ".py",
   "mimetype": "text/x-python",
   "name": "python",
   "nbconvert_exporter": "python",
   "pygments_lexer": "ipython3",
   "version": "3.6.4"
  }
 },
 "nbformat": 4,
 "nbformat_minor": 2
}
