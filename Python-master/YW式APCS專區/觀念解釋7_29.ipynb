{
 "cells": [
  {
   "cell_type": "markdown",
   "metadata": {},
   "source": [
    "# 106_3-6\n",
    "    原題直譯"
   ]
  },
  {
   "cell_type": "code",
   "execution_count": 1,
   "metadata": {},
   "outputs": [],
   "source": [
    "def main(A = [[]]):\n",
    "    M = len(A)\n",
    "    N = len(A[0])\n",
    "    \n",
    "    rowsum = 0\n",
    "    for i in range(M):\n",
    "        rowsum = 0\n",
    "        for j in range(N):\n",
    "            rowsum = rowsum + A[i][j]        \n",
    "\n",
    "    print(f\"The sum of row {i} is {rowsum}.\")"
   ]
  },
  {
   "cell_type": "code",
   "execution_count": 2,
   "metadata": {},
   "outputs": [
    {
     "name": "stdout",
     "output_type": "stream",
     "text": [
      "The sum of row 2 is 11.\n"
     ]
    }
   ],
   "source": [
    "# 造一個雙層的串列來表示矩陣，以下範例為3x2\n",
    "B = [[1, 2], [3, 4], [5, 6]]\n",
    "\n",
    "# 將此矩陣輸入到main裡計算，可以看出rowsome無法正確印出每一列的和。\n",
    "main(B)"
   ]
  },
  {
   "cell_type": "markdown",
   "metadata": {},
   "source": [
    "    以下修正成符合成題器描述的需求，印出每一列的和。\n",
    "    同時直接將main當成主程式進入點(不再特地定義一個main)\n",
    "    因此，需要被計算的矩陣A需要在前面先定義好，執行到for的時候才有內容可以計算"
   ]
  },
  {
   "cell_type": "code",
   "execution_count": 3,
   "metadata": {},
   "outputs": [
    {
     "name": "stdout",
     "output_type": "stream",
     "text": [
      "The sum of row 0 is 3.\n",
      "The sum of row 1 is 7.\n",
      "The sum of row 2 is 11.\n"
     ]
    }
   ],
   "source": [
    "A = [[1, 2], [3, 4], [5, 6]]\n",
    "\n",
    "M = len(A)\n",
    "N = len(A[0])\n",
    "\n",
    "rowsum = 0 #此行移不移除都不影響\n",
    "for i in range(M):\n",
    "    rowsum = 0 #原程式無法正確執行主要是沒有這一行\n",
    "    for j in range(N):\n",
    "        rowsum = rowsum + A[i][j]\n",
    "    print(f\"The sum of row {i} is {rowsum}.\")"
   ]
  },
  {
   "cell_type": "markdown",
   "metadata": {},
   "source": [
    "## 105-3_17\n",
    "* #define TRUE 1 ：表示定義一個新“常數”， TRUE 代表 1\n",
    "* #define FALSE 1 ：表示定義一個新“常數”， FALSE 代表 0"
   ]
  },
  {
   "cell_type": "code",
   "execution_count": 4,
   "metadata": {},
   "outputs": [
    {
     "data": {
      "text/plain": [
       "True"
      ]
     },
     "execution_count": 4,
     "metadata": {},
     "output_type": "execute_result"
    }
   ],
   "source": [
    "True == 1"
   ]
  },
  {
   "cell_type": "code",
   "execution_count": 5,
   "metadata": {},
   "outputs": [
    {
     "data": {
      "text/plain": [
       "True"
      ]
     },
     "execution_count": 5,
     "metadata": {},
     "output_type": "execute_result"
    }
   ],
   "source": [
    "False == 0"
   ]
  },
  {
   "cell_type": "markdown",
   "metadata": {},
   "source": [
    "    以上邏輯中可以看出來，在python裡的 True 本身等於1， False等於 0，故毋須另外定義。"
   ]
  },
  {
   "cell_type": "code",
   "execution_count": null,
   "metadata": {},
   "outputs": [],
   "source": [
    "d = list(range(6))\n",
    "val = 0\n",
    "allBig = 0\n",
    "\n",
    "for i in range(1, 5+1):\n",
    "    d[i] = int(input(\"please key some integer:\"))\n",
    "val = int(input('please key some integer:'))\n",
    "\n",
    "allBig = True\n",
    "\n",
    "for i in range(1, 5+1):\n",
    "    if d[i] > val:\n",
    "        allBig = True\n",
    "    else:\n",
    "        allBig = False\n",
    "                \n",
    "if allBig == True:\n",
    "    print(f'{val} is the smallest.')\n",
    "else:\n",
    "    print(f'{val} is not the smallest.')"
   ]
  },
  {
   "cell_type": "markdown",
   "metadata": {},
   "source": [
    "    上面翻譯完成後，會發現原題目第二組答案會不符點，該如何修正呢？"
   ]
  },
  {
   "cell_type": "code",
   "execution_count": 8,
   "metadata": {},
   "outputs": [
    {
     "name": "stdout",
     "output_type": "stream",
     "text": [
      "First, default d = [0, 1, 2, 3, 4, 5]\n",
      "please key some integer:11\n",
      "please key some integer:12\n",
      "please key some integer:13\n",
      "please key some integer:14\n",
      "please key some integer:20\n",
      "please key some integer:3\n",
      "When input finished, d = [0, 11, 12, 13, 14, 20], val = 3\n",
      "d[1] = 11, val = 3, allBig = True\n",
      "d[2] = 12, val = 3, allBig = True\n",
      "d[3] = 13, val = 3, allBig = True\n",
      "d[4] = 14, val = 3, allBig = True\n",
      "d[5] = 20, val = 3, allBig = True\n",
      "3 is the smallest.\n"
     ]
    }
   ],
   "source": [
    "d = list(range(6))\n",
    "val = 0\n",
    "allBig = 0\n",
    "\n",
    "print(f\"First, default d = {d}\")\n",
    "for i in range(1, 5+1):\n",
    "    d[i] = int(input(\"please key some integer:\"))\n",
    "val = int(input('please key some integer:'))\n",
    "\n",
    "print(f\"When input finished, d = {d}, val = {val}\")\n",
    "\n",
    "allBig = True\n",
    "for i in range(1, 5+1):\n",
    "    if d[i] < val:  \n",
    "        allBig = False\n",
    "        break #只要有一個d[i] < val，那麼val就不是最小的，那麼就可以跳迴圈了\n",
    "    print(f'd[{i}] = {d[i]}, val = {val}, allBig = {allBig}')\n",
    "\n",
    "if allBig == True:\n",
    "    print(f'{val} is the smallest.')\n",
    "else:\n",
    "    print(f'{val} is not the smallest.')"
   ]
  },
  {
   "cell_type": "markdown",
   "metadata": {},
   "source": [
    "原題目的輸入是否太麻煩？改成我們熟悉一次輸入一串(每一個用空格格開)，\n",
    "(而且想要的話，還可以不限長度，在此不示範，但是想一下要多改些什麼就可以由程式連動。)\n",
    "\n",
    "為了配合原題目後續變數與index範圍，我們只更改輸入方式，但會依然保留d裡頭有6格，最後一個輸入的放入val。"
   ]
  },
  {
   "cell_type": "code",
   "execution_count": 10,
   "metadata": {},
   "outputs": [
    {
     "name": "stdout",
     "output_type": "stream",
     "text": [
      "請輸入6個不重覆整數，每個整數以空格分開11 12 13 14 30 20\n",
      "d = [0, 11, 12, 13, 14, 30], val = 20\n"
     ]
    }
   ],
   "source": [
    "d = [0] + list(map(int, input(\"請輸入6個不重覆整數，每個整數以空格分開\").split()))\n",
    "val = d.pop()\n",
    "allBig = 0\n",
    "\n",
    "print(f\"d = {d}, val = {val}\")"
   ]
  },
  {
   "cell_type": "markdown",
   "metadata": {},
   "source": [
    "以上少少幾行改掉了原先的輸入程式"
   ]
  },
  {
   "cell_type": "markdown",
   "metadata": {},
   "source": [
    "# 106-3_8\n",
    "    善用print的方式來追蹤自己程式的進行方式"
   ]
  },
  {
   "cell_type": "code",
   "execution_count": 5,
   "metadata": {},
   "outputs": [
    {
     "name": "stdout",
     "output_type": "stream",
     "text": [
      "1 before fucntion add,\n",
      "6 a = 1\n",
      "7 a = 1 after s=s+1\n",
      "7 a = 0\n",
      "8 a = 0 after s=s+1\n",
      "1 after function add,\n",
      "9 after s = 9,\n"
     ]
    }
   ],
   "source": [
    "s = 1\n",
    "\n",
    "def add(a = 0):\n",
    "    s = 6\n",
    "    \n",
    "    for a in range(a, -1, -1):\n",
    "        print(f\"{s} a = {a}\")\n",
    "#         print(f\"{s},\", end='')\n",
    "        s = s+1\n",
    "        print(f\"{s} a = {a} after s=s+1\")\n",
    "#         print(f'{s},', end='')\n",
    "  \n",
    "print(f'{s} before fucntion add,')\n",
    "# print(f'{s},', end='')\n",
    "add(s)\n",
    "print(f'{s} after function add,')\n",
    "# print(f'{s},', end='')\n",
    "s = 9\n",
    "print(f'{s} after s = 9,')\n",
    "# print(f'{s},', end='')"
   ]
  },
  {
   "cell_type": "code",
   "execution_count": null,
   "metadata": {},
   "outputs": [],
   "source": []
  }
 ],
 "metadata": {
  "kernelspec": {
   "display_name": "Python 3",
   "language": "python",
   "name": "python3"
  },
  "language_info": {
   "codemirror_mode": {
    "name": "ipython",
    "version": 3
   },
   "file_extension": ".py",
   "mimetype": "text/x-python",
   "name": "python",
   "nbconvert_exporter": "python",
   "pygments_lexer": "ipython3",
   "version": "3.6.4"
  }
 },
 "nbformat": 4,
 "nbformat_minor": 2
}
