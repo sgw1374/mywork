{
 "cells": [
  {
   "cell_type": "markdown",
   "metadata": {},
   "source": [
    "## 105-10_1"
   ]
  },
  {
   "cell_type": "code",
   "execution_count": 1,
   "metadata": {},
   "outputs": [
    {
     "name": "stdout",
     "output_type": "stream",
     "text": [
      "0\n",
      "1\n",
      "2\n"
     ]
    }
   ],
   "source": [
    "for i in range(3):\n",
    "    print(i)"
   ]
  },
  {
   "cell_type": "code",
   "execution_count": 19,
   "metadata": {},
   "outputs": [
    {
     "data": {
      "text/plain": [
       "True"
      ]
     },
     "execution_count": 19,
     "metadata": {},
     "output_type": "execute_result"
    }
   ],
   "source": [
    "2==2 and 3==3"
   ]
  },
  {
   "cell_type": "code",
   "execution_count": 21,
   "metadata": {},
   "outputs": [
    {
     "name": "stdout",
     "output_type": "stream",
     "text": [
      "1 3\n"
     ]
    }
   ],
   "source": [
    "def F():\n",
    "    t = ''\n",
    "    item = '28319'\n",
    "    a = 0\n",
    "    b = 0\n",
    "    c = 0\n",
    "    count = 5\n",
    "    for a in range(count-1):\n",
    "        c = a\n",
    "        t = item[a]\n",
    "#         print('c = {}, t={}'.format(c, t))\n",
    "        for i in range(a+1, count):\n",
    "            b = i\n",
    "            if item[b] < t:\n",
    "                c = b\n",
    "                t = item[b]\n",
    "            if (a==2 and b==3):\n",
    "                print('{} {}'.format(t, c))\n",
    "                \n",
    "F()"
   ]
  },
  {
   "cell_type": "markdown",
   "metadata": {},
   "source": [
    "## 105-10_2"
   ]
  },
  {
   "cell_type": "code",
   "execution_count": 22,
   "metadata": {},
   "outputs": [],
   "source": [
    "def numbers_to_strings(argument):\n",
    "    switcher = {\n",
    "        0: \"zero\",\n",
    "        1: \"one\",\n",
    "        2: \"two\",\n",
    "    }\n",
    "    return switcher.get(argument, \"nothing\")"
   ]
  },
  {
   "cell_type": "code",
   "execution_count": 31,
   "metadata": {},
   "outputs": [
    {
     "name": "stdout",
     "output_type": "stream",
     "text": [
      "c\n"
     ]
    }
   ],
   "source": [
    "def switch(x):\n",
    "    switcher = {\n",
    "        10: \"a\",\n",
    "        20: \"b\",\n",
    "        30: \"b\",\n",
    "    }\n",
    "    return switcher.get(x, \"c\") \n",
    "y = switch(40)\n",
    "print(y)"
   ]
  },
  {
   "cell_type": "code",
   "execution_count": 4,
   "metadata": {},
   "outputs": [
    {
     "name": "stdout",
     "output_type": "stream",
     "text": [
      "c\n"
     ]
    }
   ],
   "source": [
    "y = ''\n",
    "x = 32\n",
    "if x == 10:\n",
    "    y = \"a\"\n",
    "elif (x == 20) or (x == 30):\n",
    "    y = \"b\"\n",
    "else:\n",
    "    y = 'c'\n",
    "    \n",
    "print(y)"
   ]
  },
  {
   "cell_type": "markdown",
   "metadata": {},
   "source": [
    "## 105-10_3"
   ]
  },
  {
   "cell_type": "code",
   "execution_count": 5,
   "metadata": {},
   "outputs": [
    {
     "data": {
      "text/plain": [
       "14"
      ]
     },
     "execution_count": 5,
     "metadata": {},
     "output_type": "execute_result"
    }
   ],
   "source": [
    "def K(a = [], n = 0):\n",
    "    if n >= 0:\n",
    "        return K(a, n-1) + a[n]\n",
    "    else:\n",
    "        return 0\n",
    "\n",
    "def G(n):\n",
    "    a = [5, 4, 3, 2, 1]\n",
    "    return K(a, n)\n",
    "\n",
    "G(3)"
   ]
  },
  {
   "cell_type": "markdown",
   "metadata": {},
   "source": [
    "## 105-10_4"
   ]
  },
  {
   "cell_type": "code",
   "execution_count": 7,
   "metadata": {},
   "outputs": [
    {
     "name": "stdout",
     "output_type": "stream",
     "text": [
      "3\n"
     ]
    }
   ],
   "source": [
    "a = 2\n",
    "b = 3\n",
    "c = 4\n",
    "d = 5\n",
    "val = 0\n",
    "\n",
    "val = b//a + c//b + d//b\n",
    "print(val)"
   ]
  },
  {
   "cell_type": "markdown",
   "metadata": {},
   "source": [
    "## 105-10_5"
   ]
  },
  {
   "cell_type": "code",
   "execution_count": 12,
   "metadata": {},
   "outputs": [
    {
     "name": "stdout",
     "output_type": "stream",
     "text": [
      "1 2 3 4 5 6 7 8 9 9 "
     ]
    }
   ],
   "source": [
    "a = [1, 3, 5, 7, 9, 8, 6, 4, 2]\n",
    "n = 9\n",
    "tmp = 0\n",
    "\n",
    "for i in range(n):\n",
    "    tmp = a[i]\n",
    "    a[i] = a[n - i - 1]\n",
    "    a[n - i - 1] = tmp\n",
    "    \n",
    "for i in range(n//2 +1):\n",
    "    print(\"{} {} \".format(a[i], a[n-i-1]), end=\"\")"
   ]
  },
  {
   "cell_type": "markdown",
   "metadata": {},
   "source": [
    "## 105-10_6"
   ]
  },
  {
   "cell_type": "code",
   "execution_count": 16,
   "metadata": {},
   "outputs": [
    {
     "data": {
      "text/plain": [
       "12"
      ]
     },
     "execution_count": 16,
     "metadata": {},
     "output_type": "execute_result"
    }
   ],
   "source": [
    "def F(a = 0):\n",
    "    if a < 0:\n",
    "        return 1\n",
    "    else:\n",
    "        return F(a-2) + F(a-3)\n",
    "    \n",
    "F(7)"
   ]
  },
  {
   "cell_type": "markdown",
   "metadata": {},
   "source": [
    "## 105-10_7"
   ]
  },
  {
   "cell_type": "code",
   "execution_count": 24,
   "metadata": {},
   "outputs": [
    {
     "name": "stdout",
     "output_type": "stream",
     "text": [
      "6\n"
     ]
    }
   ],
   "source": [
    "a = 0\n",
    "n = 2\n",
    "\n",
    "for i in range(1, n+1):\n",
    "    for j in range(i, n+1):\n",
    "        for k in range(1, n + 1):\n",
    "            a = a + 1\n",
    "            \n",
    "print(a)"
   ]
  },
  {
   "cell_type": "markdown",
   "metadata": {},
   "source": [
    "## 105-10_8\n",
    "### 二分搜尋法需要有序"
   ]
  },
  {
   "cell_type": "markdown",
   "metadata": {},
   "source": [
    "## 105-10_9"
   ]
  },
  {
   "cell_type": "code",
   "execution_count": 3,
   "metadata": {},
   "outputs": [
    {
     "name": "stdout",
     "output_type": "stream",
     "text": [
      "F\n"
     ]
    }
   ],
   "source": [
    "s = 50\n",
    "\n",
    "if s >= 90:\n",
    "    print('A')\n",
    "elif s >= 80:\n",
    "    print(\"B\")\n",
    "elif s > 60:\n",
    "    print('D')\n",
    "elif s > 70:\n",
    "    print(\"C\")\n",
    "else :\n",
    "    print(\"F\")\n",
    "\n"
   ]
  },
  {
   "cell_type": "code",
   "execution_count": 4,
   "metadata": {},
   "outputs": [],
   "source": [
    "def S(s = 0):\n",
    "    if s >= 90:\n",
    "        print('A')\n",
    "    elif s >= 80:\n",
    "        print(\"B\")\n",
    "    elif s > 60:\n",
    "        print('D')\n",
    "    elif s > 70:\n",
    "        print(\"C\")\n",
    "    else :\n",
    "        print(\"F\")"
   ]
  },
  {
   "cell_type": "code",
   "execution_count": 5,
   "metadata": {},
   "outputs": [
    {
     "name": "stdout",
     "output_type": "stream",
     "text": [
      "D\n"
     ]
    }
   ],
   "source": [
    "S(70)"
   ]
  },
  {
   "cell_type": "code",
   "execution_count": 7,
   "metadata": {},
   "outputs": [
    {
     "name": "stdout",
     "output_type": "stream",
     "text": [
      "F\n",
      "i = 0, get = None\n",
      "F\n",
      "i = 1, get = None\n",
      "F\n",
      "i = 2, get = None\n",
      "F\n",
      "i = 3, get = None\n",
      "F\n",
      "i = 4, get = None\n",
      "F\n",
      "i = 5, get = None\n",
      "F\n",
      "i = 6, get = None\n",
      "F\n",
      "i = 7, get = None\n",
      "F\n",
      "i = 8, get = None\n",
      "F\n",
      "i = 9, get = None\n",
      "F\n",
      "i = 10, get = None\n",
      "F\n",
      "i = 11, get = None\n",
      "F\n",
      "i = 12, get = None\n",
      "F\n",
      "i = 13, get = None\n",
      "F\n",
      "i = 14, get = None\n",
      "F\n",
      "i = 15, get = None\n",
      "F\n",
      "i = 16, get = None\n",
      "F\n",
      "i = 17, get = None\n",
      "F\n",
      "i = 18, get = None\n",
      "F\n",
      "i = 19, get = None\n",
      "F\n",
      "i = 20, get = None\n",
      "F\n",
      "i = 21, get = None\n",
      "F\n",
      "i = 22, get = None\n",
      "F\n",
      "i = 23, get = None\n",
      "F\n",
      "i = 24, get = None\n",
      "F\n",
      "i = 25, get = None\n",
      "F\n",
      "i = 26, get = None\n",
      "F\n",
      "i = 27, get = None\n",
      "F\n",
      "i = 28, get = None\n",
      "F\n",
      "i = 29, get = None\n",
      "F\n",
      "i = 30, get = None\n",
      "F\n",
      "i = 31, get = None\n",
      "F\n",
      "i = 32, get = None\n",
      "F\n",
      "i = 33, get = None\n",
      "F\n",
      "i = 34, get = None\n",
      "F\n",
      "i = 35, get = None\n",
      "F\n",
      "i = 36, get = None\n",
      "F\n",
      "i = 37, get = None\n",
      "F\n",
      "i = 38, get = None\n",
      "F\n",
      "i = 39, get = None\n",
      "F\n",
      "i = 40, get = None\n",
      "F\n",
      "i = 41, get = None\n",
      "F\n",
      "i = 42, get = None\n",
      "F\n",
      "i = 43, get = None\n",
      "F\n",
      "i = 44, get = None\n",
      "F\n",
      "i = 45, get = None\n",
      "F\n",
      "i = 46, get = None\n",
      "F\n",
      "i = 47, get = None\n",
      "F\n",
      "i = 48, get = None\n",
      "F\n",
      "i = 49, get = None\n",
      "F\n",
      "i = 50, get = None\n",
      "F\n",
      "i = 51, get = None\n",
      "F\n",
      "i = 52, get = None\n",
      "F\n",
      "i = 53, get = None\n",
      "F\n",
      "i = 54, get = None\n",
      "F\n",
      "i = 55, get = None\n",
      "F\n",
      "i = 56, get = None\n",
      "F\n",
      "i = 57, get = None\n",
      "F\n",
      "i = 58, get = None\n",
      "F\n",
      "i = 59, get = None\n",
      "F\n",
      "i = 60, get = None\n",
      "D\n",
      "i = 61, get = None\n",
      "D\n",
      "i = 62, get = None\n",
      "D\n",
      "i = 63, get = None\n",
      "D\n",
      "i = 64, get = None\n",
      "D\n",
      "i = 65, get = None\n",
      "D\n",
      "i = 66, get = None\n",
      "D\n",
      "i = 67, get = None\n",
      "D\n",
      "i = 68, get = None\n",
      "D\n",
      "i = 69, get = None\n",
      "D\n",
      "i = 70, get = None\n",
      "D\n",
      "i = 71, get = None\n",
      "D\n",
      "i = 72, get = None\n",
      "D\n",
      "i = 73, get = None\n",
      "D\n",
      "i = 74, get = None\n",
      "D\n",
      "i = 75, get = None\n",
      "D\n",
      "i = 76, get = None\n",
      "D\n",
      "i = 77, get = None\n",
      "D\n",
      "i = 78, get = None\n",
      "D\n",
      "i = 79, get = None\n",
      "B\n",
      "i = 80, get = None\n",
      "B\n",
      "i = 81, get = None\n",
      "B\n",
      "i = 82, get = None\n",
      "B\n",
      "i = 83, get = None\n",
      "B\n",
      "i = 84, get = None\n",
      "B\n",
      "i = 85, get = None\n",
      "B\n",
      "i = 86, get = None\n",
      "B\n",
      "i = 87, get = None\n",
      "B\n",
      "i = 88, get = None\n",
      "B\n",
      "i = 89, get = None\n",
      "A\n",
      "i = 90, get = None\n",
      "A\n",
      "i = 91, get = None\n",
      "A\n",
      "i = 92, get = None\n",
      "A\n",
      "i = 93, get = None\n",
      "A\n",
      "i = 94, get = None\n",
      "A\n",
      "i = 95, get = None\n",
      "A\n",
      "i = 96, get = None\n",
      "A\n",
      "i = 97, get = None\n",
      "A\n",
      "i = 98, get = None\n",
      "A\n",
      "i = 99, get = None\n",
      "A\n",
      "i = 100, get = None\n"
     ]
    }
   ],
   "source": [
    "for i in range(101):\n",
    "    print(f\"i = {i}, get = {S(i)}\")"
   ]
  },
  {
   "cell_type": "code",
   "execution_count": 28,
   "metadata": {},
   "outputs": [
    {
     "name": "stdout",
     "output_type": "stream",
     "text": [
      "If your score = 0, your will get S-Rating: F\n",
      "If your score = 1, your will get S-Rating: F\n",
      "If your score = 2, your will get S-Rating: F\n",
      "If your score = 3, your will get S-Rating: F\n",
      "If your score = 4, your will get S-Rating: F\n",
      "If your score = 5, your will get S-Rating: F\n",
      "If your score = 6, your will get S-Rating: F\n",
      "If your score = 7, your will get S-Rating: F\n",
      "If your score = 8, your will get S-Rating: F\n",
      "If your score = 9, your will get S-Rating: F\n",
      "If your score = 10, your will get S-Rating: F\n",
      "If your score = 11, your will get S-Rating: F\n",
      "If your score = 12, your will get S-Rating: F\n",
      "If your score = 13, your will get S-Rating: F\n",
      "If your score = 14, your will get S-Rating: F\n",
      "If your score = 15, your will get S-Rating: F\n",
      "If your score = 16, your will get S-Rating: F\n",
      "If your score = 17, your will get S-Rating: F\n",
      "If your score = 18, your will get S-Rating: F\n",
      "If your score = 19, your will get S-Rating: F\n",
      "If your score = 20, your will get S-Rating: F\n",
      "If your score = 21, your will get S-Rating: F\n",
      "If your score = 22, your will get S-Rating: F\n",
      "If your score = 23, your will get S-Rating: F\n",
      "If your score = 24, your will get S-Rating: F\n",
      "If your score = 25, your will get S-Rating: F\n",
      "If your score = 26, your will get S-Rating: F\n",
      "If your score = 27, your will get S-Rating: F\n",
      "If your score = 28, your will get S-Rating: F\n",
      "If your score = 29, your will get S-Rating: F\n",
      "If your score = 30, your will get S-Rating: F\n",
      "If your score = 31, your will get S-Rating: F\n",
      "If your score = 32, your will get S-Rating: F\n",
      "If your score = 33, your will get S-Rating: F\n",
      "If your score = 34, your will get S-Rating: F\n",
      "If your score = 35, your will get S-Rating: F\n",
      "If your score = 36, your will get S-Rating: F\n",
      "If your score = 37, your will get S-Rating: F\n",
      "If your score = 38, your will get S-Rating: F\n",
      "If your score = 39, your will get S-Rating: F\n",
      "If your score = 40, your will get S-Rating: F\n",
      "If your score = 41, your will get S-Rating: F\n",
      "If your score = 42, your will get S-Rating: F\n",
      "If your score = 43, your will get S-Rating: F\n",
      "If your score = 44, your will get S-Rating: F\n",
      "If your score = 45, your will get S-Rating: F\n",
      "If your score = 46, your will get S-Rating: F\n",
      "If your score = 47, your will get S-Rating: F\n",
      "If your score = 48, your will get S-Rating: F\n",
      "If your score = 49, your will get S-Rating: F\n",
      "If your score = 50, your will get S-Rating: F\n",
      "If your score = 51, your will get S-Rating: F\n",
      "If your score = 52, your will get S-Rating: F\n",
      "If your score = 53, your will get S-Rating: F\n",
      "If your score = 54, your will get S-Rating: F\n",
      "If your score = 55, your will get S-Rating: F\n",
      "If your score = 56, your will get S-Rating: F\n",
      "If your score = 57, your will get S-Rating: F\n",
      "If your score = 58, your will get S-Rating: F\n",
      "If your score = 59, your will get S-Rating: F\n",
      "If your score = 60, your will get S-Rating: F\n",
      "If your score = 61, your will get S-Rating: D\n",
      "If your score = 62, your will get S-Rating: D\n",
      "If your score = 63, your will get S-Rating: D\n",
      "If your score = 64, your will get S-Rating: D\n",
      "If your score = 65, your will get S-Rating: D\n",
      "If your score = 66, your will get S-Rating: D\n",
      "If your score = 67, your will get S-Rating: D\n",
      "If your score = 68, your will get S-Rating: D\n",
      "If your score = 69, your will get S-Rating: D\n",
      "If your score = 70, your will get S-Rating: D\n",
      "If your score = 71, your will get S-Rating: D\n",
      "If your score = 72, your will get S-Rating: D\n",
      "If your score = 73, your will get S-Rating: D\n",
      "If your score = 74, your will get S-Rating: D\n",
      "If your score = 75, your will get S-Rating: D\n",
      "If your score = 76, your will get S-Rating: D\n",
      "If your score = 77, your will get S-Rating: D\n",
      "If your score = 78, your will get S-Rating: D\n",
      "If your score = 79, your will get S-Rating: D\n",
      "If your score = 80, your will get S-Rating: B\n",
      "If your score = 81, your will get S-Rating: B\n",
      "If your score = 82, your will get S-Rating: B\n",
      "If your score = 83, your will get S-Rating: B\n",
      "If your score = 84, your will get S-Rating: B\n",
      "If your score = 85, your will get S-Rating: B\n",
      "If your score = 86, your will get S-Rating: B\n",
      "If your score = 87, your will get S-Rating: B\n",
      "If your score = 88, your will get S-Rating: B\n",
      "If your score = 89, your will get S-Rating: B\n",
      "If your score = 90, your will get S-Rating: A\n",
      "If your score = 91, your will get S-Rating: A\n",
      "If your score = 92, your will get S-Rating: A\n",
      "If your score = 93, your will get S-Rating: A\n",
      "If your score = 94, your will get S-Rating: A\n",
      "If your score = 95, your will get S-Rating: A\n",
      "If your score = 96, your will get S-Rating: A\n",
      "If your score = 97, your will get S-Rating: A\n",
      "If your score = 98, your will get S-Rating: A\n",
      "If your score = 99, your will get S-Rating: A\n",
      "If your score = 100, your will get S-Rating: A\n"
     ]
    }
   ],
   "source": [
    "def SPlus(s = 0):\n",
    "    if s >= 90:\n",
    "        return 'A'\n",
    "    elif s >= 80:\n",
    "        return 'B'\n",
    "    elif s > 60:\n",
    "        return \"D\"\n",
    "    elif s > 70:\n",
    "        return \"C\"\n",
    "    else :\n",
    "        return \"F\"\n",
    "\n",
    "\n",
    "scoreSet = list(range(101))\n",
    "for score in scoreSet:\n",
    "    SRating = SPlus(score)\n",
    "    print('If your score = {}, your will get S-Rating: {}'.format(score, SRating))"
   ]
  },
  {
   "cell_type": "markdown",
   "metadata": {},
   "source": [
    "## 105-10_10"
   ]
  },
  {
   "cell_type": "code",
   "execution_count": 29,
   "metadata": {},
   "outputs": [
    {
     "data": {
      "text/plain": [
       "[0, 0, 0, 3, 2]"
      ]
     },
     "execution_count": 29,
     "metadata": {},
     "output_type": "execute_result"
    }
   ],
   "source": [
    "def K(p = [], v = 0):\n",
    "    if p[v] != v:\n",
    "        p[v] = K(p, p[v])\n",
    "    return p[v]\n",
    "\n",
    "def G(p = [], l=0, r=0):\n",
    "    a = K(p, l)\n",
    "    b = K(p, r)\n",
    "    if a!= b:\n",
    "        p[b] = a\n",
    "\n",
    "p = [0, 1, 2, 3, 4]\n",
    "G(p, 0, 1)\n",
    "G(p, 2, 4)\n",
    "G(p, 0, 4)\n",
    "\n",
    "p"
   ]
  },
  {
   "cell_type": "markdown",
   "metadata": {},
   "source": [
    "## 105-10_11"
   ]
  },
  {
   "cell_type": "code",
   "execution_count": 30,
   "metadata": {},
   "outputs": [
    {
     "name": "stdout",
     "output_type": "stream",
     "text": [
      "20\n"
     ]
    }
   ],
   "source": [
    "maze = [[1, 1, 1, 1, 1], [1, 0, 1, 0, 1], [1, 1, 0, 0, 1], [1, 0, 0, 1, 1], [1, 1, 1, 1, 1]]\n",
    "count = 0\n",
    "\n",
    "for i in range(1, 3+1):\n",
    "    for j in range(1, 3+1):\n",
    "        dir = [[-1, 0], [0, 1], [1, 0], [0, -1]]\n",
    "        for d in range(4):\n",
    "            if maze[i+dir[d][0]][j+dir[d][1]] == 1:\n",
    "                count += 1\n",
    "                \n",
    "print(count)    "
   ]
  },
  {
   "cell_type": "markdown",
   "metadata": {},
   "source": [
    "## 105-10_12"
   ]
  },
  {
   "cell_type": "code",
   "execution_count": 31,
   "metadata": {},
   "outputs": [
    {
     "name": "stdout",
     "output_type": "stream",
     "text": [
      "5 11 17 23 "
     ]
    }
   ],
   "source": [
    "a = 5\n",
    "i = 0\n",
    "while i < 20:\n",
    "#     ===\n",
    "    i += a\n",
    "    print('{} '.format(i), end='')\n",
    "#     ===\n",
    "    i+= 1"
   ]
  },
  {
   "cell_type": "markdown",
   "metadata": {},
   "source": [
    "## 105-10_13\n",
    "### '\\0'    空字元，用於字串的結束"
   ]
  },
  {
   "cell_type": "markdown",
   "metadata": {},
   "source": [
    "## 105-3_14"
   ]
  },
  {
   "cell_type": "code",
   "execution_count": 39,
   "metadata": {},
   "outputs": [
    {
     "name": "stdout",
     "output_type": "stream",
     "text": [
      "True\n",
      "False\n",
      "True\n",
      "False\n"
     ]
    }
   ],
   "source": [
    "x = True\n",
    "y = True\n",
    "z = False\n",
    "\n",
    "print(not(y or z) or x)\n",
    "print(not y or (z or not x))\n",
    "print(z or (x and (y or z)))\n",
    "print(( x or x) and z)"
   ]
  },
  {
   "cell_type": "markdown",
   "metadata": {},
   "source": [
    "## 105-10_15"
   ]
  },
  {
   "cell_type": "code",
   "execution_count": 42,
   "metadata": {},
   "outputs": [
    {
     "name": "stdout",
     "output_type": "stream",
     "text": [
      "52\n"
     ]
    }
   ],
   "source": [
    "i = 0\n",
    "sum_ = 0\n",
    "arr = list(range(10))\n",
    "\n",
    "for i in range(10):\n",
    "    arr[i] = i\n",
    "    \n",
    "sum_ = 0\n",
    "\n",
    "for i in range(1, 9):\n",
    "    sum_ = sum_ - arr[i-1] + arr[i] + arr[i+1]\n",
    "    \n",
    "print(sum_)"
   ]
  },
  {
   "cell_type": "markdown",
   "metadata": {},
   "source": [
    "## 105-10_16\n",
    "\n",
    "* \\*為指標\n",
    "* \\*\\*指標的指標"
   ]
  },
  {
   "cell_type": "markdown",
   "metadata": {},
   "source": [
    "## 105-10_17"
   ]
  },
  {
   "cell_type": "code",
   "execution_count": 49,
   "metadata": {},
   "outputs": [
    {
     "name": "stdout",
     "output_type": "stream",
     "text": [
      "******\n",
      " ****\n",
      "  **\n",
      "   \n"
     ]
    }
   ],
   "source": [
    "for i in range(3+1):\n",
    "    for j in range(i):\n",
    "        print(' ', end = '')\n",
    "        \n",
    "    k = 6 - 2*i\n",
    "    while k > 0 :\n",
    "#         ===\n",
    "        print('*', end = '')\n",
    "#         ===\n",
    "        k -= 1\n",
    "    print('')"
   ]
  },
  {
   "cell_type": "markdown",
   "metadata": {},
   "source": [
    "## 105-10_18"
   ]
  },
  {
   "cell_type": "code",
   "execution_count": 53,
   "metadata": {},
   "outputs": [
    {
     "name": "stdout",
     "output_type": "stream",
     "text": [
      "1 2 3 2 1 "
     ]
    }
   ],
   "source": [
    "def G(a = 0):\n",
    "    print(\"{} \".format(a), end = '')\n",
    "    if a >= 3:\n",
    "        return\n",
    "    else:\n",
    "        G(a + 1)\n",
    "    print('{} '.format(a), end = '')\n",
    "    \n",
    "G(1)"
   ]
  },
  {
   "cell_type": "markdown",
   "metadata": {},
   "source": [
    "## 105-10_19"
   ]
  },
  {
   "cell_type": "code",
   "execution_count": 58,
   "metadata": {},
   "outputs": [
    {
     "name": "stdout",
     "output_type": "stream",
     "text": [
      "500 : 1.0 pieces\n",
      "100 : 2.0 pieces\n",
      "10 : 7.0 pieces\n",
      "5 : 1.0 pieces\n",
      "1 : 2.0 pieces\n"
     ]
    }
   ],
   "source": [
    "Total = 223\n",
    "Paid = 1000\n",
    "Change = 0\n",
    "\n",
    "Change = Paid - Total\n",
    "print('500 : {} pieces'.format((Change - Change % 500)/500))\n",
    "Change = Change % 500\n",
    "\n",
    "# A區\n",
    "print('100 : {} pieces'.format((Change - Change % 100)/100))\n",
    "Change = Change % 100\n",
    "\n",
    "# B區\n",
    "print('10 : {} pieces'.format((Change - Change % 10)/10))\n",
    "Change = Change % 10\n",
    "\n",
    "# C區\n",
    "print('5 : {} pieces'.format((Change - Change % 5)/5))\n",
    "Change = Change % 5\n",
    "\n",
    "# D區\n",
    "print('1 : {} pieces'.format((Change - Change % 1)/1))\n",
    "Change = Change % 1"
   ]
  },
  {
   "cell_type": "code",
   "execution_count": 61,
   "metadata": {},
   "outputs": [
    {
     "name": "stdout",
     "output_type": "stream",
     "text": [
      "500 : 1.0 pieces\n",
      "100 : 2.0 pieces\n",
      "10 : 7.0 pieces\n",
      "5 : 1.0 pieces\n",
      "1 : 2.0 pieces\n"
     ]
    }
   ],
   "source": [
    "# denominations 面額\n",
    "# remain 剩餘\n",
    "def calculateRemain(denomination = 1, currentRemine = 0):\n",
    "    print('{} : {} pieces'.format(denomination, (currentRemine - currentRemine % denomination)/denomination))\n",
    "    return currentRemine % denomination\n",
    "\n",
    "Total = 223\n",
    "Paid = 1000\n",
    "Change = 0\n",
    "\n",
    "Change = Paid - Total\n",
    "Change = calculateRemain(500, Change)\n",
    "\n",
    "# A區\n",
    "Change = calculateRemain(100, Change)\n",
    "# B區\n",
    "Change = calculateRemain(10, Change)\n",
    "# C區\n",
    "Change = calculateRemain(5, Change)\n",
    "# D區\n",
    "Change = calculateRemain(1, Change)"
   ]
  },
  {
   "cell_type": "markdown",
   "metadata": {},
   "source": [
    "## 105-10_20"
   ]
  },
  {
   "cell_type": "code",
   "execution_count": 62,
   "metadata": {},
   "outputs": [
    {
     "name": "stdout",
     "output_type": "stream",
     "text": [
      "50\n"
     ]
    }
   ],
   "source": [
    "def G(B = 0):\n",
    "    B = B*B\n",
    "    return B\n",
    "\n",
    "A = 0\n",
    "m = 5\n",
    "\n",
    "A = G(m)\n",
    "if m < 10:\n",
    "    A = G(m) + A\n",
    "else:\n",
    "    A = G(m)\n",
    "    \n",
    "print(A)"
   ]
  },
  {
   "cell_type": "markdown",
   "metadata": {},
   "source": [
    "## 105-10_21"
   ]
  },
  {
   "cell_type": "code",
   "execution_count": 6,
   "metadata": {},
   "outputs": [
    {
     "name": "stdout",
     "output_type": "stream",
     "text": [
      "1\n",
      "6\n",
      "36\n",
      "216\n",
      "1296\n",
      "7776\n"
     ]
    }
   ],
   "source": [
    "def G(a = 0, x = 0):\n",
    "    if x == 0:\n",
    "        return 1\n",
    "    else:\n",
    "        return ((2 * a) + 2) * G(a, x - 1)\n",
    "#         return (a + 5) * G(a-1, x - 1)\n",
    "#         return ((3 * a) - 1) * G(a, x - 1)\n",
    "#         return (a + 6) * G(a, x - 1)\n",
    "\n",
    "\n",
    "\n",
    "    \n",
    "for x in range(6):\n",
    "    print(G(2, x))"
   ]
  },
  {
   "cell_type": "code",
   "execution_count": 22,
   "metadata": {},
   "outputs": [],
   "source": [
    "def GPlus(a , x):\n",
    "    if x == 0:\n",
    "        return 1\n",
    "    else:\n",
    "        return ((2 * a) + 2) * G(a, x - 1)"
   ]
  },
  {
   "cell_type": "code",
   "execution_count": 25,
   "metadata": {},
   "outputs": [
    {
     "ename": "TypeError",
     "evalue": "GPlus() missing 1 required positional argument: 'a'",
     "output_type": "error",
     "traceback": [
      "\u001b[0;31m---------------------------------------------------------------------------\u001b[0m",
      "\u001b[0;31mTypeError\u001b[0m                                 Traceback (most recent call last)",
      "\u001b[0;32m<ipython-input-25-e992037fefc8>\u001b[0m in \u001b[0;36m<module>\u001b[0;34m()\u001b[0m\n\u001b[0;32m----> 1\u001b[0;31m \u001b[0mGPlus\u001b[0m\u001b[0;34m(\u001b[0m\u001b[0mx\u001b[0m \u001b[0;34m=\u001b[0m \u001b[0;36m3\u001b[0m\u001b[0;34m)\u001b[0m\u001b[0;34m\u001b[0m\u001b[0m\n\u001b[0m",
      "\u001b[0;31mTypeError\u001b[0m: GPlus() missing 1 required positional argument: 'a'"
     ]
    }
   ],
   "source": [
    "GPlus(x = 3)"
   ]
  },
  {
   "cell_type": "markdown",
   "metadata": {},
   "source": [
    "## 105-10_22"
   ]
  },
  {
   "cell_type": "code",
   "execution_count": 79,
   "metadata": {},
   "outputs": [
    {
     "data": {
      "text/plain": [
       "10"
      ]
     },
     "execution_count": 79,
     "metadata": {},
     "output_type": "execute_result"
    }
   ],
   "source": [
    "int(\"A\", 16) # 是16進位的11表示為？"
   ]
  },
  {
   "cell_type": "code",
   "execution_count": 74,
   "metadata": {},
   "outputs": [
    {
     "data": {
      "text/plain": [
       "'0b1100'"
      ]
     },
     "execution_count": 74,
     "metadata": {},
     "output_type": "execute_result"
    }
   ],
   "source": [
    "bin(12) # 將12換成二進位"
   ]
  },
  {
   "cell_type": "code",
   "execution_count": 77,
   "metadata": {},
   "outputs": [
    {
     "data": {
      "text/plain": [
       "'0o14'"
      ]
     },
     "execution_count": 77,
     "metadata": {},
     "output_type": "execute_result"
    }
   ],
   "source": [
    "oct(12)"
   ]
  },
  {
   "cell_type": "code",
   "execution_count": 78,
   "metadata": {},
   "outputs": [
    {
     "data": {
      "text/plain": [
       "'0xc'"
      ]
     },
     "execution_count": 78,
     "metadata": {},
     "output_type": "execute_result"
    }
   ],
   "source": [
    "hex(12)"
   ]
  },
  {
   "cell_type": "code",
   "execution_count": 28,
   "metadata": {},
   "outputs": [
    {
     "data": {
      "text/plain": [
       "53290"
      ]
     },
     "execution_count": 28,
     "metadata": {},
     "output_type": "execute_result"
    }
   ],
   "source": [
    "int(\"d02a\", 16)"
   ]
  },
  {
   "cell_type": "markdown",
   "metadata": {},
   "source": [
    "## 105-10_23"
   ]
  },
  {
   "cell_type": "code",
   "execution_count": 30,
   "metadata": {},
   "outputs": [
    {
     "name": "stdout",
     "output_type": "stream",
     "text": [
      "1 round, i = 2\n",
      "1 round, i = 8\n",
      "1 round, i = 512\n",
      "134217728 6 \n"
     ]
    }
   ],
   "source": [
    "i = 2\n",
    "x = 3\n",
    "N = 65536\n",
    "\n",
    "count = 1\n",
    "while (i <= N):\n",
    "    print (f\"{count} round, i = {i}\")\n",
    "    i = i*i*i\n",
    "    x += 1\n",
    "\n",
    "print(f'{i} {x} ')"
   ]
  },
  {
   "cell_type": "code",
   "execution_count": 31,
   "metadata": {},
   "outputs": [
    {
     "data": {
      "text/plain": [
       "2417851639229258349412352"
      ]
     },
     "execution_count": 31,
     "metadata": {},
     "output_type": "execute_result"
    }
   ],
   "source": [
    "i * i * i"
   ]
  },
  {
   "cell_type": "markdown",
   "metadata": {},
   "source": [
    "## 105-10_24"
   ]
  },
  {
   "cell_type": "code",
   "execution_count": 81,
   "metadata": {},
   "outputs": [
    {
     "data": {
      "text/plain": [
       "2187"
      ]
     },
     "execution_count": 81,
     "metadata": {},
     "output_type": "execute_result"
    }
   ],
   "source": [
    "def G(a = 0, x = 0):\n",
    "    if x == 0:\n",
    "        return 1\n",
    "    else:\n",
    "        return (a * G(a, x-1))\n",
    "    \n",
    "G(3, 7)"
   ]
  },
  {
   "cell_type": "markdown",
   "metadata": {},
   "source": [
    "## 105-_25"
   ]
  },
  {
   "cell_type": "code",
   "execution_count": 89,
   "metadata": {},
   "outputs": [
    {
     "name": "stdout",
     "output_type": "stream",
     "text": [
      "4\n"
     ]
    }
   ],
   "source": [
    "from math import ceil\n",
    "\n",
    "def search(x = 0, y = 0, z = 0):\n",
    "    if x < y:\n",
    "        t = ceil((x + y) / 2)\n",
    "        \n",
    "        if z >= t:\n",
    "            search(t, y, z)\n",
    "        else:\n",
    "            search(x, t-1, z)\n",
    "            \n",
    "    try:\n",
    "        search.count += 1   # 修改函式屬性的值\n",
    "    except AttributeError: \n",
    "        search.count = 1   # 建立函式的屬性\n",
    "\n",
    "\n",
    "\n",
    "search(1, 10, 3)\n",
    "print(search.count)"
   ]
  },
  {
   "cell_type": "code",
   "execution_count": 84,
   "metadata": {},
   "outputs": [
    {
     "data": {
      "text/plain": [
       "2.5"
      ]
     },
     "execution_count": 84,
     "metadata": {},
     "output_type": "execute_result"
    }
   ],
   "source": [
    "(2+3)/2"
   ]
  },
  {
   "cell_type": "code",
   "execution_count": null,
   "metadata": {},
   "outputs": [],
   "source": []
  }
 ],
 "metadata": {
  "kernelspec": {
   "display_name": "Python 3",
   "language": "python",
   "name": "python3"
  },
  "language_info": {
   "codemirror_mode": {
    "name": "ipython",
    "version": 3
   },
   "file_extension": ".py",
   "mimetype": "text/x-python",
   "name": "python",
   "nbconvert_exporter": "python",
   "pygments_lexer": "ipython3",
   "version": "3.6.4"
  }
 },
 "nbformat": 4,
 "nbformat_minor": 2
}
