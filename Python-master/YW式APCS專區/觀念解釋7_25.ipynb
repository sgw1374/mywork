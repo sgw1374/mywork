{
 "cells": [
  {
   "cell_type": "markdown",
   "metadata": {},
   "source": [
    "# ５\n",
    "\n",
    "呼叫 $f(1000)$ 時 $sum = sum + i$ 被執行的次數最接近何者"
   ]
  },
  {
   "cell_type": "code",
   "execution_count": 10,
   "metadata": {},
   "outputs": [
    {
     "name": "stdout",
     "output_type": "stream",
     "text": [
      "f(1000) = 900336, count = 2980\n"
     ]
    }
   ],
   "source": [
    "count = 0\n",
    "def f(n):\n",
    "    global count #使用global來宣告此變數為外部變數\n",
    "    if n < 2 :\n",
    "        return 0\n",
    "    \n",
    "    sum=0\n",
    "    for i in range(1, n+1):\n",
    "        count = count+ 1\n",
    "        sum = sum + i\n",
    "        \n",
    "    newN = (2*n)//3\n",
    "    sum = sum + f(newN)\n",
    "    \n",
    "    return sum\n",
    "\n",
    "n = 1000\n",
    "result = f(n)\n",
    "print(f'f({n}) = {result}, count = {count}')"
   ]
  },
  {
   "cell_type": "markdown",
   "metadata": {},
   "source": [
    "# 7\n",
    "\n",
    "$a(13, 15)$ 的回傳值會是多少？"
   ]
  },
  {
   "cell_type": "code",
   "execution_count": 11,
   "metadata": {},
   "outputs": [
    {
     "data": {
      "text/plain": [
       "103"
      ]
     },
     "execution_count": 11,
     "metadata": {},
     "output_type": "execute_result"
    }
   ],
   "source": [
    "def a(n=0, m=0):\n",
    "    if n < 10:\n",
    "        if m < 10 :\n",
    "            return n + m\n",
    "        else :\n",
    "            return a(n, m - 2) + m\n",
    "    else :\n",
    "        return a(n - 1, m) + n\n",
    "    \n",
    "a(13, 15)"
   ]
  },
  {
   "cell_type": "markdown",
   "metadata": {},
   "source": [
    "# 8\n",
    "    \n",
    "    計算費式數列，空格該填入什麼？"
   ]
  },
  {
   "cell_type": "code",
   "execution_count": 13,
   "metadata": {},
   "outputs": [
    {
     "name": "stdout",
     "output_type": "stream",
     "text": [
      "1\n",
      "2\n",
      "3\n",
      "5\n",
      "8\n",
      "13\n",
      "21\n",
      "34\n",
      "55\n"
     ]
    }
   ],
   "source": [
    "a = 0\n",
    "b = 1\n",
    "i = 0\n",
    "temp = 0\n",
    "N = 10\n",
    "\n",
    "\n",
    "for i in range(2, N+1):\n",
    "    temp = b\n",
    "    b = b + a\n",
    "    a = temp\n",
    "    \n",
    "#     a, b = b, a+b #此行可以完全取代上面四行\n",
    "    print(b)"
   ]
  },
  {
   "cell_type": "markdown",
   "metadata": {},
   "source": [
    "# 9\n",
    "    輸出為何？\n",
    "    以下為分解寫法"
   ]
  },
  {
   "cell_type": "code",
   "execution_count": 1,
   "metadata": {},
   "outputs": [
    {
     "data": {
      "text/plain": [
       "[0, 0, 0, 0, 0]"
      ]
     },
     "execution_count": 1,
     "metadata": {},
     "output_type": "execute_result"
    }
   ],
   "source": [
    "A =[0] *5\n",
    "A"
   ]
  },
  {
   "cell_type": "code",
   "execution_count": 2,
   "metadata": {},
   "outputs": [
    {
     "data": {
      "text/plain": [
       "[0]"
      ]
     },
     "execution_count": 2,
     "metadata": {},
     "output_type": "execute_result"
    }
   ],
   "source": [
    "B = [0]\n",
    "B"
   ]
  },
  {
   "cell_type": "code",
   "execution_count": 4,
   "metadata": {},
   "outputs": [],
   "source": [
    "for i in range(1, 4+1):\n",
    "    A[i] = 2 + i*4\n",
    "    B.append(i*5)"
   ]
  },
  {
   "cell_type": "code",
   "execution_count": 5,
   "metadata": {},
   "outputs": [
    {
     "data": {
      "text/plain": [
       "[0, 6, 10, 14, 18]"
      ]
     },
     "execution_count": 5,
     "metadata": {},
     "output_type": "execute_result"
    }
   ],
   "source": [
    "A"
   ]
  },
  {
   "cell_type": "code",
   "execution_count": 6,
   "metadata": {},
   "outputs": [
    {
     "data": {
      "text/plain": [
       "[0, 5, 10, 15, 20]"
      ]
     },
     "execution_count": 6,
     "metadata": {},
     "output_type": "execute_result"
    }
   ],
   "source": [
    "B"
   ]
  },
  {
   "cell_type": "code",
   "execution_count": 7,
   "metadata": {},
   "outputs": [
    {
     "name": "stdout",
     "output_type": "stream",
     "text": [
      "4\n"
     ]
    }
   ],
   "source": [
    "c =0\n",
    "for i in range(1, 5):\n",
    "    if B[i] > A[i]:\n",
    "        c = c+ (B[i] % A[i])\n",
    "    else:\n",
    "        c = 1\n",
    "print(c)"
   ]
  },
  {
   "cell_type": "markdown",
   "metadata": {},
   "source": [
    "    以下為合併同cell寫法"
   ]
  },
  {
   "cell_type": "code",
   "execution_count": 14,
   "metadata": {},
   "outputs": [
    {
     "name": "stdout",
     "output_type": "stream",
     "text": [
      "4\n"
     ]
    }
   ],
   "source": [
    "A =[0] *5\n",
    "B = [0]\n",
    "i = 0\n",
    "c = 0\n",
    "\n",
    "for i in range(1, 4+1):\n",
    "    A[i] = 2 + i*4\n",
    "    B.append(i*5)\n",
    "    \n",
    "for i in range(1, 5):\n",
    "    if B[i] > A[i]:\n",
    "        c = c+ (B[i] % A[i])\n",
    "    else:\n",
    "        c = 1\n",
    "print(c)"
   ]
  },
  {
   "cell_type": "markdown",
   "metadata": {},
   "source": [
    "# 10\n",
    "\n",
    "請問 $g(13)$ 回傳值為何？"
   ]
  },
  {
   "cell_type": "code",
   "execution_count": 15,
   "metadata": {},
   "outputs": [
    {
     "data": {
      "text/plain": [
       "19"
      ]
     },
     "execution_count": 15,
     "metadata": {},
     "output_type": "execute_result"
    }
   ],
   "source": [
    "def g(a = 0):\n",
    "    if a > 1:\n",
    "        return g(a - 2) + 3\n",
    "    else :\n",
    "        return a\n",
    "    \n",
    "g(13)"
   ]
  },
  {
   "cell_type": "markdown",
   "metadata": {},
   "source": [
    "# 11\n",
    "\n",
    "$a[n]$ 為一陣列，若要將 $a[0]$ 移到 $a[n-1]$, $i$ 的範圍是多少？ "
   ]
  },
  {
   "cell_type": "code",
   "execution_count": 19,
   "metadata": {},
   "outputs": [
    {
     "name": "stdout",
     "output_type": "stream",
     "text": [
      "i=0, a = [1, 0, 2, 3, 4, 5, 6, 7, 8, 9]\n",
      "i=1, a = [1, 2, 0, 3, 4, 5, 6, 7, 8, 9]\n",
      "i=2, a = [1, 2, 3, 0, 4, 5, 6, 7, 8, 9]\n",
      "i=3, a = [1, 2, 3, 4, 0, 5, 6, 7, 8, 9]\n",
      "i=4, a = [1, 2, 3, 4, 5, 0, 6, 7, 8, 9]\n",
      "i=5, a = [1, 2, 3, 4, 5, 6, 0, 7, 8, 9]\n",
      "i=6, a = [1, 2, 3, 4, 5, 6, 7, 0, 8, 9]\n",
      "i=7, a = [1, 2, 3, 4, 5, 6, 7, 8, 0, 9]\n",
      "i=8, a = [1, 2, 3, 4, 5, 6, 7, 8, 9, 0]\n"
     ]
    }
   ],
   "source": [
    "i = 0\n",
    "hold = 0\n",
    "n = 0\n",
    "\n",
    "a = list(range(10))# 為了測試，隨意造了一個串列 a\n",
    "n = len(a) #先取得串列長度，以利後續決定for 的次數。\n",
    "\n",
    "for i in range(n - 2 + 1):    \n",
    "    hold = a[i]\n",
    "    a[i] = a[i+1]\n",
    "    a[i+1] = hold\n",
    "    \n",
    "    print(f'i={i}, a = {a}')#此行原文當中沒有，但印出a可以看到最前面的元素不斷後移動過程"
   ]
  },
  {
   "cell_type": "code",
   "execution_count": null,
   "metadata": {},
   "outputs": [],
   "source": []
  }
 ],
 "metadata": {
  "kernelspec": {
   "display_name": "Python 3",
   "language": "python",
   "name": "python3"
  },
  "language_info": {
   "codemirror_mode": {
    "name": "ipython",
    "version": 3
   },
   "file_extension": ".py",
   "mimetype": "text/x-python",
   "name": "python",
   "nbconvert_exporter": "python",
   "pygments_lexer": "ipython3",
   "version": "3.6.4"
  }
 },
 "nbformat": 4,
 "nbformat_minor": 2
}
