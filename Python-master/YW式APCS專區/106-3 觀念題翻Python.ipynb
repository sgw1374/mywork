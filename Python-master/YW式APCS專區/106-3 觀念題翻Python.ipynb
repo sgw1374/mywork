{
 "cells": [
  {
   "cell_type": "markdown",
   "metadata": {},
   "source": [
    "## 106-3_1"
   ]
  },
  {
   "cell_type": "code",
   "execution_count": 7,
   "metadata": {},
   "outputs": [
    {
     "name": "stdout",
     "output_type": "stream",
     "text": [
      "0\n",
      "2\n",
      "12\n",
      "14\n"
     ]
    }
   ],
   "source": [
    "A = [0, 2, 4, 6, 8, 10, 12, 14]\n",
    "# A = list(range(0, 15, 2))\n",
    "\n",
    "def Search(x = 0):\n",
    "    high = 7\n",
    "    low = 0\n",
    "    while high > low:\n",
    "        mid = int((high+low)/2)\n",
    "        if A[mid] <= x:\n",
    "            low = mid + 1\n",
    "        else:\n",
    "            high = mid\n",
    "    return A[high]\n",
    "\n",
    "print(Search(-1))\n",
    "print(Search(0))\n",
    "print(Search(10))\n",
    "print(Search(16))"
   ]
  },
  {
   "cell_type": "code",
   "execution_count": 6,
   "metadata": {},
   "outputs": [
    {
     "data": {
      "text/plain": [
       "3"
      ]
     },
     "execution_count": 6,
     "metadata": {},
     "output_type": "execute_result"
    }
   ],
   "source": [
    "int(3.6)"
   ]
  },
  {
   "cell_type": "markdown",
   "metadata": {},
   "source": [
    "## 106-3_2"
   ]
  },
  {
   "cell_type": "code",
   "execution_count": 8,
   "metadata": {},
   "outputs": [],
   "source": [
    "def A1(n = 0):\n",
    "    F(int(n/5))\n",
    "    F(int(4*n/5))\n",
    "    \n",
    "def A2(n = 0):\n",
    "    F(int(2*n/5))\n",
    "    F(int(3*n/5))\n",
    "    \n",
    "def F(x = 0):\n",
    "    i = 0\n",
    "    for i in range(x):\n",
    "        print('*',end='')\n",
    "    if x > 1:\n",
    "        F(int(x/2))\n",
    "        F(int(x/2))"
   ]
  },
  {
   "cell_type": "code",
   "execution_count": 17,
   "metadata": {},
   "outputs": [
    {
     "name": "stdout",
     "output_type": "stream",
     "text": [
      "*************************************************\n",
      "======\n",
      "*************************************************"
     ]
    }
   ],
   "source": [
    "x = 15\n",
    "A1(x)\n",
    "print()\n",
    "print('======')\n",
    "A2(x)"
   ]
  },
  {
   "cell_type": "code",
   "execution_count": 27,
   "metadata": {},
   "outputs": [],
   "source": [
    "def testCase(x = 0):\n",
    "    print('================= case = {} ================='.format(x))\n",
    "    print(\"A1({})=\".format(x))\n",
    "    A1(x)\n",
    "    print()\n",
    "    print(\"A2({})=\".format(x))\n",
    "    A2(x)\n",
    "    print()\n"
   ]
  },
  {
   "cell_type": "code",
   "execution_count": 28,
   "metadata": {},
   "outputs": [
    {
     "name": "stdout",
     "output_type": "stream",
     "text": [
      "================= case = 5 =================\n",
      "A1(5)=\n",
      "*************\n",
      "A2(5)=\n",
      "*********\n",
      "================= case = 13 =================\n",
      "A1(13)=\n",
      "****************************************\n",
      "A2(13)=\n",
      "******************************\n",
      "================= case = 14 =================\n",
      "A1(14)=\n",
      "*****************************************\n",
      "A2(14)=\n",
      "*********************************************\n",
      "================= case = 15 =================\n",
      "A1(15)=\n",
      "*************************************************\n",
      "A2(15)=\n",
      "*************************************************\n"
     ]
    }
   ],
   "source": [
    "testSet = [5, 13, 14, 15]\n",
    "for testX in testSet:\n",
    "#     print(\"x = {}\".format(testX))\n",
    "    testCase(testX)"
   ]
  },
  {
   "cell_type": "markdown",
   "metadata": {},
   "source": [
    "## 106-3_3"
   ]
  },
  {
   "cell_type": "code",
   "execution_count": 34,
   "metadata": {},
   "outputs": [
    {
     "data": {
      "text/plain": [
       "40"
      ]
     },
     "execution_count": 34,
     "metadata": {},
     "output_type": "execute_result"
    }
   ],
   "source": [
    "def F(n = 0):\n",
    "    if n < 4:\n",
    "        return n\n",
    "    else:\n",
    "#         return n * F(n-1)\n",
    "        return n + F(n-3)\n",
    "#         return n - F(n-2)\n",
    "#           return F(3*n + 1) #永遠無法停止(直到記憶體爆掉)\n",
    "\n",
    "  \n",
    "F(14)"
   ]
  },
  {
   "cell_type": "markdown",
   "metadata": {},
   "source": [
    "## 106-3_4"
   ]
  },
  {
   "cell_type": "code",
   "execution_count": 36,
   "metadata": {},
   "outputs": [],
   "source": [
    "def GCD(a = 1, b = 1):\n",
    "    r = 0\n",
    "    r = a % b\n",
    "    if r ==0:\n",
    "        return b\n",
    "    return GCD(b, r)"
   ]
  },
  {
   "cell_type": "code",
   "execution_count": 38,
   "metadata": {},
   "outputs": [
    {
     "data": {
      "text/plain": [
       "6"
      ]
     },
     "execution_count": 38,
     "metadata": {},
     "output_type": "execute_result"
    }
   ],
   "source": [
    "GCD(18, 12)"
   ]
  },
  {
   "cell_type": "markdown",
   "metadata": {},
   "source": [
    "## 106-3_5"
   ]
  },
  {
   "cell_type": "code",
   "execution_count": 57,
   "metadata": {},
   "outputs": [
    {
     "name": "stdout",
     "output_type": "stream",
     "text": [
      "A = [99, 99, 99, 99, 99, 99, 99, 99, 99, 99] \n",
      "p = 99 \n",
      "q = 99\n"
     ]
    }
   ],
   "source": [
    "import random\n",
    "domain = list(range(100))\n",
    "n = 10\n",
    "A = []\n",
    "for n in range(n):\n",
    "#     A.append(random.choice(domain))\n",
    "    A.append(99)\n",
    "\n",
    "p = A[0]\n",
    "q = A[0]\n",
    "\n",
    "for i in range(n):\n",
    "    if A[i] > p:\n",
    "        p = A[i]\n",
    "\n",
    "    if A[i] < q:\n",
    "        q = A[i]\n",
    "        \n",
    "print('A = {} \\np = {} \\nq = {}'.format(A, p, q))"
   ]
  },
  {
   "cell_type": "markdown",
   "metadata": {},
   "source": [
    "## 106-3_6"
   ]
  },
  {
   "cell_type": "code",
   "execution_count": 28,
   "metadata": {},
   "outputs": [
    {
     "name": "stdout",
     "output_type": "stream",
     "text": [
      "The sum of row 0 is 3.\n",
      "The sum of row 1 is 7.\n",
      "The sum of row 2 is 11.\n"
     ]
    }
   ],
   "source": [
    "def main(A = [[]]):\n",
    "    M = len(A)\n",
    "    N = len(A[0])\n",
    "    \n",
    "#     rowsum = 0\n",
    "    for i in range(M):\n",
    "        rowsum = 0\n",
    "        for j in range(N):\n",
    "            rowsum = rowsum + A[i][j]\n",
    "        print(f\"The sum of row {i} is {rowsum}.\")\n",
    "        \n",
    "\n",
    "#     print(f\"The sum of row {i} is {rowsum}.\")\n",
    "\n",
    "B = [[1, 2], [3, 4], [5, 6]]\n",
    "\n",
    "main(B)"
   ]
  },
  {
   "cell_type": "markdown",
   "metadata": {},
   "source": [
    "## 106-3_7\n",
    "\n",
    "    base case 列印次數就是回傳值"
   ]
  },
  {
   "cell_type": "code",
   "execution_count": 13,
   "metadata": {},
   "outputs": [
    {
     "name": "stdout",
     "output_type": "stream",
     "text": [
      "base case 1\n",
      "base case 2\n",
      "base case 3\n",
      "base case 4\n",
      "base case 5\n",
      "base case 6\n",
      "base case 7\n",
      "base case 8\n",
      "base case 9\n",
      "base case 10\n",
      "base case 11\n",
      "base case 12\n",
      "base case 13\n",
      "base case 14\n",
      "base case 15\n",
      "base case 16\n",
      "base case 17\n",
      "base case 18\n",
      "base case 19\n",
      "base case 20\n",
      "base case 21\n",
      "base case 22\n",
      "base case 23\n",
      "base case 24\n",
      "base case 25\n",
      "base case 26\n"
     ]
    },
    {
     "data": {
      "text/plain": [
       "26"
      ]
     },
     "execution_count": 13,
     "metadata": {},
     "output_type": "execute_result"
    }
   ],
   "source": [
    "printCount = 0\n",
    "def B(n=0, k=0):\n",
    "    global printCount\n",
    "    if n == 0 or k == n:\n",
    "        printCount = printCount + 1\n",
    "        print(f'base case {printCount}')\n",
    "        return 1\n",
    "    return B(n-1, k-1) + B(n-1, k)\n",
    "\n",
    "B(5, 2)"
   ]
  },
  {
   "cell_type": "markdown",
   "metadata": {},
   "source": [
    "## 106-3_8"
   ]
  },
  {
   "cell_type": "code",
   "execution_count": 7,
   "metadata": {},
   "outputs": [
    {
     "name": "stdout",
     "output_type": "stream",
     "text": [
      "1(m_1),\n",
      "6(a_1, a = 1),\n",
      "7(a_2),a = 1\n",
      "7(a_1, a = 0),\n",
      "8(a_2),a = 0\n",
      "1(m_2),\n",
      "9(m_3),\n"
     ]
    }
   ],
   "source": [
    "s = 1\n",
    "\n",
    "def add(a = 0):\n",
    "#     global s\n",
    "    s = 6\n",
    "    while a >= 0:\n",
    "        print(f\"{s}(a_1, a = {a}),\")\n",
    "#         print(f\"{s},\", end='')\n",
    "        s = s+1\n",
    "        print(f\"{s}(a_2),a = {a}\")\n",
    "#         print(f'{s},', end='')\n",
    "        a = a-1\n",
    "  \n",
    "print(f'{s}(m_1),')\n",
    "# print(f'{s},', end='')\n",
    "add(s)\n",
    "print(f'{s}(m_2),')\n",
    "# print(f'{s},', end='')\n",
    "s = 9\n",
    "print(f'{s}(m_3),')\n",
    "# print(f'{s},', end='')\n"
   ]
  },
  {
   "cell_type": "code",
   "execution_count": 13,
   "metadata": {},
   "outputs": [
    {
     "name": "stdout",
     "output_type": "stream",
     "text": [
      "I am Yanwen, ad ad test \n"
     ]
    }
   ],
   "source": [
    "name = \"Yanwen\"\n",
    "age = 25\n",
    "test = 'test'\n",
    "# print(\"I am %s, %d\" % (name, test))\n",
    "print(f\"I am {name}, ad ad {test} \")"
   ]
  },
  {
   "cell_type": "code",
   "execution_count": 3,
   "metadata": {},
   "outputs": [
    {
     "name": "stdout",
     "output_type": "stream",
     "text": [
      "8 0\n"
     ]
    }
   ],
   "source": [
    "a = 4\n",
    "b = 0\n",
    "\n",
    "def f():\n",
    "    global a\n",
    "    a = 8\n",
    "    b = 6\n",
    "    \n",
    "f()\n",
    "print(a, b)\n"
   ]
  },
  {
   "cell_type": "code",
   "execution_count": 3,
   "metadata": {},
   "outputs": [],
   "source": [
    "def f(a):\n",
    "    print(a)\n",
    "    \n",
    "def g(a = 0):\n",
    "    print(a)"
   ]
  },
  {
   "cell_type": "code",
   "execution_count": 8,
   "metadata": {},
   "outputs": [
    {
     "name": "stdout",
     "output_type": "stream",
     "text": [
      "0\n"
     ]
    }
   ],
   "source": [
    "# f()\n",
    "g()"
   ]
  },
  {
   "cell_type": "markdown",
   "metadata": {},
   "source": [
    "## 105-3_9"
   ]
  },
  {
   "cell_type": "code",
   "execution_count": 81,
   "metadata": {},
   "outputs": [
    {
     "name": "stdout",
     "output_type": "stream",
     "text": [
      "4\n"
     ]
    }
   ],
   "source": [
    "A = []\n",
    "B = []\n",
    "i = 0\n",
    "c = 0\n",
    "\n",
    "for i in range(1, 4+1):\n",
    "    A.append(2 + i * 4)\n",
    "    B.append(i * 5)\n",
    "    \n",
    "c = 0\n",
    "\n",
    "for i in range(1, 4 + 1):\n",
    "    if (B[i-1] > A[i-1]) :\n",
    "        c += B[i - 1] % A [i - 1]\n",
    "    else :\n",
    "        c = 1\n",
    "        \n",
    "B.......\n",
    "print(c)"
   ]
  },
  {
   "cell_type": "markdown",
   "metadata": {},
   "source": [
    "## 105-3_10"
   ]
  },
  {
   "cell_type": "code",
   "execution_count": 82,
   "metadata": {},
   "outputs": [
    {
     "data": {
      "text/plain": [
       "19"
      ]
     },
     "execution_count": 82,
     "metadata": {},
     "output_type": "execute_result"
    }
   ],
   "source": [
    "def g(a = 0):\n",
    "    if a > 1:\n",
    "        return g(a - 2) + 3\n",
    "    else :\n",
    "        return a\n",
    "    \n",
    "g(13)"
   ]
  },
  {
   "cell_type": "markdown",
   "metadata": {},
   "source": [
    "## 105-3_11"
   ]
  },
  {
   "cell_type": "code",
   "execution_count": 97,
   "metadata": {},
   "outputs": [
    {
     "name": "stdout",
     "output_type": "stream",
     "text": [
      "0 0\n",
      "1 0\n",
      "2 0\n",
      "3 0\n",
      "4 0\n",
      "5 0\n",
      "6 0\n",
      "7 0\n",
      "8 0\n",
      "[1, 2, 3, 4, 5, 6, 7, 8, 9, 0]\n"
     ]
    }
   ],
   "source": [
    "i = 0\n",
    "hold = 0\n",
    "n = 0\n",
    "\n",
    "a = list(range(10))\n",
    "n = len(a)\n",
    "\n",
    "for i in range(n - 2 + 1):\n",
    "    print(i, hold)\n",
    "    hold = a[i]\n",
    "    a[i] = a[i+1]\n",
    "    a[i+1] = hold\n",
    "    \n",
    "print(a)"
   ]
  },
  {
   "cell_type": "markdown",
   "metadata": {},
   "source": [
    "## 105-3_12"
   ]
  },
  {
   "cell_type": "code",
   "execution_count": 102,
   "metadata": {},
   "outputs": [
    {
     "name": "stdout",
     "output_type": "stream",
     "text": [
      "1\n",
      "3\n",
      "2\n",
      "4\n",
      "2\n",
      "3\n",
      "1\n",
      "f1 Count = 2, f2 Count = 2\n"
     ]
    }
   ],
   "source": [
    "f1Counter = 0\n",
    "f2Counter = 0\n",
    "\n",
    "def f1(m = 0):\n",
    "    global f1Counter\n",
    "    f1Counter += 1\n",
    "    if m > 3 :\n",
    "        print(m)\n",
    "    else:\n",
    "        print(m)\n",
    "        f2(m + 2)\n",
    "        print(m)\n",
    "        \n",
    "def f2(n = 0):\n",
    "    global f2Counter\n",
    "    f2Counter += 1\n",
    "\n",
    "    if n > 3:\n",
    "        print(n)\n",
    "    else:\n",
    "        print(n)\n",
    "        f1(n-1)\n",
    "        print(n)\n",
    "        \n",
    "f1(1)\n",
    "print('f1 Count = {}, f2 Count = {}'.format(f1Counter, f2Counter))"
   ]
  },
  {
   "cell_type": "markdown",
   "metadata": {},
   "source": [
    "## 105-3_13"
   ]
  },
  {
   "cell_type": "code",
   "execution_count": 103,
   "metadata": {},
   "outputs": [
    {
     "name": "stdout",
     "output_type": "stream",
     "text": [
      "4\n"
     ]
    }
   ],
   "source": [
    "i= 76\n",
    "j= 48\n",
    "\n",
    "while (i%j) != 0:\n",
    "    k = i % j\n",
    "    i = j\n",
    "    j = k\n",
    "print(j)"
   ]
  },
  {
   "cell_type": "markdown",
   "metadata": {},
   "source": [
    "## 105-3_14"
   ]
  },
  {
   "cell_type": "code",
   "execution_count": 106,
   "metadata": {},
   "outputs": [
    {
     "name": "stdout",
     "output_type": "stream",
     "text": [
      "bar: 6\n",
      "bar: 1\n",
      "bar: 8\n"
     ]
    }
   ],
   "source": [
    "def foo(i = 0):\n",
    "    if i <= 5 :\n",
    "        print('foo: {}'.format(i))\n",
    "    else:\n",
    "        bar(i - 10)\n",
    "\n",
    "def bar(i = 0):\n",
    "    if i <= 10:\n",
    "        print('bar: {}'.format(i))\n",
    "    else:\n",
    "        foo(i - 5)\n",
    "        \n",
    "def main():\n",
    "    foo(15106)\n",
    "    bar(3091)\n",
    "    foo(6693)\n",
    "    \n",
    "main()"
   ]
  },
  {
   "cell_type": "markdown",
   "metadata": {},
   "source": [
    "## 105-3_15(冰雹猜想)"
   ]
  },
  {
   "cell_type": "code",
   "execution_count": 114,
   "metadata": {},
   "outputs": [
    {
     "name": "stdout",
     "output_type": "stream",
     "text": [
      "22\n",
      "11\n",
      "34\n",
      "17\n",
      "52\n",
      "26\n",
      "13\n",
      "40\n",
      "20\n",
      "10\n",
      "5\n",
      "16\n",
      "8\n",
      "4\n",
      "2\n",
      "1\n",
      "count Of Print = 16\n"
     ]
    }
   ],
   "source": [
    "countOfPrint = 0\n",
    "def f(n = 0):\n",
    "    global countOfPrint\n",
    "    countOfPrint += 1\n",
    "    print(n)\n",
    "    while n != 1:\n",
    "        if (n%2) == 1:\n",
    "            n = 3*n + 1\n",
    "        else:\n",
    "            n = n//2\n",
    "        \n",
    "        countOfPrint += 1\n",
    "        print(n)\n",
    "f(22)\n",
    "print(\"count Of Print = {}\".format(countOfPrint))"
   ]
  },
  {
   "cell_type": "code",
   "execution_count": 111,
   "metadata": {},
   "outputs": [
    {
     "data": {
      "text/plain": [
       "11"
      ]
     },
     "execution_count": 111,
     "metadata": {},
     "output_type": "execute_result"
    }
   ],
   "source": [
    "22//2"
   ]
  },
  {
   "cell_type": "markdown",
   "metadata": {},
   "source": [
    "## 105-3_16"
   ]
  },
  {
   "cell_type": "code",
   "execution_count": 116,
   "metadata": {},
   "outputs": [
    {
     "name": "stdout",
     "output_type": "stream",
     "text": [
      "16\n"
     ]
    }
   ],
   "source": [
    "count = 10\n",
    "\n",
    "if count > 0:\n",
    "    count = 11\n",
    "    \n",
    "if count > 10:\n",
    "    count = 12\n",
    "    if (count%3) == 4:\n",
    "        count = 1\n",
    "    else:\n",
    "        count = 0\n",
    "elif count > 11:\n",
    "    count = 13\n",
    "else:\n",
    "    count = 14\n",
    "    \n",
    "if count:\n",
    "    count = 15\n",
    "else:\n",
    "    count = 16\n",
    "\n",
    "print(count)"
   ]
  },
  {
   "cell_type": "markdown",
   "metadata": {},
   "source": [
    "## 105-3_17\n",
    "* #define TRUE 1 ：表示定義一個新“常數”， TRUE 代表 1\n",
    "* #define FALSE 1 ：表示定義一個新“常數”， FALSE 代表 0"
   ]
  },
  {
   "cell_type": "code",
   "execution_count": 117,
   "metadata": {},
   "outputs": [
    {
     "data": {
      "text/plain": [
       "False"
      ]
     },
     "execution_count": 117,
     "metadata": {},
     "output_type": "execute_result"
    }
   ],
   "source": [
    "True\n",
    "False"
   ]
  },
  {
   "cell_type": "code",
   "execution_count": 8,
   "metadata": {},
   "outputs": [
    {
     "name": "stdout",
     "output_type": "stream",
     "text": [
      "[0, 1, 2, 3, 4, 5]\n",
      "key some int:11\n",
      "key some int:12\n",
      "key some int:13\n",
      "key some int:14\n",
      "key some int:15\n",
      "key some int:3\n",
      "[0, 11, 12, 13, 14, 15]\n",
      ">\n",
      "i = 1, d[i] = 11 val = 3, allBig = True\n",
      ">\n",
      "i = 2, d[i] = 12 val = 3, allBig = True\n",
      ">\n",
      "i = 3, d[i] = 13 val = 3, allBig = True\n",
      ">\n",
      "i = 4, d[i] = 14 val = 3, allBig = True\n",
      ">\n",
      "i = 5, d[i] = 15 val = 3, allBig = True\n",
      "3 is the smallest.\n"
     ]
    }
   ],
   "source": [
    "d = list(range(6))\n",
    "val = 0\n",
    "allBig = 0\n",
    "\n",
    "print(d)\n",
    "for i in range(1, 5+1):\n",
    "    d[i] = int(input(\"key some int:\"))\n",
    "val = int(input('key some int:'))\n",
    "allBig = True\n",
    "\n",
    "print(d)\n",
    "\n",
    "for i in range(1, 5+1):\n",
    "    if d[i] > val:\n",
    "        allBig = True\n",
    "    else:\n",
    "        allBig = False\n",
    "        \n",
    "#     print('i = {}, d[i] = {} val = {}, allBig = {}'.format(i, d[i], val, \"True\" if allBig else \"False\"))\n",
    "        \n",
    "if allBig == True:\n",
    "    print('{} is the smallest.'.format(val))\n",
    "else:\n",
    "    print('{} is not the smallest.'.format(val))"
   ]
  },
  {
   "cell_type": "markdown",
   "metadata": {},
   "source": [
    "## 105-3_18\n",
    "1. 語法錯誤 \n",
    "2. 語意錯誤 \n",
    "3. 邏輯錯誤 \n",
    "4. 以上皆是"
   ]
  },
  {
   "cell_type": "markdown",
   "metadata": {},
   "source": [
    "## 105-3_19\n",
    "1. 120\n",
    "1. 124\n",
    "1. 128\n",
    "1. 以上皆非"
   ]
  },
  {
   "cell_type": "markdown",
   "metadata": {},
   "source": [
    "## 105-3_20"
   ]
  },
  {
   "cell_type": "code",
   "execution_count": 13,
   "metadata": {},
   "outputs": [
    {
     "data": {
      "text/plain": [
       "120"
      ]
     },
     "execution_count": 13,
     "metadata": {},
     "output_type": "execute_result"
    }
   ],
   "source": [
    "def fun(n = 0):\n",
    "    fac = 1\n",
    "    if n > 0:\n",
    "        fac = n * fun(n - 1)\n",
    "        \n",
    "    return fac\n",
    "\n",
    "fun(5)"
   ]
  },
  {
   "cell_type": "markdown",
   "metadata": {},
   "source": [
    "## 105-3_21(無法以for改寫，理解題義後以while改寫)"
   ]
  },
  {
   "cell_type": "code",
   "execution_count": 19,
   "metadata": {},
   "outputs": [
    {
     "name": "stdout",
     "output_type": "stream",
     "text": [
      "0 2 4 6 8 10 \n"
     ]
    }
   ],
   "source": [
    "# for i in range(0, 10+1, 2):\n",
    "\n",
    "#     print('{} '.format(i), end='')\n",
    "    \n",
    "# print()\n",
    "\n",
    "i = 0\n",
    "while i <= 10:\n",
    "    ### 所需迴圈內容開始\n",
    "    print('{} '.format(i), end='')\n",
    "    i += 1\n",
    "    ### 所需迴圈內容結束\n",
    "    i += 1\n",
    "    \n",
    "print()"
   ]
  },
  {
   "cell_type": "markdown",
   "metadata": {},
   "source": [
    "## 105-3_22"
   ]
  },
  {
   "cell_type": "code",
   "execution_count": 22,
   "metadata": {},
   "outputs": [
    {
     "data": {
      "text/plain": [
       "2048"
      ]
     },
     "execution_count": 22,
     "metadata": {},
     "output_type": "execute_result"
    }
   ],
   "source": [
    "def f():\n",
    "    p = 2\n",
    "    while p < 2000:\n",
    "        p *= 2\n",
    "    return p\n",
    "\n",
    "f()"
   ]
  },
  {
   "cell_type": "markdown",
   "metadata": {},
   "source": [
    "## 105-3_23"
   ]
  },
  {
   "cell_type": "code",
   "execution_count": 24,
   "metadata": {},
   "outputs": [
    {
     "name": "stdout",
     "output_type": "stream",
     "text": [
      "2468"
     ]
    }
   ],
   "source": [
    "def f(n = 0):\n",
    "    p = 0\n",
    "    i = n\n",
    "    while i>= 1:\n",
    "        p = 10 -  2*i\n",
    "        print('{}'.format(p), end='')\n",
    "        i -= 1\n",
    "f(4)"
   ]
  },
  {
   "cell_type": "markdown",
   "metadata": {},
   "source": [
    "## 105-3_24"
   ]
  },
  {
   "cell_type": "code",
   "execution_count": 25,
   "metadata": {},
   "outputs": [
    {
     "data": {
      "text/plain": [
       "13"
      ]
     },
     "execution_count": 25,
     "metadata": {},
     "output_type": "execute_result"
    }
   ],
   "source": [
    "def f(n = 0):\n",
    "    if n > 3:\n",
    "        return 1\n",
    "    elif n == 2:\n",
    "        return 3 + f(n+1)\n",
    "    else:\n",
    "        return 1+ f(n+1)\n",
    "    \n",
    "def g(n = 0):\n",
    "    j = 0\n",
    "    for i in range(1, n-1 + 1):\n",
    "        j += f(i)\n",
    "    \n",
    "    return j\n",
    "\n",
    "g(4)"
   ]
  },
  {
   "cell_type": "markdown",
   "metadata": {},
   "source": [
    "## 105-3_25"
   ]
  },
  {
   "cell_type": "code",
   "execution_count": 26,
   "metadata": {},
   "outputs": [],
   "source": [
    "def Mystery(x = 0):\n",
    "    if x <= 1:\n",
    "        return x\n",
    "    else:\n",
    "        return Mystery(x-2) + Mystery(x-1)"
   ]
  },
  {
   "cell_type": "code",
   "execution_count": null,
   "metadata": {},
   "outputs": [],
   "source": []
  }
 ],
 "metadata": {
  "kernelspec": {
   "display_name": "Python 3",
   "language": "python",
   "name": "python3"
  },
  "language_info": {
   "codemirror_mode": {
    "name": "ipython",
    "version": 3
   },
   "file_extension": ".py",
   "mimetype": "text/x-python",
   "name": "python",
   "nbconvert_exporter": "python",
   "pygments_lexer": "ipython3",
   "version": "3.6.4"
  }
 },
 "nbformat": 4,
 "nbformat_minor": 2
}
