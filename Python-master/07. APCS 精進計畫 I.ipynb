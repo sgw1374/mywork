{
 "cells": [
  {
   "cell_type": "markdown",
   "metadata": {},
   "source": [
    "![APCS I](images/T_apcs01.png)"
   ]
  },
  {
   "cell_type": "markdown",
   "metadata": {},
   "source": [
    "## APCS 相關介紹\n",
    "\n",
    "APCS 測驗分成兩個部份:\n",
    "\n",
    "* 觀念題\n",
    "* 實作題\n",
    "\n",
    "實作題就是真的寫程式! 我們可以看一下歷年來的題目:\n",
    "\n",
    "[【APCS 歷屆試題】](https://apcs.csie.ntnu.edu.tw/index.php/questionstypes/previousexam/)\n",
    "\n",
    "然後點「程式設計實作題」。\n",
    "\n",
    "看完題目, 再開始用 IDLE 等寫程式, 等認為沒問題就依指定檔案名上傳 (如 `P1.py` 等等)。過程中程式可以先存在 backup 資料夾中。詳細流程可參考\n",
    "\n",
    " [【APCS 檢測作答系統說明】](https://apcs.csie.ntnu.edu.tw/index.php/info/systemdescription/)\n",
    " \n",
    " 整個 APCS 的問題風格很接近\n",
    " \n",
    " [UVa Online Judge](https://uva.onlinejudge.org)\n",
    " \n",
    " 可以自行在 UVa 網站練習 (不過 UVa 的要求比較多)。"
   ]
  },
  {
   "cell_type": "markdown",
   "metadata": {},
   "source": [
    "## 暖身"
   ]
  },
  {
   "cell_type": "markdown",
   "metadata": {},
   "source": [
    "### 1. 整理一下字串\n",
    "\n",
    "這是我們常會碰到的狀況, 原本有個字串\n",
    "\n",
    "    \"  abc   23  1     75   33   \"\n",
    "    \n",
    "等等, 我們要整理 (輸出) 成\n",
    "\n",
    "    \"abc 23 1 75 33\""
   ]
  },
  {
   "cell_type": "markdown",
   "metadata": {},
   "source": [
    "#### 試驗 1"
   ]
  },
  {
   "cell_type": "code",
   "execution_count": 2,
   "metadata": {},
   "outputs": [],
   "source": [
    "st = \"  abc   23  1     75   33   \""
   ]
  },
  {
   "cell_type": "code",
   "execution_count": 5,
   "metadata": {},
   "outputs": [],
   "source": [
    "L = st.split(' ')"
   ]
  },
  {
   "cell_type": "markdown",
   "metadata": {},
   "source": [
    "多切出來的地方移除。"
   ]
  },
  {
   "cell_type": "code",
   "execution_count": 7,
   "metadata": {},
   "outputs": [],
   "source": [
    "M = []\n",
    "for item in L:\n",
    "    if item != '':\n",
    "        M.append(item)"
   ]
  },
  {
   "cell_type": "code",
   "execution_count": 8,
   "metadata": {},
   "outputs": [
    {
     "data": {
      "text/plain": [
       "['abc', '23', '1', '75', '33']"
      ]
     },
     "execution_count": 8,
     "metadata": {},
     "output_type": "execute_result"
    }
   ],
   "source": [
    "M"
   ]
  },
  {
   "cell_type": "code",
   "execution_count": 9,
   "metadata": {},
   "outputs": [
    {
     "data": {
      "text/plain": [
       "'abc 23 1 75 33'"
      ]
     },
     "execution_count": 9,
     "metadata": {},
     "output_type": "execute_result"
    }
   ],
   "source": [
    "' '.join(M)"
   ]
  },
  {
   "cell_type": "markdown",
   "metadata": {},
   "source": [
    "真的成功了!\n",
    "\n",
    "#### 試驗 2\n",
    "\n",
    "`filter` 是過濾出我們要的東西, 中間需要一個函式。我們使用 Python 緊急定義函式的 `lambda`。\n",
    "\n",
    "如果忘了怎麼使用, 可參考之前上課的內容。"
   ]
  },
  {
   "cell_type": "code",
   "execution_count": 12,
   "metadata": {},
   "outputs": [
    {
     "data": {
      "text/plain": [
       "['abc', '23', '1', '75', '33']"
      ]
     },
     "execution_count": 12,
     "metadata": {},
     "output_type": "execute_result"
    }
   ],
   "source": [
    "list(filter(lambda x:x != '', L))"
   ]
  },
  {
   "cell_type": "markdown",
   "metadata": {},
   "source": [
    "這看來好像很簡潔很嚇人, 不過其實一般正確解是..."
   ]
  },
  {
   "cell_type": "markdown",
   "metadata": {},
   "source": [
    "#### 試驗 3 (正解)"
   ]
  },
  {
   "cell_type": "code",
   "execution_count": 13,
   "metadata": {},
   "outputs": [
    {
     "data": {
      "text/plain": [
       "['abc', '23', '1', '75', '33']"
      ]
     },
     "execution_count": 13,
     "metadata": {},
     "output_type": "execute_result"
    }
   ],
   "source": [
    "st.split()"
   ]
  },
  {
   "cell_type": "markdown",
   "metadata": {},
   "source": [
    "### 2. 布林值運算\n",
    "\n",
    "Python 有兩套系的 `and`, `or`...\n",
    "\n",
    "* AND: `and`, `&`\n",
    "* OR: `or`, `|`\n",
    "* XOR: `^`"
   ]
  },
  {
   "cell_type": "markdown",
   "metadata": {},
   "source": [
    "#### AND"
   ]
  },
  {
   "cell_type": "code",
   "execution_count": 17,
   "metadata": {},
   "outputs": [
    {
     "data": {
      "text/plain": [
       "1"
      ]
     },
     "execution_count": 17,
     "metadata": {},
     "output_type": "execute_result"
    }
   ],
   "source": [
    "1 and 1"
   ]
  },
  {
   "cell_type": "code",
   "execution_count": 18,
   "metadata": {},
   "outputs": [
    {
     "data": {
      "text/plain": [
       "1"
      ]
     },
     "execution_count": 18,
     "metadata": {},
     "output_type": "execute_result"
    }
   ],
   "source": [
    "1 & 1"
   ]
  },
  {
   "cell_type": "markdown",
   "metadata": {},
   "source": [
    "`and` 和 `&` 看來好像沒有差啊? 到底有什麼差我們後會會說。\n",
    "\n",
    "#### OR"
   ]
  },
  {
   "cell_type": "code",
   "execution_count": 19,
   "metadata": {},
   "outputs": [
    {
     "data": {
      "text/plain": [
       "1"
      ]
     },
     "execution_count": 19,
     "metadata": {},
     "output_type": "execute_result"
    }
   ],
   "source": [
    "1 or 0"
   ]
  },
  {
   "cell_type": "code",
   "execution_count": 20,
   "metadata": {},
   "outputs": [
    {
     "data": {
      "text/plain": [
       "1"
      ]
     },
     "execution_count": 20,
     "metadata": {},
     "output_type": "execute_result"
    }
   ],
   "source": [
    "1 | 0"
   ]
  },
  {
   "cell_type": "markdown",
   "metadata": {},
   "source": [
    "#### XOR"
   ]
  },
  {
   "cell_type": "code",
   "execution_count": 21,
   "metadata": {},
   "outputs": [
    {
     "data": {
      "text/plain": [
       "0"
      ]
     },
     "execution_count": 21,
     "metadata": {},
     "output_type": "execute_result"
    }
   ],
   "source": [
    "1 ^ 1"
   ]
  },
  {
   "cell_type": "code",
   "execution_count": 22,
   "metadata": {},
   "outputs": [
    {
     "data": {
      "text/plain": [
       "1"
      ]
     },
     "execution_count": 22,
     "metadata": {},
     "output_type": "execute_result"
    }
   ],
   "source": [
    "1 ^ 0"
   ]
  },
  {
   "cell_type": "markdown",
   "metadata": {},
   "source": [
    "### 3. 二進位和十進位互轉\n",
    "\n",
    "* `bin`\n",
    "* `int`"
   ]
  },
  {
   "cell_type": "markdown",
   "metadata": {},
   "source": [
    "#### 10 進位換 2 進位"
   ]
  },
  {
   "cell_type": "code",
   "execution_count": 125,
   "metadata": {},
   "outputs": [],
   "source": [
    "a = bin(8)"
   ]
  },
  {
   "cell_type": "code",
   "execution_count": 126,
   "metadata": {},
   "outputs": [],
   "source": [
    "b = bin(23)"
   ]
  },
  {
   "cell_type": "code",
   "execution_count": 127,
   "metadata": {},
   "outputs": [
    {
     "data": {
      "text/plain": [
       "'0b1000'"
      ]
     },
     "execution_count": 127,
     "metadata": {},
     "output_type": "execute_result"
    }
   ],
   "source": [
    "a"
   ]
  },
  {
   "cell_type": "code",
   "execution_count": 128,
   "metadata": {},
   "outputs": [
    {
     "data": {
      "text/plain": [
       "'0b10111'"
      ]
     },
     "execution_count": 128,
     "metadata": {},
     "output_type": "execute_result"
    }
   ],
   "source": [
    "b"
   ]
  },
  {
   "cell_type": "markdown",
   "metadata": {},
   "source": [
    "原來 Python 表示一個 2 進位數是前面會加上 `0b`。我們可能會想, 這可以加嗎? 於是..."
   ]
  },
  {
   "cell_type": "code",
   "execution_count": 129,
   "metadata": {},
   "outputs": [
    {
     "data": {
      "text/plain": [
       "'0b10000b10111'"
      ]
     },
     "execution_count": 129,
     "metadata": {},
     "output_type": "execute_result"
    }
   ],
   "source": [
    "a+b"
   ]
  },
  {
   "cell_type": "markdown",
   "metadata": {},
   "source": [
    "沒有錯誤耶! 但是, 認真看它是把兩個字串合起來!!\n",
    "\n",
    "難道, Python 真的只把這兩個當字串?"
   ]
  },
  {
   "cell_type": "code",
   "execution_count": 130,
   "metadata": {},
   "outputs": [
    {
     "data": {
      "text/plain": [
       "str"
      ]
     },
     "execution_count": 130,
     "metadata": {},
     "output_type": "execute_result"
    }
   ],
   "source": [
    "type(a)"
   ]
  },
  {
   "cell_type": "markdown",
   "metadata": {},
   "source": [
    "結果還真的... 我們只好自己來...\n",
    "\n",
    "先把二進位換十進位!"
   ]
  },
  {
   "cell_type": "code",
   "execution_count": 35,
   "metadata": {},
   "outputs": [
    {
     "data": {
      "text/plain": [
       "8"
      ]
     },
     "execution_count": 35,
     "metadata": {},
     "output_type": "execute_result"
    }
   ],
   "source": [
    "int(a, 2)"
   ]
  },
  {
   "cell_type": "code",
   "execution_count": 36,
   "metadata": {},
   "outputs": [
    {
     "data": {
      "text/plain": [
       "23"
      ]
     },
     "execution_count": 36,
     "metadata": {},
     "output_type": "execute_result"
    }
   ],
   "source": [
    "int(b, 2)"
   ]
  },
  {
   "cell_type": "markdown",
   "metadata": {},
   "source": [
    "十進位的數字加起來, 再換成 2 進位就可以了!"
   ]
  },
  {
   "cell_type": "code",
   "execution_count": 37,
   "metadata": {},
   "outputs": [
    {
     "data": {
      "text/plain": [
       "'0b11111'"
      ]
     },
     "execution_count": 37,
     "metadata": {},
     "output_type": "execute_result"
    }
   ],
   "source": [
    "bin(int(a,2) + int(b,2))"
   ]
  },
  {
   "cell_type": "markdown",
   "metadata": {},
   "source": [
    "16 進位換成 10 進位用法和 2 進位一樣!"
   ]
  },
  {
   "cell_type": "code",
   "execution_count": 131,
   "metadata": {},
   "outputs": [
    {
     "data": {
      "text/plain": [
       "65535"
      ]
     },
     "execution_count": 131,
     "metadata": {},
     "output_type": "execute_result"
    }
   ],
   "source": [
    "int('FFFF', 16)"
   ]
  },
  {
   "cell_type": "markdown",
   "metadata": {},
   "source": [
    "10 進位換 16 進位。"
   ]
  },
  {
   "cell_type": "code",
   "execution_count": 132,
   "metadata": {},
   "outputs": [
    {
     "data": {
      "text/plain": [
       "'0xffff'"
      ]
     },
     "execution_count": 132,
     "metadata": {},
     "output_type": "execute_result"
    }
   ],
   "source": [
    "hex(65535)"
   ]
  },
  {
   "cell_type": "markdown",
   "metadata": {},
   "source": [
    "有 `0b`, `0x` 和沒有的差別是, 在換成 10 進位數時, 我們只要指名是 0, Python 就知道要以 0b, 0x 要求改。"
   ]
  },
  {
   "cell_type": "code",
   "execution_count": 42,
   "metadata": {},
   "outputs": [
    {
     "data": {
      "text/plain": [
       "65535"
      ]
     },
     "execution_count": 42,
     "metadata": {},
     "output_type": "execute_result"
    }
   ],
   "source": [
    "int('0xFFFF', 0)"
   ]
  },
  {
   "cell_type": "code",
   "execution_count": 43,
   "metadata": {},
   "outputs": [
    {
     "data": {
      "text/plain": [
       "65535"
      ]
     },
     "execution_count": 43,
     "metadata": {},
     "output_type": "execute_result"
    }
   ],
   "source": [
    "int('0xFFFF', 16)"
   ]
  },
  {
   "attachments": {},
   "cell_type": "markdown",
   "metadata": {},
   "source": [
    "![APCS 練功系統](images/T_apcs_env.png)\n",
    "\n",
    "這裡我們來看看怎麼用 Jupyter Notebook、完全不離開來練習。\n",
    "\n",
    "### 問題: 二進位加法\n",
    "\n",
    "輸入兩個二進位數\n",
    "\n",
    "    10011 11100\n",
    "    \n",
    "以二進位表示, 輸出相加的結果。\n",
    "\n",
    "    111 1101 10100"
   ]
  },
  {
   "cell_type": "code",
   "execution_count": 46,
   "metadata": {},
   "outputs": [
    {
     "name": "stdout",
     "output_type": "stream",
     "text": [
      "111 1101\n",
      "111 1101 10100\n"
     ]
    }
   ],
   "source": [
    "line = input()\n",
    "a, b = line.split()\n",
    "s = int(a, 2) + int(b, 2)\n",
    "print(a, b, bin(s)[2:])"
   ]
  },
  {
   "cell_type": "markdown",
   "metadata": {},
   "source": [
    "### 問題: 二進位加法\n",
    "\n",
    "比較接近 APCS 的寫法, 可能會像這樣。\n",
    "\n",
    "首先, 第一個數字 n 代表一共要做幾組。\n",
    "\n",
    "接下來 n 行是兩個準備要加的 2 進位數。"
   ]
  },
  {
   "cell_type": "code",
   "execution_count": 133,
   "metadata": {},
   "outputs": [
    {
     "name": "stdout",
     "output_type": "stream",
     "text": [
      "3\n",
      "11111 10111\n",
      "11111 10111 110110\n",
      "10011 11101\n",
      "10011 11101 110000\n",
      "111110 1010101\n",
      "111110 1010101 10010011\n"
     ]
    }
   ],
   "source": [
    "n = int(input())\n",
    "\n",
    "for i in range(n):\n",
    "    line = input()\n",
    "    a, b = line.split()\n",
    "    s = int(a, 2) + int(b, 2)\n",
    "    print(a, b, bin(s)[2:])"
   ]
  },
  {
   "cell_type": "markdown",
   "metadata": {},
   "source": [
    "看起來很對, 我們就把程式存起來!"
   ]
  },
  {
   "cell_type": "code",
   "execution_count": 134,
   "metadata": {},
   "outputs": [
    {
     "name": "stdout",
     "output_type": "stream",
     "text": [
      "File `p1.py` exists. Overwrite (y/[N])?  y\n",
      "The following commands were written to file `p1.py`:\n",
      "n = int(input())\n",
      "\n",
      "for i in range(n):\n",
      "    line = input()\n",
      "    a, b = line.split()\n",
      "    s = int(a, 2) + int(b, 2)\n",
      "    print(a, b, bin(s)[2:])\n"
     ]
    }
   ],
   "source": [
    "%save \"p1.py\" 133"
   ]
  },
  {
   "cell_type": "code",
   "execution_count": 49,
   "metadata": {},
   "outputs": [
    {
     "name": "stdout",
     "output_type": "stream",
     "text": [
      "Writing test01.txt\n"
     ]
    }
   ],
   "source": [
    "%%writefile \"test01.txt\"\n",
    "3\n",
    "1011 11101\n",
    "10111 111010\n",
    "1101 110001"
   ]
  },
  {
   "cell_type": "code",
   "execution_count": 50,
   "metadata": {},
   "outputs": [
    {
     "name": "stdout",
     "output_type": "stream",
     "text": [
      "1011 11101 101000\r\n",
      "10111 111010 1010001\r\n",
      "1101 110001 111110\r\n"
     ]
    }
   ],
   "source": [
    "!python p1.py < test01.txt"
   ]
  },
  {
   "cell_type": "code",
   "execution_count": 135,
   "metadata": {},
   "outputs": [
    {
     "ename": "SyntaxError",
     "evalue": "invalid character in identifier (<ipython-input-135-f569612c1e98>, line 1)",
     "output_type": "error",
     "traceback": [
      "\u001b[0;36m  File \u001b[0;32m\"<ipython-input-135-f569612c1e98>\"\u001b[0;36m, line \u001b[0;32m1\u001b[0m\n\u001b[0;31m    我們就很放快再做一個練習的輸入檔。\u001b[0m\n\u001b[0m                    ^\u001b[0m\n\u001b[0;31mSyntaxError\u001b[0m\u001b[0;31m:\u001b[0m invalid character in identifier\n"
     ]
    }
   ],
   "source": [
    "我們就很放快再做一個練習的輸入檔。"
   ]
  },
  {
   "cell_type": "code",
   "execution_count": 51,
   "metadata": {},
   "outputs": [
    {
     "name": "stdout",
     "output_type": "stream",
     "text": [
      "Writing test02.txt\n"
     ]
    }
   ],
   "source": [
    "%%writefile \"test02.txt\"\n",
    "7\n",
    "1100 11011\n",
    "11111 010\n",
    "1011011 10111\n",
    "1101 1110\n",
    "100011 111001\n",
    "111001 11010\n",
    "101010 1101111"
   ]
  },
  {
   "cell_type": "code",
   "execution_count": 52,
   "metadata": {},
   "outputs": [
    {
     "name": "stdout",
     "output_type": "stream",
     "text": [
      "1100 11011 100111\r\n",
      "11111 010 100001\r\n",
      "1011011 10111 1110010\r\n",
      "1101 1110 11011\r\n",
      "100011 111001 1011100\r\n",
      "111001 11010 1010011\r\n",
      "101010 1101111 10011001\r\n"
     ]
    }
   ],
   "source": [
    "!python p1.py < test02.txt"
   ]
  },
  {
   "cell_type": "markdown",
   "metadata": {},
   "source": [
    "### 問題: 高級的猜數字"
   ]
  },
  {
   "cell_type": "markdown",
   "metadata": {},
   "source": [
    "你想一個 1-31 的數字, 然後電腦給你看五張卡片, 在選出有你想的數字卡片後, 電腦就會猜到你想的數字。"
   ]
  },
  {
   "cell_type": "code",
   "execution_count": 136,
   "metadata": {},
   "outputs": [
    {
     "name": "stdout",
     "output_type": "stream",
     "text": [
      "1 00001\n",
      "2 00010\n",
      "3 00011\n",
      "4 00100\n",
      "5 00101\n",
      "6 00110\n",
      "7 00111\n",
      "8 01000\n",
      "9 01001\n",
      "10 01010\n",
      "11 01011\n",
      "12 01100\n",
      "13 01101\n",
      "14 01110\n",
      "15 01111\n",
      "16 10000\n",
      "17 10001\n",
      "18 10010\n",
      "19 10011\n",
      "20 10100\n",
      "21 10101\n",
      "22 10110\n",
      "23 10111\n",
      "24 11000\n",
      "25 11001\n",
      "26 11010\n",
      "27 11011\n",
      "28 11100\n",
      "29 11101\n",
      "30 11110\n",
      "31 11111\n"
     ]
    }
   ],
   "source": [
    "for n in range(1, 32):\n",
    "    print(n, bin(n)[2:].zfill(5))"
   ]
  },
  {
   "cell_type": "markdown",
   "metadata": {},
   "source": [
    "#### 補 0 篇之一"
   ]
  },
  {
   "cell_type": "code",
   "execution_count": 137,
   "metadata": {},
   "outputs": [
    {
     "name": "stdout",
     "output_type": "stream",
     "text": [
      "00101\n"
     ]
    }
   ],
   "source": [
    "b = '101'\n",
    "\n",
    "o = '00000' + b\n",
    "o = o[-5:]\n",
    "print(o)"
   ]
  },
  {
   "cell_type": "markdown",
   "metadata": {},
   "source": [
    "#### 補 0 篇之二"
   ]
  },
  {
   "cell_type": "code",
   "execution_count": 138,
   "metadata": {},
   "outputs": [
    {
     "name": "stdout",
     "output_type": "stream",
     "text": [
      "00101\n"
     ]
    }
   ],
   "source": [
    "b = '101'\n",
    "\n",
    "o = f\"{b:0>5s}\"\n",
    "print(o)"
   ]
  },
  {
   "cell_type": "markdown",
   "metadata": {},
   "source": [
    "#### 補 0 篇之三"
   ]
  },
  {
   "cell_type": "code",
   "execution_count": 139,
   "metadata": {},
   "outputs": [
    {
     "name": "stdout",
     "output_type": "stream",
     "text": [
      "00101\n"
     ]
    }
   ],
   "source": [
    "b = '101'\n",
    "\n",
    "o = b.zfill(5)\n",
    "print(o)"
   ]
  },
  {
   "cell_type": "code",
   "execution_count": 70,
   "metadata": {},
   "outputs": [
    {
     "data": {
      "text/plain": [
       "31"
      ]
     },
     "execution_count": 70,
     "metadata": {},
     "output_type": "execute_result"
    }
   ],
   "source": [
    "int('11111', 2)"
   ]
  },
  {
   "cell_type": "code",
   "execution_count": 71,
   "metadata": {},
   "outputs": [],
   "source": [
    "b = '10110'"
   ]
  },
  {
   "cell_type": "code",
   "execution_count": 94,
   "metadata": {},
   "outputs": [],
   "source": [
    "card = [[], [], [], [], []]"
   ]
  },
  {
   "cell_type": "code",
   "execution_count": 99,
   "metadata": {},
   "outputs": [],
   "source": [
    "card = [[], [], [], [], []]\n",
    "\n",
    "for n in range(1, 32):\n",
    "    b = bin(n)[2:].zfill(5)\n",
    "    for i, d in enumerate(b):\n",
    "        if int(d):\n",
    "            card[4-i].append(int(b, 2))"
   ]
  },
  {
   "cell_type": "code",
   "execution_count": 117,
   "metadata": {},
   "outputs": [],
   "source": [
    "def showcard(k):\n",
    "    part = 4\n",
    "    for i in range(4):\n",
    "        for d in card[k][i*4:(i+1)*4]:\n",
    "            print((' '+ str(d))[-2:], end=' ')\n",
    "        print()"
   ]
  },
  {
   "cell_type": "code",
   "execution_count": 140,
   "metadata": {},
   "outputs": [
    {
     "ename": "SyntaxError",
     "evalue": "invalid syntax (<ipython-input-140-4bb57fb5fabf>, line 1)",
     "output_type": "error",
     "traceback": [
      "\u001b[0;36m  File \u001b[0;32m\"<ipython-input-140-4bb57fb5fabf>\"\u001b[0;36m, line \u001b[0;32m1\u001b[0m\n\u001b[0;31m    顯示 5 張卡片\u001b[0m\n\u001b[0m       ^\u001b[0m\n\u001b[0;31mSyntaxError\u001b[0m\u001b[0;31m:\u001b[0m invalid syntax\n"
     ]
    }
   ],
   "source": [
    "顯示 5 張卡片"
   ]
  },
  {
   "cell_type": "code",
   "execution_count": 121,
   "metadata": {},
   "outputs": [
    {
     "name": "stdout",
     "output_type": "stream",
     "text": [
      " 1  3  5  7 \n",
      " 9 11 13 15 \n",
      "17 19 21 23 \n",
      "25 27 29 31 \n",
      "---\n",
      " 2  3  6  7 \n",
      "10 11 14 15 \n",
      "18 19 22 23 \n",
      "26 27 30 31 \n",
      "---\n",
      " 4  5  6  7 \n",
      "12 13 14 15 \n",
      "20 21 22 23 \n",
      "28 29 30 31 \n",
      "---\n",
      " 8  9 10 11 \n",
      "12 13 14 15 \n",
      "24 25 26 27 \n",
      "28 29 30 31 \n",
      "---\n",
      "16 17 18 19 \n",
      "20 21 22 23 \n",
      "24 25 26 27 \n",
      "28 29 30 31 \n",
      "---\n"
     ]
    }
   ],
   "source": [
    "for k in range(5):\n",
    "    showcard(k)\n",
    "    print(\"---\")"
   ]
  }
 ],
 "metadata": {
  "kernelspec": {
   "display_name": "Python 3",
   "language": "python",
   "name": "python3"
  },
  "language_info": {
   "codemirror_mode": {
    "name": "ipython",
    "version": 3
   },
   "file_extension": ".py",
   "mimetype": "text/x-python",
   "name": "python",
   "nbconvert_exporter": "python",
   "pygments_lexer": "ipython3",
   "version": "3.7.3"
  }
 },
 "nbformat": 4,
 "nbformat_minor": 2
}
