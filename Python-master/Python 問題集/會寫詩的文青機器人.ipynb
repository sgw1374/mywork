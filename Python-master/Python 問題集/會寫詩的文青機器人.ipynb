{
 "cells": [
  {
   "cell_type": "markdown",
   "metadata": {},
   "source": [
    "我們讓 Python 寫首詩吧。\n",
    "\n",
    "去收集一些你覺得容易在詩裡出現的字眼, 比如\n",
    "\n",
    "    words='''\n",
    "    我\n",
    "    我的\n",
    "    妳\n",
    "    妳的\n",
    "    心\n",
    "    溫柔\n",
    "    日子\n",
    "    雨\n",
    "    風\n",
    "    天空\n",
    "    雲\n",
    "    等待\n",
    "    哭泣\n",
    "    戀愛\n",
    "    相遇\n",
    "    分離\n",
    "    忘記\n",
    "    心醉\n",
    "    驀然\n",
    "    吹過\n",
    "    思念\n",
    "    靈魂\n",
    "    停止'''\n",
    "    \n",
    "接著, 你可以亂數決定幾句的詩, 比如說 2-7 句。同時也可以亂數決定每句各用多少詞, 再隨機選取你選的字..."
   ]
  },
  {
   "cell_type": "markdown",
   "metadata": {},
   "source": [
    "【Python 的作詩範例】\n",
    "\n",
    "    ※\n",
    "    我的 戀愛 \n",
    "    忘記 心醉 哭泣 \n",
    "\n",
    "    ※\n",
    "    妳 忘記 我 思念 \n",
    "    雨 風 我的   等待\n",
    "\n",
    "    ※\n",
    "    妳的 天空 驀然 \n",
    "    忘記 相遇 哭泣\n",
    "\n",
    "    ※\n",
    "    相遇 吹過 靈魂 \n",
    "    哭泣 思念 \n",
    "    心 停止 "
   ]
  }
 ],
 "metadata": {
  "kernelspec": {
   "display_name": "Python 3",
   "language": "python",
   "name": "python3"
  },
  "language_info": {
   "codemirror_mode": {
    "name": "ipython",
    "version": 3
   },
   "file_extension": ".py",
   "mimetype": "text/x-python",
   "name": "python",
   "nbconvert_exporter": "python",
   "pygments_lexer": "ipython3",
   "version": "3.7.3"
  }
 },
 "nbformat": 4,
 "nbformat_minor": 2
}
