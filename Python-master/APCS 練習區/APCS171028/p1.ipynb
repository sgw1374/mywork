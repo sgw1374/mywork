{
 "cells": [
  {
   "cell_type": "markdown",
   "metadata": {},
   "source": [
    "## APCS 2017 年 10 月 \n",
    "## 第 1 題: 邏輯運算子 (Logic Operators)\n",
    "\n",
    "### 問題描述\n",
    "\n",
    "小蘇最近在學三種邏輯運算子 `AND`、`OR` 和 `XOR`。這三種運算子都是二元運算子，\n",
    "\n",
    "也就是說在運算時需要兩個運算元，例如 `a AND b`。對於整數a與b，以下三個二元運算\n",
    "子的運算結果定義如下列三個表格：\n",
    "\n",
    "##### a `AND` b\n",
    "\n",
    "| * | b 為 0  | b 不為 0   |\n",
    "|---|--------|------------|\n",
    "| a 為 0    | 0  | 0  |\n",
    "| a 不為 0  | 0  | 1  |\n",
    "\n",
    "##### a `OR` b\n",
    "| * | b 為 0  | b 不為 0   |\n",
    "|---|--------|------------|\n",
    "| a 為 0    | 0  | 1  |\n",
    "| a 不為 0  | 1  | 1  |\n",
    "\n",
    "##### a `XOR` b\n",
    "| * | b 為 0  | b 不為 0   |\n",
    "|---|--------|------------|\n",
    "| a 為 0    | 0  | 1  |\n",
    "| a 不為 0  | 1  | 0  |\n",
    "\n",
    "\n",
    "### 舉例來說：\n",
    "\n",
    "1. 0 `AND` 0 的結果為 0 ， 0 `OR` 0 以及 0 `XOR` 0 的結果也為 0 。\n",
    "2. 0 `AND` 3 的結果為 0 ， 0 `OR` 3 以及 0 `XOR` 3 的結果則為 1 。\n",
    "3. 4 `AND` 9 的結果為 1 ， 4 `OR` 9 的結果也為 1 ，但 4 `XOR` 9 的結果為 0 。\n",
    "\n",
    "\n",
    "請撰寫一個程式，讀入 a、b 以及邏輯運算的結果，輸出可能的邏輯運算為何。\n",
    "\n",
    "### 輸入格式\n",
    "輸入只有一行，共三個整數值，整數間以一個空白隔開。第一個整數代表 a，第二\n",
    "個整數代表 b，這兩數均為非負的整數。第三個整數代表邏輯運算的結果，只會是 0 或 1 。\n",
    "\n",
    "### 輸出格式\n",
    "輸出可能得到指定結果的運算，若有多個，輸出順序為 `AND`、`OR`、`XOR`，每個可能\n",
    "的運算單獨輸出一行，每行結尾皆有換行。若不可能得到指定結果，輸出 `IMPOSSIBLE`。\n",
    "（注意輸出時所有英文字母均為大寫字母。）\n",
    "\n",
    "\n",
    "#### 範例一：輸入\n",
    "    0 0 0\n",
    "\n",
    "#### 範例一：正確輸出\n",
    "    AND\n",
    "    OR\n",
    "    XOR\n",
    "\n",
    "#### 範例二：輸入\n",
    "    1 1 1\n",
    "\n",
    "#### 範例二：正確輸出\n",
    "    AND\n",
    "    OR\n",
    "\n",
    "#### 範例三：輸入\n",
    "    3 0 1\n",
    "\n",
    "#### 範例三：正確輸出\n",
    "    OR\n",
    "    XOR\n",
    "\n",
    "#### 範例四：輸入\n",
    "    0 0 1\n",
    "\n",
    "#### 範例四：正確輸出\n",
    "    IMPOSSIBLE\n",
    "\n",
    "### 評分說明\n",
    "\n",
    "輸入包含若干筆測試資料，每一筆測試資料的執行時間限制(time limit)均為 1 秒，依\n",
    "正確通過測資筆數給分。其中：\n",
    "\n",
    "第 1 子題組 80 分，a 和 b 的值只會是 0 或 1 。\n",
    "\n",
    "第 2 子題組 20 分， $0\\leq a, b < 10,000$。"
   ]
  },
  {
   "cell_type": "code",
   "execution_count": 14,
   "metadata": {},
   "outputs": [
    {
     "name": "stdout",
     "output_type": "stream",
     "text": [
      "0 0 1\n",
      "IMPOSSIBLE\n"
     ]
    }
   ],
   "source": [
    "line = input().split()\n",
    "\n",
    "def conv(x):\n",
    "    k = int(x)\n",
    "    if k:\n",
    "        k = 1\n",
    "    return k\n",
    "a, b, c = map(conv, line)\n",
    "\n",
    "\n",
    "check = [a & b == c, a | b == c, a ^ b == c]\n",
    "operator = ['AND', 'OR', 'XOR']\n",
    "\n",
    "f = 0\n",
    "\n",
    "for i in range(3):\n",
    "    if check[i]:\n",
    "        print(operator[i])\n",
    "        f = 1\n",
    "\n",
    "if f == 0:\n",
    "    print(\"IMPOSSIBLE\")\n"
   ]
  },
  {
   "cell_type": "code",
   "execution_count": 1,
   "metadata": {},
   "outputs": [
    {
     "data": {
      "text/plain": [
       "0"
      ]
     },
     "execution_count": 1,
     "metadata": {},
     "output_type": "execute_result"
    }
   ],
   "source": [
    "3 & 0"
   ]
  },
  {
   "cell_type": "code",
   "execution_count": 3,
   "metadata": {},
   "outputs": [
    {
     "data": {
      "text/plain": [
       "False"
      ]
     },
     "execution_count": 3,
     "metadata": {},
     "output_type": "execute_result"
    }
   ],
   "source": [
    "3^0 == 1"
   ]
  },
  {
   "cell_type": "code",
   "execution_count": 4,
   "metadata": {},
   "outputs": [
    {
     "data": {
      "text/plain": [
       "True"
      ]
     },
     "execution_count": 4,
     "metadata": {},
     "output_type": "execute_result"
    }
   ],
   "source": [
    "1^0 == 1"
   ]
  },
  {
   "cell_type": "code",
   "execution_count": 6,
   "metadata": {},
   "outputs": [
    {
     "name": "stdout",
     "output_type": "stream",
     "text": [
      "1 0 0\n"
     ]
    }
   ],
   "source": [
    "line = input().split()"
   ]
  },
  {
   "cell_type": "code",
   "execution_count": 7,
   "metadata": {},
   "outputs": [
    {
     "data": {
      "text/plain": [
       "['1', '0', '0']"
      ]
     },
     "execution_count": 7,
     "metadata": {},
     "output_type": "execute_result"
    }
   ],
   "source": [
    "line"
   ]
  },
  {
   "cell_type": "code",
   "execution_count": 8,
   "metadata": {},
   "outputs": [],
   "source": [
    "a = line[0]\n",
    "b = line[1]\n",
    "c = line[2]"
   ]
  },
  {
   "cell_type": "code",
   "execution_count": 9,
   "metadata": {},
   "outputs": [],
   "source": [
    "a, b, c = line"
   ]
  },
  {
   "cell_type": "code",
   "execution_count": 10,
   "metadata": {},
   "outputs": [
    {
     "data": {
      "text/plain": [
       "'1'"
      ]
     },
     "execution_count": 10,
     "metadata": {},
     "output_type": "execute_result"
    }
   ],
   "source": [
    "a"
   ]
  },
  {
   "cell_type": "code",
   "execution_count": 11,
   "metadata": {},
   "outputs": [
    {
     "data": {
      "text/plain": [
       "'0'"
      ]
     },
     "execution_count": 11,
     "metadata": {},
     "output_type": "execute_result"
    }
   ],
   "source": [
    "b"
   ]
  },
  {
   "cell_type": "code",
   "execution_count": 12,
   "metadata": {},
   "outputs": [
    {
     "data": {
      "text/plain": [
       "'0'"
      ]
     },
     "execution_count": 12,
     "metadata": {},
     "output_type": "execute_result"
    }
   ],
   "source": [
    "c"
   ]
  },
  {
   "cell_type": "code",
   "execution_count": 17,
   "metadata": {},
   "outputs": [
    {
     "name": "stdout",
     "output_type": "stream",
     "text": [
      "3 0 1\n"
     ]
    }
   ],
   "source": [
    "a, b, c = input().split()"
   ]
  },
  {
   "cell_type": "code",
   "execution_count": 18,
   "metadata": {},
   "outputs": [
    {
     "data": {
      "text/plain": [
       "'3'"
      ]
     },
     "execution_count": 18,
     "metadata": {},
     "output_type": "execute_result"
    }
   ],
   "source": [
    "a"
   ]
  },
  {
   "cell_type": "code",
   "execution_count": 19,
   "metadata": {},
   "outputs": [
    {
     "data": {
      "text/plain": [
       "'0'"
      ]
     },
     "execution_count": 19,
     "metadata": {},
     "output_type": "execute_result"
    }
   ],
   "source": [
    "b"
   ]
  },
  {
   "cell_type": "code",
   "execution_count": 20,
   "metadata": {},
   "outputs": [
    {
     "data": {
      "text/plain": [
       "'1'"
      ]
     },
     "execution_count": 20,
     "metadata": {},
     "output_type": "execute_result"
    }
   ],
   "source": [
    "c"
   ]
  },
  {
   "cell_type": "code",
   "execution_count": 21,
   "metadata": {},
   "outputs": [],
   "source": [
    "if int(a) != 0:\n",
    "    a = 1\n",
    "else:\n",
    "    a = 0\n",
    "    "
   ]
  },
  {
   "cell_type": "code",
   "execution_count": 22,
   "metadata": {},
   "outputs": [
    {
     "data": {
      "text/plain": [
       "1"
      ]
     },
     "execution_count": 22,
     "metadata": {},
     "output_type": "execute_result"
    }
   ],
   "source": [
    "a"
   ]
  },
  {
   "cell_type": "code",
   "execution_count": 30,
   "metadata": {},
   "outputs": [
    {
     "data": {
      "text/plain": [
       "['3', '1', '2']"
      ]
     },
     "execution_count": 30,
     "metadata": {},
     "output_type": "execute_result"
    }
   ],
   "source": [
    "line"
   ]
  },
  {
   "cell_type": "code",
   "execution_count": null,
   "metadata": {},
   "outputs": [],
   "source": []
  },
  {
   "cell_type": "code",
   "execution_count": 28,
   "metadata": {},
   "outputs": [],
   "source": [
    "# a, b, c = int(a), int(b), int(c)"
   ]
  },
  {
   "cell_type": "code",
   "execution_count": 31,
   "metadata": {},
   "outputs": [],
   "source": [
    "a, b, c = map(int, line)"
   ]
  },
  {
   "cell_type": "code",
   "execution_count": 32,
   "metadata": {},
   "outputs": [
    {
     "data": {
      "text/plain": [
       "(3, 1, 2)"
      ]
     },
     "execution_count": 32,
     "metadata": {},
     "output_type": "execute_result"
    }
   ],
   "source": [
    "a, b, c"
   ]
  },
  {
   "cell_type": "code",
   "execution_count": null,
   "metadata": {},
   "outputs": [],
   "source": []
  },
  {
   "cell_type": "code",
   "execution_count": 25,
   "metadata": {},
   "outputs": [
    {
     "data": {
      "text/plain": [
       "(3, 0, 1)"
      ]
     },
     "execution_count": 25,
     "metadata": {},
     "output_type": "execute_result"
    }
   ],
   "source": [
    "a, b, c"
   ]
  },
  {
   "cell_type": "code",
   "execution_count": 27,
   "metadata": {},
   "outputs": [
    {
     "ename": "TypeError",
     "evalue": "int() argument must be a string, a bytes-like object or a number, not 'list'",
     "output_type": "error",
     "traceback": [
      "\u001b[0;31m---------------------------------------------------------------------------\u001b[0m",
      "\u001b[0;31mTypeError\u001b[0m                                 Traceback (most recent call last)",
      "\u001b[0;32m<ipython-input-27-71ce3159c570>\u001b[0m in \u001b[0;36m<module>\u001b[0;34m\u001b[0m\n\u001b[0;32m----> 1\u001b[0;31m \u001b[0mint\u001b[0m\u001b[0;34m(\u001b[0m\u001b[0;34m[\u001b[0m\u001b[0;34m'3'\u001b[0m\u001b[0;34m,\u001b[0m \u001b[0;34m'2'\u001b[0m\u001b[0;34m,\u001b[0m \u001b[0;34m'5'\u001b[0m\u001b[0;34m]\u001b[0m\u001b[0;34m)\u001b[0m\u001b[0;34m\u001b[0m\u001b[0;34m\u001b[0m\u001b[0m\n\u001b[0m",
      "\u001b[0;31mTypeError\u001b[0m: int() argument must be a string, a bytes-like object or a number, not 'list'"
     ]
    }
   ],
   "source": [
    "int(['3', '2', '5'])"
   ]
  },
  {
   "cell_type": "code",
   "execution_count": 34,
   "metadata": {},
   "outputs": [
    {
     "data": {
      "text/plain": [
       "True"
      ]
     },
     "execution_count": 34,
     "metadata": {},
     "output_type": "execute_result"
    }
   ],
   "source": [
    "bool(3)"
   ]
  },
  {
   "cell_type": "code",
   "execution_count": 35,
   "metadata": {},
   "outputs": [
    {
     "data": {
      "text/plain": [
       "False"
      ]
     },
     "execution_count": 35,
     "metadata": {},
     "output_type": "execute_result"
    }
   ],
   "source": [
    "bool(0)"
   ]
  },
  {
   "cell_type": "code",
   "execution_count": 37,
   "metadata": {},
   "outputs": [
    {
     "data": {
      "text/plain": [
       "True"
      ]
     },
     "execution_count": 37,
     "metadata": {},
     "output_type": "execute_result"
    }
   ],
   "source": [
    "bool(-3)"
   ]
  },
  {
   "cell_type": "code",
   "execution_count": 54,
   "metadata": {},
   "outputs": [],
   "source": [
    "a = 7"
   ]
  },
  {
   "cell_type": "code",
   "execution_count": 55,
   "metadata": {},
   "outputs": [],
   "source": [
    "if a != 0:\n",
    "    a = 1"
   ]
  },
  {
   "cell_type": "code",
   "execution_count": 56,
   "metadata": {},
   "outputs": [
    {
     "data": {
      "text/plain": [
       "1"
      ]
     },
     "execution_count": 56,
     "metadata": {},
     "output_type": "execute_result"
    }
   ],
   "source": [
    "a"
   ]
  },
  {
   "cell_type": "code",
   "execution_count": null,
   "metadata": {},
   "outputs": [],
   "source": []
  },
  {
   "cell_type": "code",
   "execution_count": null,
   "metadata": {},
   "outputs": [],
   "source": []
  },
  {
   "cell_type": "markdown",
   "metadata": {},
   "source": [
    "### 我的程式區"
   ]
  },
  {
   "cell_type": "code",
   "execution_count": 71,
   "metadata": {},
   "outputs": [
    {
     "name": "stdout",
     "output_type": "stream",
     "text": [
      "1 2 0\n",
      "XOR\n"
     ]
    }
   ],
   "source": [
    "line = input().split()\n",
    "a, b, c = map(int, line)\n",
    "if a != 0:\n",
    "    a = 1\n",
    "if b != 0:\n",
    "    b = 1\n",
    "if c != 0:\n",
    "    c = 1\n",
    "\n",
    "fail = True\n",
    "if (a & b == c):\n",
    "    print(\"AND\")\n",
    "    fail = False\n",
    "if (a | b == c):\n",
    "    print(\"OR\")\n",
    "    fail = False\n",
    "if (a ^ b == c):\n",
    "    print(\"XOR\")\n",
    "    fail = False\n",
    "if fail:\n",
    "    print(\"IMPOSSIBLE\")"
   ]
  },
  {
   "cell_type": "code",
   "execution_count": 72,
   "metadata": {},
   "outputs": [
    {
     "name": "stdout",
     "output_type": "stream",
     "text": [
      "File `p1.py` exists. Overwrite (y/[N])?  y\n",
      "The following commands were written to file `p1.py`:\n",
      "line = input().split()\n",
      "a, b, c = map(int, line)\n",
      "if a != 0:\n",
      "    a = 1\n",
      "if b != 0:\n",
      "    b = 1\n",
      "if c != 0:\n",
      "    c = 1\n",
      "\n",
      "fail = True\n",
      "if (a & b == c):\n",
      "    print(\"AND\")\n",
      "    fail = False\n",
      "if (a | b == c):\n",
      "    print(\"OR\")\n",
      "    fail = False\n",
      "if (a ^ b == c):\n",
      "    print(\"XOR\")\n",
      "    fail = False\n",
      "if fail:\n",
      "    print(\"IMPOSSIBLE\")\n"
     ]
    }
   ],
   "source": [
    "%save \"p1.py\" 71"
   ]
  },
  {
   "cell_type": "code",
   "execution_count": 73,
   "metadata": {},
   "outputs": [
    {
     "name": "stdout",
     "output_type": "stream",
     "text": [
      "Writing p1t01.txt\n"
     ]
    }
   ],
   "source": [
    "%%writefile \"p1t01.txt\"\n",
    "0 0 0"
   ]
  },
  {
   "cell_type": "code",
   "execution_count": 74,
   "metadata": {},
   "outputs": [
    {
     "name": "stdout",
     "output_type": "stream",
     "text": [
      "Writing p1t02.txt\n"
     ]
    }
   ],
   "source": [
    "%%writefile \"p1t02.txt\"\n",
    "1 1 1"
   ]
  },
  {
   "cell_type": "code",
   "execution_count": 75,
   "metadata": {},
   "outputs": [
    {
     "name": "stdout",
     "output_type": "stream",
     "text": [
      "Writing p1t03.txt\n"
     ]
    }
   ],
   "source": [
    "%%writefile \"p1t03.txt\"\n",
    "3 0 1"
   ]
  },
  {
   "cell_type": "code",
   "execution_count": 76,
   "metadata": {},
   "outputs": [
    {
     "name": "stdout",
     "output_type": "stream",
     "text": [
      "Writing p1t04.txt\n"
     ]
    }
   ],
   "source": [
    "%%writefile \"p1t04.txt\"\n",
    "0 0 1"
   ]
  },
  {
   "cell_type": "code",
   "execution_count": 77,
   "metadata": {},
   "outputs": [
    {
     "name": "stdout",
     "output_type": "stream",
     "text": [
      "AND\r\n",
      "OR\r\n",
      "XOR\r\n"
     ]
    }
   ],
   "source": [
    "!python p1.py < p1t01.txt"
   ]
  },
  {
   "cell_type": "code",
   "execution_count": 78,
   "metadata": {},
   "outputs": [
    {
     "name": "stdout",
     "output_type": "stream",
     "text": [
      "AND\r\n",
      "OR\r\n"
     ]
    }
   ],
   "source": [
    "!python p1.py < p1t02.txt"
   ]
  },
  {
   "cell_type": "code",
   "execution_count": 79,
   "metadata": {},
   "outputs": [
    {
     "name": "stdout",
     "output_type": "stream",
     "text": [
      "OR\r\n",
      "XOR\r\n"
     ]
    }
   ],
   "source": [
    "!python p1.py < p1t03.txt"
   ]
  },
  {
   "cell_type": "code",
   "execution_count": 80,
   "metadata": {},
   "outputs": [
    {
     "name": "stdout",
     "output_type": "stream",
     "text": [
      "IMPOSSIBLE\r\n"
     ]
    }
   ],
   "source": [
    "!python p1.py < p1t04.txt"
   ]
  },
  {
   "cell_type": "code",
   "execution_count": null,
   "metadata": {},
   "outputs": [],
   "source": []
  }
 ],
 "metadata": {
  "kernelspec": {
   "display_name": "Python 3",
   "language": "python",
   "name": "python3"
  },
  "language_info": {
   "codemirror_mode": {
    "name": "ipython",
    "version": 3
   },
   "file_extension": ".py",
   "mimetype": "text/x-python",
   "name": "python",
   "nbconvert_exporter": "python",
   "pygments_lexer": "ipython3",
   "version": "3.7.3"
  }
 },
 "nbformat": 4,
 "nbformat_minor": 2
}
