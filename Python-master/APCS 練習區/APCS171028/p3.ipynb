{
 "cells": [
  {
   "cell_type": "code",
   "execution_count": 1,
   "metadata": {},
   "outputs": [
    {
     "name": "stdout",
     "output_type": "stream",
     "text": [
      "Writing p3t01.txt\n"
     ]
    }
   ],
   "source": [
    "%%writefile \"p3t01.txt\"\n",
    "7\n",
    "0\n",
    "2 6 7\n",
    "2 1 4\n",
    "0\n",
    "2 3 2\n",
    "0\n",
    "0"
   ]
  },
  {
   "cell_type": "code",
   "execution_count": 2,
   "metadata": {},
   "outputs": [
    {
     "name": "stdout",
     "output_type": "stream",
     "text": [
      "Writing p3t02.txt\n"
     ]
    }
   ],
   "source": [
    "%%writefile \"p3t02.txt\"\n",
    "9\n",
    "1 6\n",
    "3 5 3 8\n",
    "0\n",
    "2 1 7\n",
    "1 9\n",
    "0\n",
    "1 2\n",
    "0\n",
    "0"
   ]
  },
  {
   "cell_type": "code",
   "execution_count": 39,
   "metadata": {},
   "outputs": [
    {
     "name": "stdout",
     "output_type": "stream",
     "text": [
      "9\n",
      "1 6\n",
      "3 5 3 8\n",
      "0\n",
      "2 1 7\n",
      "1 9\n",
      "0\n",
      "1 2\n",
      "0\n",
      "0\n",
      "4\n",
      "11\n"
     ]
    }
   ],
   "source": [
    "n = int(input())\n",
    "\n",
    "G = {}\n",
    "V = set(range(1, n+1))\n",
    "\n",
    "for i in range(n):\n",
    "    line = input().split()\n",
    "    if int(line[0]):\n",
    "        nodes = set(map(int, line[1:]))\n",
    "        G[i+1] = nodes\n",
    "        V = V - nodes\n",
    "    else:\n",
    "        G[i+1] = []\n",
    "        V = V - {i+1}\n",
    "\n",
    "def h(v):\n",
    "    if G[v] == []:\n",
    "        return 0\n",
    "    return max(map(h, G[v])) + 1\n",
    "\n",
    "H = sum(map(h, G.keys()))\n",
    "print(V.pop())\n",
    "print(H)"
   ]
  },
  {
   "cell_type": "code",
   "execution_count": 38,
   "metadata": {},
   "outputs": [
    {
     "data": {
      "text/plain": [
       "4"
      ]
     },
     "execution_count": 38,
     "metadata": {},
     "output_type": "execute_result"
    }
   ],
   "source": [
    "V.pop()"
   ]
  },
  {
   "cell_type": "code",
   "execution_count": 15,
   "metadata": {},
   "outputs": [
    {
     "data": {
      "text/plain": [
       "{1: {6}, 2: {3, 5, 8}, 3: [], 4: {1, 7}, 5: {9}, 6: [], 7: {2}, 8: [], 9: []}"
      ]
     },
     "execution_count": 15,
     "metadata": {},
     "output_type": "execute_result"
    }
   ],
   "source": [
    "G"
   ]
  },
  {
   "cell_type": "code",
   "execution_count": 30,
   "metadata": {},
   "outputs": [],
   "source": [
    "def h(v):\n",
    "    if G[v] == []:\n",
    "        return 0\n",
    "    return max(map(h, G[v])) + 1\n",
    "        \n",
    "        "
   ]
  },
  {
   "cell_type": "code",
   "execution_count": 35,
   "metadata": {},
   "outputs": [
    {
     "data": {
      "text/plain": [
       "11"
      ]
     },
     "execution_count": 35,
     "metadata": {},
     "output_type": "execute_result"
    }
   ],
   "source": [
    "sum(map(h, G.keys()))"
   ]
  },
  {
   "cell_type": "code",
   "execution_count": 40,
   "metadata": {},
   "outputs": [
    {
     "name": "stdout",
     "output_type": "stream",
     "text": [
      "The following commands were written to file `p3.py`:\n",
      "n = int(input())\n",
      "\n",
      "G = {}\n",
      "V = set(range(1, n+1))\n",
      "\n",
      "for i in range(n):\n",
      "    line = input().split()\n",
      "    if int(line[0]):\n",
      "        nodes = set(map(int, line[1:]))\n",
      "        G[i+1] = nodes\n",
      "        V = V - nodes\n",
      "    else:\n",
      "        G[i+1] = []\n",
      "        V = V - {i+1}\n",
      "\n",
      "def h(v):\n",
      "    if G[v] == []:\n",
      "        return 0\n",
      "    return max(map(h, G[v])) + 1\n",
      "\n",
      "H = sum(map(h, G.keys()))\n",
      "print(V.pop())\n",
      "print(H)\n"
     ]
    }
   ],
   "source": [
    "%save \"p3.py\" 39"
   ]
  },
  {
   "cell_type": "code",
   "execution_count": 41,
   "metadata": {},
   "outputs": [
    {
     "name": "stdout",
     "output_type": "stream",
     "text": [
      "5\r\n",
      "4\r\n"
     ]
    }
   ],
   "source": [
    "!python p3.py < p3t01.txt"
   ]
  },
  {
   "cell_type": "code",
   "execution_count": 42,
   "metadata": {},
   "outputs": [
    {
     "name": "stdout",
     "output_type": "stream",
     "text": [
      "4\r\n",
      "11\r\n"
     ]
    }
   ],
   "source": [
    "!python p3.py < p3t02.txt"
   ]
  },
  {
   "cell_type": "code",
   "execution_count": null,
   "metadata": {},
   "outputs": [],
   "source": []
  },
  {
   "cell_type": "code",
   "execution_count": null,
   "metadata": {},
   "outputs": [],
   "source": []
  },
  {
   "cell_type": "code",
   "execution_count": null,
   "metadata": {},
   "outputs": [],
   "source": []
  },
  {
   "cell_type": "code",
   "execution_count": null,
   "metadata": {},
   "outputs": [],
   "source": []
  },
  {
   "cell_type": "code",
   "execution_count": null,
   "metadata": {},
   "outputs": [],
   "source": []
  }
 ],
 "metadata": {
  "kernelspec": {
   "display_name": "Python 3",
   "language": "python",
   "name": "python3"
  },
  "language_info": {
   "codemirror_mode": {
    "name": "ipython",
    "version": 3
   },
   "file_extension": ".py",
   "mimetype": "text/x-python",
   "name": "python",
   "nbconvert_exporter": "python",
   "pygments_lexer": "ipython3",
   "version": "3.7.3"
  }
 },
 "nbformat": 4,
 "nbformat_minor": 2
}
