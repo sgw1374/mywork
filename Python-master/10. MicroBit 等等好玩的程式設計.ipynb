{
 "cells": [
  {
   "cell_type": "markdown",
   "metadata": {},
   "source": [
    "![Micro:bit](images/T_microbit.png)\n",
    "\n",
    "就是要好玩, 才學得會!\n",
    "\n",
    "我寫程式是國中時代開始, 程式都是英文指令, 所以我一直覺得至少國中開始, 學 Python 這樣的程式語言是可以的。\n",
    "\n",
    "就覺得好玩, 有時會去參加每個月雜誌出題的回答, 還被編輯說「小小年紀就能寫...」之類的評語。高中寫了幾篇電腦的文章, 出了兩個遊戲、教學 (?) 程式。\n",
    "\n",
    "![拳形岩](images/fist_rock.png)"
   ]
  },
  {
   "cell_type": "markdown",
   "metadata": {},
   "source": [
    "## 一些程式教學計畫"
   ]
  },
  {
   "cell_type": "markdown",
   "metadata": {},
   "source": [
    "### Programming the World\n",
    "\n",
    "成功大學蘇文鈺老師, 著有《做孩子的重要他人》, 長期投入偏鄉小朋友的程式教育。\n",
    "\n",
    "![Programming the World](images/PWA.png)"
   ]
  },
  {
   "cell_type": "markdown",
   "metadata": {},
   "source": [
    "### Soobi 計畫\n",
    "\n",
    "由政大應數系曾正男老師主持, 現在大力推廣使用 Micro:bit 來帶偏鄉中小學程式設計。\n",
    "\n",
    "![Soobi](images/soobi.png)"
   ]
  },
  {
   "cell_type": "markdown",
   "metadata": {},
   "source": [
    "### 不插電／偷插電的資訊教育\n",
    "\n",
    "[軟體自由協會書城](https://sites.google.com/view/slat-bookstore/首頁)可以訂購這兩本書, 而且也有免費的電子版!\n",
    "\n",
    "![SLAT](images/slat.png)"
   ]
  },
  {
   "cell_type": "markdown",
   "metadata": {},
   "source": [
    "## 工具\n",
    "\n",
    "### Scratch\n",
    "\n",
    "MIT 開發的 [Scratch](https://scratch.mit.edu) 簡單、好上手, 常常被當成一個教小朋友程式設計的工具。\n",
    "\n",
    "![Scratch](images/scratch.gif)"
   ]
  },
  {
   "cell_type": "markdown",
   "metadata": {},
   "source": [
    "### Micro:bit\n",
    "\n",
    "[Micro:bit （香港）繁體網站](https://microbit.org/hk/code/)\n",
    "這是 Micro:bit 的官網, 很方便查有什麼指令可以使用、怎麼用。\n",
    "\n",
    "[好用的 Mu Editor](https://codewith.mu/)\n",
    "Mu 編輯器甚至比 Micro:bit 官網還好用! 上傳程式按個鍵就上傳, 不需要先下載檔案再手動上傳。\n",
    "\n",
    "[Micro:bit 線上模擬器](https://create.withcode.uk)\n",
    "這裡可以看到 Micro:bit 執行的狀況, 還可以模擬各種動作, 非常酷!"
   ]
  },
  {
   "cell_type": "markdown",
   "metadata": {},
   "source": [
    "#### 點的漸亮漸暗\n",
    "\n",
    "讓一個點漸漸亮、再漸暗, 一直反覆。\n",
    "\n",
    "```python\n",
    "from microbit import *\n",
    "from random import randint\n",
    "\n",
    "while True:\n",
    "  for i in range(10):\n",
    "    display.set_pixel(2, 2, i)\n",
    "    sleep(100)\n",
    "  for i in range(8,0,-1):\n",
    "    display.set_pixel(2, 2, i)\n",
    "    sleep(100)```"
   ]
  },
  {
   "cell_type": "markdown",
   "metadata": {},
   "source": [
    "#### 一個光條、一直流動\n",
    "\n",
    "設一條光條, 一直往下移動。翻成程式的意思是, 我們亂數產生一個長度為 5, 每個數字是 0-9 的 list, 比如說\n",
    "\n",
    "    [3, 0, 2, 5, 9]\n",
    "    \n",
    "我們這串 list 為亮度, 畫出一條光條, 最左邊的在最下方。接著, 每次都加入一個數字, 並且把最左的數字刪去。比如說, 我們的例子可能變成:\n",
    "\n",
    "    [0, 2, 5, 9, 8]\n",
    "    [2, 5, 9, 8, 7]\n",
    "    [5, 9, 8, 7, 3]\n",
    "           :\n",
    "           :\n",
    "\n",
    "等等。\n",
    "\n",
    "```python\n",
    "from microbit import *\n",
    "from random import randint\n",
    "\n",
    "line = []\n",
    "\n",
    "for i in range(5):\n",
    "    line.append(randint(0,9))\n",
    "\n",
    "while True:\n",
    "    for i in range(5):\n",
    "        display.set_pixel(2, 4-i, line[i])\n",
    "    sleep(200)\n",
    "    line.append(randint(0,9))\n",
    "    line.pop(0)```"
   ]
  },
  {
   "cell_type": "markdown",
   "metadata": {},
   "source": [
    "#### 完整版\n",
    "\n",
    "![flow](images/flow.gif)"
   ]
  },
  {
   "cell_type": "markdown",
   "metadata": {},
   "source": [
    "#### 產生一個卦\n",
    "\n",
    "我們來寫一個種式, 讓 Micro:bit 搖兩次之後, 就出現一個八卦的卦象。\n",
    "\n",
    "![八卦](images/hexagram.png)"
   ]
  },
  {
   "cell_type": "markdown",
   "metadata": {},
   "source": [
    "```python\n",
    "from microbit import *\n",
    "from random import choice\n",
    "\n",
    "yao = [\"99999\", \"99099\"]\n",
    "\n",
    "c = 0\n",
    "while True:\n",
    "  if accelerometer.was_gesture(\"shake\"):\n",
    "    c = c + 1\n",
    "    if c == 2:\n",
    "      yao_list = []\n",
    "      for i in range(3):\n",
    "        yao_list.append(choice(yao))\n",
    "\n",
    "      hex_str = \":00000:\".join(yao_list)\n",
    "      hexagram = Image(hex_str)\n",
    "      display.show(hexagram)\n",
    "      c = 0```"
   ]
  }
 ],
 "metadata": {
  "kernelspec": {
   "display_name": "Python 3",
   "language": "python",
   "name": "python3"
  },
  "language_info": {
   "codemirror_mode": {
    "name": "ipython",
    "version": 3
   },
   "file_extension": ".py",
   "mimetype": "text/x-python",
   "name": "python",
   "nbconvert_exporter": "python",
   "pygments_lexer": "ipython3",
   "version": "3.7.3"
  }
 },
 "nbformat": 4,
 "nbformat_minor": 2
}
