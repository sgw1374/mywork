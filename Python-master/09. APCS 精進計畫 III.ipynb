{
 "cells": [
  {
   "cell_type": "markdown",
   "metadata": {},
   "source": [
    "## Tree 的表示法\n",
    "\n",
    "這裡我們要考慮一個 tree 的圖。\n",
    "\n"
   ]
  },
  {
   "cell_type": "code",
   "execution_count": null,
   "metadata": {},
   "outputs": [],
   "source": []
  },
  {
   "cell_type": "markdown",
   "metadata": {},
   "source": [
    "### 全域/局部變數的問題"
   ]
  },
  {
   "cell_type": "markdown",
   "metadata": {},
   "source": [
    "```c\n",
    "#include<stdio.h>\n",
    "\n",
    "int s = 1;\n",
    "\n",
    "void foo(){\n",
    "\tint s = 8;\n",
    "}\n",
    "\t\n",
    "int main(){\n",
    "\tprintf(\"原始的 s=%d\\n\", s);\n",
    "\tfoo();\n",
    "\tprintf(\"經函數 foo 後的 s=%d\\n\", s);\n",
    "\treturn 0;\n",
    "}```\n",
    "\n",
    "#### 執行結果\n",
    "\n",
    "    原始的 s=1\n",
    "    經函數 foo 後的 s=1\n",
    "\n",
    "這裡會發現雖然 `foo()` 函數會把 `s` 改成 8, 但是回來之後沒有改! 也就是外面世界是看不到 `foo` 函式裡那個 `s` 的。但 `s` 明明是全域變數, 為什麼沒有改到呢? 原因是我們在 `foo` 這個函數又「定義」一次 `s`, 於是會用新定義版本。\n",
    "\n",
    "在 Python 等價程式如下。"
   ]
  },
  {
   "cell_type": "code",
   "execution_count": 7,
   "metadata": {},
   "outputs": [
    {
     "name": "stdout",
     "output_type": "stream",
     "text": [
      "原始的 s=1\n",
      "經函數 foo 後的 s=1\n"
     ]
    }
   ],
   "source": [
    "s = 1\n",
    "\n",
    "def foo():\n",
    "    s = 8\n",
    "\n",
    "print(f\"原始的 s={s}\")\n",
    "foo()\n",
    "print(f\"經函數 foo 後的 s={s}\")"
   ]
  },
  {
   "cell_type": "markdown",
   "metadata": {},
   "source": [
    "再看只改一點點的程式。\n",
    "\n",
    "```c\n",
    "#include<stdio.h>\n",
    "\n",
    "int s = 1;\n",
    "\n",
    "void foo(){\n",
    "\ts = 8;\n",
    "}\n",
    "\t\n",
    "int main(){\n",
    "\tprintf(\"原始的 s=%d\\n\", s);\n",
    "\tfoo();\n",
    "\tprintf(\"經函數 foo 後的 s=%d\\n\", s);\n",
    "\treturn 0;\n",
    "}```\n",
    "\n",
    "#### 執行結果\n",
    "    原始的 s=1\n",
    "    經函數 foo 後的 s=8\n",
    "    \n",
    "這裡只把\n",
    "\n",
    "```c\n",
    "int s = 8;```\n",
    "\n",
    "改成\n",
    "\n",
    "```c\n",
    "s = 8;```\n",
    "\n",
    "這寫法和 Python 比較像, 可是怎麼會出來結果不同呢? 原因是 C 沒有重新定義的變數, 就會用原來的外面全域定義的變數, 一改就會改動全域變數的 `s`。\n",
    "\n",
    "Python 要做這作事的話, 要設 `foo` 裡的 `s` 為 `global` 變數。"
   ]
  },
  {
   "cell_type": "code",
   "execution_count": 9,
   "metadata": {},
   "outputs": [
    {
     "name": "stdout",
     "output_type": "stream",
     "text": [
      "原始的 s=1\n",
      "經函數 foo 後的 s=8\n"
     ]
    }
   ],
   "source": [
    "s = 1\n",
    "\n",
    "def foo():\n",
    "    global s \n",
    "    s = 8\n",
    "\n",
    "print(f\"原始的 s={s}\")\n",
    "foo()\n",
    "print(f\"經函數 foo 後的 s={s}\")"
   ]
  },
  {
   "cell_type": "markdown",
   "metadata": {},
   "source": [
    "### 錯誤程式的修正 (`break` 使用)"
   ]
  },
  {
   "cell_type": "markdown",
   "metadata": {},
   "source": [
    "    11 12 13 14 15 3\n",
    "    11 12 13 14 25 20\n",
    "    23 15 18 20 11 12\n",
    "    18 17 19 24 15 16"
   ]
  },
  {
   "cell_type": "code",
   "execution_count": 6,
   "metadata": {},
   "outputs": [
    {
     "name": "stdout",
     "output_type": "stream",
     "text": [
      "11 12 13 14 25 20\n",
      "20 is not the smallest.\n"
     ]
    }
   ],
   "source": [
    "line = input().split()\n",
    "n_line = [int(x) for x in line]\n",
    "\n",
    "d = n_line[:-1]\n",
    "val = n_line[-1]\n",
    "allBig = True\n",
    "for i in range(5):\n",
    "    if (d[i]>val):\n",
    "        allBig = True\n",
    "    else:\n",
    "        allBig = False\n",
    "        \n",
    "if (allBig == True):\n",
    "    print(f\"{val} is the smallest.\")\n",
    "else:\n",
    "    print(f\"{val} is not the smallest.\")"
   ]
  },
  {
   "cell_type": "code",
   "execution_count": null,
   "metadata": {},
   "outputs": [],
   "source": []
  },
  {
   "cell_type": "markdown",
   "metadata": {},
   "source": [
    "## LeetCode 練習程式技巧\n",
    "\n",
    "[LeetCode](https://leetcode.com) 是非常有名的程式練習網站, 很多人在練習程式功力、尤其是想要找程式設計師相關工作的, 常常會「刷 LeetCode」練習。\n",
    "\n",
    "我們開始可以專選 \"Easy\" 等級的題目, 如果我們程式正確回答 (submit 成功) 之後, 題目前面就會打個勾。而一些「上鎖」的題目, 就是要付費後才可以看。不過沒有上鎖的題目已非常多, 相信很足夠開始的練習。\n",
    "\n",
    "![LeetCode 問題列表](images/leetcode01.png)"
   ]
  },
  {
   "cell_type": "markdown",
   "metadata": {},
   "source": [
    "#### LeetCode 回答的準備\n",
    "\n",
    "選好一個問題進去,  我們要選擇回答的語言是 \"Python 3\", 這時會出來一個看來有點可怕的 class 定義。但不用擔心! 每次都只改這 class 裡的 (唯一的) 方法 (函式), 記得答案都是用 `return` 回傳回來就可以。\n",
    "\n",
    "![LeetCode 問題例子](images/leetcode02.png)\n",
    "\n",
    "我們要注意的是這段要略略的修改:\n",
    "\n",
    "```python\n",
    "class Solution:\n",
    "    def fib(self, N: int) -> int:```\n",
    "    \n",
    "要改成\n",
    "```python\n",
    "class Solution:\n",
    "    def fib(self, N):```\n",
    "    \n",
    "記得回傳需要是一個整數, 假設叫做 `M`, 那整個程式架構會是這樣:\n",
    "\n",
    "```python\n",
    "class Solution:\n",
    "    def fib(self, N):\n",
    "        \n",
    "        (你的程式)\n",
    "        \n",
    "        return M```"
   ]
  },
  {
   "cell_type": "markdown",
   "metadata": {},
   "source": [
    "#### Submit 你的程式\n",
    "\n",
    "我們在真正提交自己答案前, 可以先 Run 我們的程式看看, 如果和預期答案一樣, 我們就可以 Submit 了! 這裡要注意的是, 因為是寫在 Class 裡面, 要呼叫 `fib` 這個函數, 要用 `self.fib`。\n",
    "\n",
    "![Run LeetCode](images/leetcode03.png)"
   ]
  },
  {
   "cell_type": "markdown",
   "metadata": {},
   "source": [
    "成功就會在左上角出現 Success! 失敗的話再回來改就是了。"
   ]
  }
 ],
 "metadata": {
  "kernelspec": {
   "display_name": "Python 3",
   "language": "python",
   "name": "python3"
  },
  "language_info": {
   "codemirror_mode": {
    "name": "ipython",
    "version": 3
   },
   "file_extension": ".py",
   "mimetype": "text/x-python",
   "name": "python",
   "nbconvert_exporter": "python",
   "pygments_lexer": "ipython3",
   "version": "3.7.3"
  }
 },
 "nbformat": 4,
 "nbformat_minor": 2
}
