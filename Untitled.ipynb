{
 "cells": [
  {
   "cell_type": "code",
   "execution_count": 21,
   "metadata": {},
   "outputs": [],
   "source": [
    "A=[[1,2,3],[2,3,4],[3,4,5]]"
   ]
  },
  {
   "cell_type": "code",
   "execution_count": 24,
   "metadata": {},
   "outputs": [
    {
     "name": "stdout",
     "output_type": "stream",
     "text": [
      "6\n",
      "9\n",
      "12\n"
     ]
    }
   ],
   "source": [
    "m=len(A)\n",
    "n=len(A[0])\n",
    "for i in range(m):\n",
    "    rowsum=0\n",
    "    for j in range(n):\n",
    "        rowsum=rowsum+A[i][j]\n",
    "    print(rowsum)"
   ]
  },
  {
   "cell_type": "code",
   "execution_count": null,
   "metadata": {},
   "outputs": [],
   "source": []
  },
  {
   "cell_type": "code",
   "execution_count": null,
   "metadata": {},
   "outputs": [],
   "source": []
  },
  {
   "cell_type": "code",
   "execution_count": 33,
   "metadata": {},
   "outputs": [],
   "source": [
    "def B(n,k):\n",
    "    if (k==0 or n==k):\n",
    "        print(\"base case\")\n",
    "        return 1\n",
    "    return B(n-1,k-1)+B(n-1,k)"
   ]
  },
  {
   "cell_type": "code",
   "execution_count": 34,
   "metadata": {},
   "outputs": [
    {
     "name": "stdout",
     "output_type": "stream",
     "text": [
      "base case\n",
      "base case\n",
      "base case\n",
      "base case\n",
      "base case\n",
      "base case\n",
      "base case\n",
      "base case\n",
      "base case\n",
      "base case\n"
     ]
    },
    {
     "data": {
      "text/plain": [
       "10"
      ]
     },
     "execution_count": 34,
     "metadata": {},
     "output_type": "execute_result"
    }
   ],
   "source": [
    "B(5,2)"
   ]
  },
  {
   "cell_type": "code",
   "execution_count": null,
   "metadata": {},
   "outputs": [],
   "source": []
  },
  {
   "cell_type": "code",
   "execution_count": 50,
   "metadata": {},
   "outputs": [
    {
     "name": "stdout",
     "output_type": "stream",
     "text": [
      "1(m_1)\n",
      "6(s_1)\n",
      "7(s_2)\n",
      "7(s_1)\n",
      "8(s_2)\n",
      "1(m_2)\n",
      "9(m_3)\n"
     ]
    }
   ],
   "source": [
    "s=1\n",
    "def add(a=0):\n",
    "    s=6\n",
    "    while a >= 0:\n",
    "        print(f'{s}(s_1)')\n",
    "        s=s+1\n",
    "        print(f'{s}(s_2)')\n",
    "        a=a-1\n",
    "    \n",
    "print(f'{s}(m_1)')\n",
    "add(s)\n",
    "print(f'{s}(m_2)')\n",
    "s=9\n",
    "print(f'{s}(m_3)')\n"
   ]
  },
  {
   "cell_type": "code",
   "execution_count": null,
   "metadata": {},
   "outputs": [],
   "source": []
  },
  {
   "cell_type": "code",
   "execution_count": 113,
   "metadata": {},
   "outputs": [
    {
     "name": "stdout",
     "output_type": "stream",
     "text": [
      "d=[0, 1, 2, 3, 4, 5]\n",
      "key some int:11\n",
      "key some int:12\n",
      "key some int:13\n",
      "key some int:14\n",
      "key some int:25\n",
      "key some int20\n",
      "d=[0, 11, 12, 13, 14, 25]\n",
      "20 is the smallest.\n"
     ]
    }
   ],
   "source": [
    "d=list(range(6))\n",
    "val=0\n",
    "allbig=0\n",
    "\n",
    "print(f\"d={d}\")\n",
    "for i in range(1,5+1):\n",
    "    d[i]=int(input(\"key some int:\"))\n",
    "val=int(input(\"key some int\"))\n",
    "allbig=True\n",
    "\n",
    "print(f\"d={d}\")\n",
    "\n",
    "for i in range(1,5+1):\n",
    "    if int(d[i]) > val :\n",
    "        allbig=True\n",
    "    else:\n",
    "        allbig=False\n",
    "\n",
    "if allbig==True:\n",
    "    print(val,'is the smallest.')\n",
    "else:\n",
    "    print(val,'is not the smallest.')"
   ]
  },
  {
   "cell_type": "code",
   "execution_count": 75,
   "metadata": {},
   "outputs": [
    {
     "name": "stdout",
     "output_type": "stream",
     "text": [
      "11\n",
      "12\n",
      "13\n",
      "14\n",
      "25\n",
      "20\n",
      "20 is the smallest.\n"
     ]
    }
   ],
   "source": [
    "\n",
    "\n",
    "for i in range(6):\n",
    "    i=int(input())\n",
    "    d.append(i)\n",
    "\n",
    "val=int(d[5])\n",
    "allbig=True\n",
    "for j in range(0,5):\n",
    "    if int(d[j]) > val :\n",
    "        allbig=True\n",
    "    else:\n",
    "        allbig=False\n",
    "\n",
    "if allbig==True:\n",
    "    print(val,'is the smallest.')\n",
    "else:\n",
    "    print(val,'is not the smallest.')"
   ]
  },
  {
   "cell_type": "code",
   "execution_count": 76,
   "metadata": {},
   "outputs": [
    {
     "data": {
      "text/plain": [
       "[11, 12, 13, 14, 25, 20]"
      ]
     },
     "execution_count": 76,
     "metadata": {},
     "output_type": "execute_result"
    }
   ],
   "source": [
    "d"
   ]
  },
  {
   "cell_type": "code",
   "execution_count": 77,
   "metadata": {},
   "outputs": [
    {
     "data": {
      "text/plain": [
       "11"
      ]
     },
     "execution_count": 77,
     "metadata": {},
     "output_type": "execute_result"
    }
   ],
   "source": [
    "min(d)"
   ]
  },
  {
   "cell_type": "code",
   "execution_count": 83,
   "metadata": {},
   "outputs": [
    {
     "name": "stdout",
     "output_type": "stream",
     "text": [
      "18\n",
      "17\n",
      "19\n",
      "24\n",
      "15\n",
      "16\n",
      "16 is not the smallest.\n"
     ]
    }
   ],
   "source": [
    "d=[]\n",
    "\n",
    "for i in range(6):\n",
    "    i=int(input())\n",
    "    d.append(i)\n",
    "\n",
    "val=int(d[5])\n",
    "\n",
    "if val== min(d):\n",
    "    print(val,'is the smallest.')\n",
    "else:\n",
    "    print(val,'is not the smallest.')"
   ]
  },
  {
   "cell_type": "code",
   "execution_count": 105,
   "metadata": {},
   "outputs": [
    {
     "name": "stdout",
     "output_type": "stream",
     "text": [
      "11 12 13 14 25 20\n",
      "20 is not the smallest.\n"
     ]
    }
   ],
   "source": [
    "line=input()\n",
    "d=line.split()\n",
    "\n",
    "val=int(d[5])\n",
    "allbig=True\n",
    "for j in range(0,5):\n",
    "    if int(d[j]) > val :\n",
    "        allbig=True\n",
    "    else:\n",
    "        allbig=False\n",
    "        break\n",
    "\n",
    "if allbig==True:\n",
    "    print(d[5],'is the smallest.')\n",
    "else:\n",
    "    print(d[5],'is not the smallest.')"
   ]
  },
  {
   "cell_type": "code",
   "execution_count": null,
   "metadata": {},
   "outputs": [],
   "source": []
  }
 ],
 "metadata": {
  "kernelspec": {
   "display_name": "Python 3",
   "language": "python",
   "name": "python3"
  },
  "language_info": {
   "codemirror_mode": {
    "name": "ipython",
    "version": 3
   },
   "file_extension": ".py",
   "mimetype": "text/x-python",
   "name": "python",
   "nbconvert_exporter": "python",
   "pygments_lexer": "ipython3",
   "version": "3.7.3"
  }
 },
 "nbformat": 4,
 "nbformat_minor": 2
}
