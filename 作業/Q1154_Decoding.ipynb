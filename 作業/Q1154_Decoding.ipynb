{
 "cells": [
  {
   "cell_type": "markdown",
   "metadata": {},
   "source": [
    "```\n",
    "編碼是把一段訊息由一種格式轉換成另一種格式，目前存在許多種編碼方式，本題要處理的是一種稱為\"紀錄重複次數編碼\"(Run-Length Encoding)的簡易編碼方式。\n",
    "\"紀錄重複次數編碼\"是一種簡單易懂的資料壓縮方式，它把連續出現的字元以該字元及其重複次數來取代，例如AAA表示A連續出現3次，故以A3來取代 AAA。另一個例子是\"AABBBBDAA\"換成\"A2B4D1A2\"。\n",
    "本題要求把編碼後的字串轉回原來的字串(即進行解碼)。\n",
    "```\n",
    "```\n",
    "Input\n",
    "輸入的第一列為整數 T ( T < 50 )，表示測試資料的組數，每組測試資料有一列字串，表示被編碼後的字串，該字串只會出現數字[0-9]，及大寫字母[A-Z]。所有的字串必定是正確的編碼字串。\n",
    "\n",
    "Output\n",
    "請輸出每組測試資料的編號及解碼後的字串， 格式如下。\n",
    "編碼後的字串長度不會超過200個字元。\n",
    "``` \n",
    "```\n",
    "Sample Input                             \n",
    "3\n",
    "A2B4D1A2\n",
    "A12\n",
    "A1B1C1D1\n",
    "\n",
    "Output for Sample Input\n",
    "Case 1: AABBBBDAA\n",
    "Case 2: AAAAAAAAAAAA\n",
    "Case 3: ABCD\n",
    "```"
   ]
  },
  {
   "cell_type": "code",
   "execution_count": 96,
   "metadata": {},
   "outputs": [
    {
     "name": "stdout",
     "output_type": "stream",
     "text": [
      "3\n",
      "A2B4D1A2\n",
      "AABBBBDAA\n",
      "A12\n",
      "AAAAAAAAAAAA\n",
      "A1B1C1D1\n",
      "ABCD\n"
     ]
    }
   ],
   "source": [
    "n = int (input())\n",
    "\n",
    "for a in range(n):\n",
    "    a=list(input())\n",
    "    b=''\n",
    "    for j in range(len(a)):\n",
    "        if a[j].isupper()==False and a[j-1].isupper() ==False :\n",
    "            b=b+a[j]\n",
    "        else:\n",
    "            b=b+\" \"+a[j]\n",
    "    code=b.split()\n",
    "    answer=\"\"\n",
    "    for k in range(0,len(code),2):\n",
    "        answer=answer+(str(code[k])*int(code[k+1]))\n",
    "    print(answer)\n"
   ]
  },
  {
   "cell_type": "code",
   "execution_count": null,
   "metadata": {},
   "outputs": [],
   "source": []
  },
  {
   "cell_type": "code",
   "execution_count": 85,
   "metadata": {},
   "outputs": [
    {
     "name": "stdout",
     "output_type": "stream",
     "text": [
      "A12B3D4\n"
     ]
    }
   ],
   "source": [
    "a=list(input())"
   ]
  },
  {
   "cell_type": "code",
   "execution_count": 86,
   "metadata": {
    "scrolled": true
   },
   "outputs": [
    {
     "data": {
      "text/plain": [
       "['A', '1', '2', 'B', '3', 'D', '4']"
      ]
     },
     "execution_count": 86,
     "metadata": {},
     "output_type": "execute_result"
    }
   ],
   "source": [
    "a"
   ]
  },
  {
   "cell_type": "code",
   "execution_count": 90,
   "metadata": {},
   "outputs": [],
   "source": [
    "b=\"\"\n",
    "for j in range(len(a)):\n",
    "    if a[j].isupper()==False and a[j-1].isupper() ==False :\n",
    "        b=b+a[j]\n",
    "    else:\n",
    "        b=b+\" \"+a[j]"
   ]
  },
  {
   "cell_type": "code",
   "execution_count": 91,
   "metadata": {},
   "outputs": [
    {
     "data": {
      "text/plain": [
       "' A 12 B 3 D 4'"
      ]
     },
     "execution_count": 91,
     "metadata": {},
     "output_type": "execute_result"
    }
   ],
   "source": [
    "b"
   ]
  },
  {
   "cell_type": "code",
   "execution_count": 92,
   "metadata": {},
   "outputs": [],
   "source": [
    "code=b.split()"
   ]
  },
  {
   "cell_type": "code",
   "execution_count": 93,
   "metadata": {},
   "outputs": [
    {
     "data": {
      "text/plain": [
       "['A', '12', 'B', '3', 'D', '4']"
      ]
     },
     "execution_count": 93,
     "metadata": {},
     "output_type": "execute_result"
    }
   ],
   "source": [
    "code"
   ]
  },
  {
   "cell_type": "code",
   "execution_count": 94,
   "metadata": {},
   "outputs": [],
   "source": [
    "answer=\"\"\n",
    "for k in range(0,len(code),2):\n",
    "    answer=answer+(str(code[k])*int(code[k+1]))"
   ]
  },
  {
   "cell_type": "code",
   "execution_count": 95,
   "metadata": {},
   "outputs": [
    {
     "data": {
      "text/plain": [
       "'AAAAAAAAAAAABBBDDDD'"
      ]
     },
     "execution_count": 95,
     "metadata": {},
     "output_type": "execute_result"
    }
   ],
   "source": [
    "answer"
   ]
  },
  {
   "cell_type": "code",
   "execution_count": null,
   "metadata": {},
   "outputs": [],
   "source": []
  }
 ],
 "metadata": {
  "kernelspec": {
   "display_name": "Python 3",
   "language": "python",
   "name": "python3"
  },
  "language_info": {
   "codemirror_mode": {
    "name": "ipython",
    "version": 3
   },
   "file_extension": ".py",
   "mimetype": "text/x-python",
   "name": "python",
   "nbconvert_exporter": "python",
   "pygments_lexer": "ipython3",
   "version": "3.7.3"
  }
 },
 "nbformat": 4,
 "nbformat_minor": 2
}
