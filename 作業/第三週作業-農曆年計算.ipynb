{
 "cells": [
  {
   "cell_type": "code",
   "execution_count": 2,
   "metadata": {},
   "outputs": [
    {
     "name": "stdout",
     "output_type": "stream",
     "text": [
      "請輸入國曆年84\n",
      "民國84年,農曆乙亥年\n"
     ]
    }
   ],
   "source": [
    "year=int(input(\"請輸入國曆年\"))\n",
    "\n",
    "m=\"\"\n",
    "if year % 12 == 1:\n",
    "    m=\"子\"\n",
    "elif year % 12 == 2:\n",
    "    m=\"丑\"\n",
    "elif year % 12 == 3:\n",
    "    m=\"寅\"\n",
    "elif year % 12 == 4:\n",
    "    m=\"卯\"\n",
    "elif year % 12 == 5:\n",
    "    m=\"辰\"\n",
    "elif year % 12 == 6:\n",
    "    m=\"巳\"\n",
    "elif year % 12 == 7:\n",
    "    m=\"午\"\n",
    "elif year % 12 == 8:\n",
    "    m=\"未\"\n",
    "elif year % 12 == 9:\n",
    "    m=\"申\"\n",
    "elif year % 12 == 10:\n",
    "    m=\"酉\"\n",
    "elif year % 12 == 11:\n",
    "    m=\"戌\"\n",
    "else:\n",
    "    m=\"亥\"\n",
    "    \n",
    "n=\"\"\n",
    "if year % 10 == 1:\n",
    "    n=\"壬\"\n",
    "elif year % 10 == 2:\n",
    "    n=\"癸\"\n",
    "elif year % 10 == 3:\n",
    "    n=\"甲\"\n",
    "elif year % 10 == 4:\n",
    "    n=\"乙\"\n",
    "elif year % 10 == 5:\n",
    "    n=\"丙\"\n",
    "elif year % 10 == 6:\n",
    "    n=\"丁\"\n",
    "elif year % 10 == 7:\n",
    "    n=\"戊\"\n",
    "elif year % 10 == 8:\n",
    "    n=\"己\"\n",
    "elif year % 10 == 9:\n",
    "    n=\"庚\"\n",
    "else:\n",
    "    n=\"辛\"\n",
    "    \n",
    "print(f'民國{year}年,農曆{n}{m}年')"
   ]
  },
  {
   "cell_type": "code",
   "execution_count": null,
   "metadata": {},
   "outputs": [],
   "source": []
  },
  {
   "cell_type": "code",
   "execution_count": null,
   "metadata": {},
   "outputs": [],
   "source": []
  }
 ],
 "metadata": {
  "kernelspec": {
   "display_name": "Python 3",
   "language": "python",
   "name": "python3"
  }
 },
 "nbformat": 4,
 "nbformat_minor": 2
}
