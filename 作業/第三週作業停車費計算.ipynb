{
 "cells": [
  {
   "cell_type": "markdown",
   "metadata": {},
   "source": [
    "台北市停車場，停車費每小時70元，一日最高收費500元，\n",
    "\n",
    "未滿30分鐘不計價，滿30分鐘，未滿1小時，以1小時計價，\n",
    "\n",
    "輸入進場時間及出場時間，試算停車費："
   ]
  },
  {
   "cell_type": "code",
   "execution_count": 21,
   "metadata": {},
   "outputs": [
    {
     "name": "stdout",
     "output_type": "stream",
     "text": [
      "輸入進場時間(24時制)，時與分以空格分開9 30\n",
      "輸入出場時間(24時制)，時與分以空格分開13 13\n",
      "停車時間=3 : 43\n",
      "應繳停車費=280元\n"
     ]
    }
   ],
   "source": [
    "time1=input(\"輸入進場時間(24時制)，時與分以空格分開\")\n",
    "time2=input(\"輸入出場時間(24時制)，時與分以空格分開\")\n",
    "\n",
    "sec1=time1.split()\n",
    "sec1\n",
    "sec2=time2.split()\n",
    "sec2\n",
    "\n",
    "second1=int(sec1[0])*60+int(sec1[1])\n",
    "second2=int(sec2[0])*60+int(sec2[1])\n",
    "\n",
    "hour=(second2 - second1) // 60\n",
    "minute=(second2 - second1) % 60\n",
    "print(f\"停車時間={hour} : {minute}\")\n",
    "\n",
    "money1=hour *70\n",
    "\n",
    "if minute < 30 :\n",
    "    money2=0\n",
    "else:\n",
    "    money2=70\n",
    "    \n",
    "if money1 + money2 >= 500 :\n",
    "    print(\"應繳停車費=500元\")\n",
    "else:\n",
    "    print(f\"應繳停車費={money1 + money2}元\")"
   ]
  },
  {
   "cell_type": "code",
   "execution_count": null,
   "metadata": {},
   "outputs": [],
   "source": []
  }
 ],
 "metadata": {
  "kernelspec": {
   "display_name": "Python 3",
   "language": "python",
   "name": "python3"
  },
  "language_info": {
   "codemirror_mode": {
    "name": "ipython",
    "version": 3
   },
   "file_extension": ".py",
   "mimetype": "text/x-python",
   "name": "python",
   "nbconvert_exporter": "python",
   "pygments_lexer": "ipython3",
   "version": "3.7.3"
  }
 },
 "nbformat": 4,
 "nbformat_minor": 2
}
