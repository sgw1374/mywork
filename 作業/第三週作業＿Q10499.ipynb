{
 "cells": [
  {
   "cell_type": "markdown",
   "metadata": {},
   "source": [
    "在公平國內每件東西的售價都是固定的。沒有人能夠買入一個東西後用2倍的價錢賣出去。但是這也產生了市場問題，大家都不做生意而跑去做製造了。所以過了不久之後，每個人都在製造東西，但卻沒有人在做生意。這使得人們沒有辦法得到日常所需，雖然這個國家在各方面都可以自給自足。\n",
    "\n",
    "政府變的非常緊張了，他們找來了數學家們。數學家們提供了一個解決方案。他們建議賣東西時不以體積計價，而以表面積計價。\n",
    "\n",
    "現在，政府要求程式設計師建立所需軟體來計算利潤。\n",
    "\n",
    "你的任務就是計算賣一東西（固體的球體）的利潤。商人買來一個球體然後把它切割成相等的 n 等分出售。所有的切割一定都通過球體的軸心，如下圖一般：\n",
    "\n",
    "\n",
    "\n",
    "Input\n",
    "\n",
    "輸入含有多組測試資料。每組測試資料一列含有一正整數 n（0 < N < 231）。\n",
    "\n",
    "若 n 為負數，代表輸入結束，請參考Sample Input。\n",
    "\n",
    "Output\n",
    "\n",
    "對每組測試資料輸出一列，輸出商人將一實體圓球切割成相等的 n 等分後，可以獲得的利潤。以百分比表示，四捨五入到整數位數。\n",
    "\n",
    "Sample Input\t\n",
    "2\t\n",
    "2\t\n",
    "1\t\n",
    "-1\t\n",
    "Sample Output\t\n",
    "50%\t\n",
    "50%\t\n",
    "0%\t\n"
   ]
  },
  {
   "cell_type": "code",
   "execution_count": null,
   "metadata": {},
   "outputs": [],
   "source": [
    "def sale(n=0):\n",
    "    if n > 0:\n",
    "        money = round(((n-1)/n)*100)\n",
    "        show= str(money) + \"%\"\n",
    "        print(show)"
   ]
  },
  {
   "cell_type": "code",
   "execution_count": null,
   "metadata": {},
   "outputs": [],
   "source": [
    "saleman=True\n",
    "while saleman:\n",
    "    n=int(input())\n",
    "    if n>=0:\n",
    "        sale(n)\n",
    "    else:\n",
    "        break"
   ]
  },
  {
   "cell_type": "code",
   "execution_count": null,
   "metadata": {},
   "outputs": [],
   "source": []
  }
 ],
 "metadata": {
  "kernelspec": {
   "display_name": "Python 3",
   "language": "python",
   "name": "python3"
  },
  "language_info": {
   "codemirror_mode": {
    "name": "ipython",
    "version": 3
   },
   "file_extension": ".py",
   "mimetype": "text/x-python",
   "name": "python",
   "nbconvert_exporter": "python",
   "pygments_lexer": "ipython3",
   "version": "3.7.3"
  }
 },
 "nbformat": 4,
 "nbformat_minor": 2
}
