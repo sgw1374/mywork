{
 "cells": [
  {
   "cell_type": "markdown",
   "metadata": {},
   "source": [
    "# Q11942 : Lumberjack Sequencing\n",
    "有一個工頭與一群伐木工，工頭很喜歡找伐木工們的麻煩，他會要求伐木工們以十個一組按照他們的鬍子長短依序排成一列。\n",
    "\n",
    "你請寫一個程式判斷伐木工是否以由長到短，或以由短到長的順序排成一列。不會有人的鬍子一樣長。\n",
    "\n",
    "Input \n",
    "\n",
    "第一列有一 個整數N(0 < N < 20)表示測試資料的組數，接下來有N列，每列有10個相異的正整數表示每人鬍子的長短。\n",
    "\n",
    "Output \n",
    "\n",
    "請 以\"Ordered\"表示有照順序排列，以\"Unordered\"表示沒有照順序排列，第一列請輸出\"Lumberjacks:\"。\n",
    "\n",
    "Sample Input \n",
    "3 \n",
    "\n",
    "13 25 39 40 55 62 68 77 88 95 \n",
    "\n",
    "88 62 77 20 40 10 99 56 45 36 \n",
    "\n",
    "91 78 61 59 54 49 43 33 26 18\n",
    "\n",
    "Sample Output \n",
    "\n",
    "Lumberjacks: \n",
    "\n",
    "Ordered \n",
    "\n",
    "Unordered \n",
    "\n",
    "Ordered"
   ]
  },
  {
   "cell_type": "code",
   "execution_count": 66,
   "metadata": {},
   "outputs": [
    {
     "name": "stdout",
     "output_type": "stream",
     "text": [
      "3\n",
      "13 25 39 40 55 62 68 77 88 95\n",
      "88 62 77 20 40 10 99 56 45 36\n",
      "91 78 61 59 54 49 43 33 26 18\n",
      "Lumberjacks:\n",
      "Ordered\n",
      "Unordered\n",
      "Ordered\n"
     ]
    }
   ],
   "source": [
    "n=int(input())\n",
    "x=[]\n",
    "for i in range(n):\n",
    "    i=input()\n",
    "    x.append(i)\n",
    "\n",
    "y=[]    \n",
    "for j in range(n):\n",
    "    a= x[j].split()\n",
    "    y.append(a) \n",
    "    \n",
    "z=[]\n",
    "zz=[]\n",
    "for k in range(n):\n",
    "    y[k].sort()\n",
    "    z.append(\" \".join(y[k]))\n",
    "    y[k].sort(reverse=True)\n",
    "    zz.append(\" \".join(y[k]))\n",
    "\n",
    "print(\"Lumberjacks:\")\n",
    "for l in range(n):\n",
    "    if x[l] !=z[l] and x[l] !=zz[l]:\n",
    "        print(\"Unordered\")\n",
    "    else:\n",
    "        print(\"Ordered\")"
   ]
  },
  {
   "cell_type": "code",
   "execution_count": null,
   "metadata": {},
   "outputs": [],
   "source": []
  },
  {
   "cell_type": "code",
   "execution_count": 58,
   "metadata": {},
   "outputs": [
    {
     "name": "stdout",
     "output_type": "stream",
     "text": [
      "3\n",
      "13 25 39 40 55 62 68 77 88 95\n",
      "88 62 77 20 40 10 99 56 45 36\n",
      "91 78 61 59 54 49 43 33 26 18\n"
     ]
    }
   ],
   "source": [
    "n=int(input())\n",
    "x=[]\n",
    "for i in range(n):\n",
    "    i=input()\n",
    "    x.append(i)"
   ]
  },
  {
   "cell_type": "code",
   "execution_count": 59,
   "metadata": {},
   "outputs": [
    {
     "data": {
      "text/plain": [
       "['13 25 39 40 55 62 68 77 88 95',\n",
       " '88 62 77 20 40 10 99 56 45 36',\n",
       " '91 78 61 59 54 49 43 33 26 18']"
      ]
     },
     "execution_count": 59,
     "metadata": {},
     "output_type": "execute_result"
    }
   ],
   "source": [
    "x"
   ]
  },
  {
   "cell_type": "code",
   "execution_count": 60,
   "metadata": {},
   "outputs": [],
   "source": [
    "y=[]    \n",
    "for j in range(n):\n",
    "    a= x[j].split()\n",
    "    y.append(a) "
   ]
  },
  {
   "cell_type": "code",
   "execution_count": 61,
   "metadata": {},
   "outputs": [
    {
     "data": {
      "text/plain": [
       "[['13', '25', '39', '40', '55', '62', '68', '77', '88', '95'],\n",
       " ['88', '62', '77', '20', '40', '10', '99', '56', '45', '36'],\n",
       " ['91', '78', '61', '59', '54', '49', '43', '33', '26', '18']]"
      ]
     },
     "execution_count": 61,
     "metadata": {},
     "output_type": "execute_result"
    }
   ],
   "source": [
    "y"
   ]
  },
  {
   "cell_type": "code",
   "execution_count": 62,
   "metadata": {},
   "outputs": [],
   "source": [
    "z=[]\n",
    "zz=[]\n",
    "for k in range(n):\n",
    "    y[k].sort()\n",
    "    z.append(\" \".join(y[k]))\n",
    "    y[k].sort(reverse=True)\n",
    "    zz.append(\" \".join(y[k]))"
   ]
  },
  {
   "cell_type": "code",
   "execution_count": 63,
   "metadata": {},
   "outputs": [
    {
     "data": {
      "text/plain": [
       "['13 25 39 40 55 62 68 77 88 95',\n",
       " '10 20 36 40 45 56 62 77 88 99',\n",
       " '18 26 33 43 49 54 59 61 78 91']"
      ]
     },
     "execution_count": 63,
     "metadata": {},
     "output_type": "execute_result"
    }
   ],
   "source": [
    "z"
   ]
  },
  {
   "cell_type": "code",
   "execution_count": 52,
   "metadata": {},
   "outputs": [
    {
     "data": {
      "text/plain": [
       "['95 88 77 68 62 55 40 39 25 13',\n",
       " '99 88 77 62 56 45 40 36 20 10',\n",
       " '91 78 61 59 54 49 43 33 26 18']"
      ]
     },
     "execution_count": 52,
     "metadata": {},
     "output_type": "execute_result"
    }
   ],
   "source": [
    "zz"
   ]
  },
  {
   "cell_type": "code",
   "execution_count": 64,
   "metadata": {},
   "outputs": [
    {
     "name": "stdout",
     "output_type": "stream",
     "text": [
      "Ordered\n",
      "Unordered\n",
      "Ordered\n"
     ]
    }
   ],
   "source": [
    "for l in range(n):\n",
    "    if x[l] !=z[l] and x[l] !=zz[l]:\n",
    "        print(\"Unordered\")\n",
    "    else:\n",
    "        print(\"Ordered\")"
   ]
  },
  {
   "cell_type": "code",
   "execution_count": 55,
   "metadata": {},
   "outputs": [
    {
     "data": {
      "text/plain": [
       "'10 20 36 40 45 56 62 77 88 99'"
      ]
     },
     "execution_count": 55,
     "metadata": {},
     "output_type": "execute_result"
    }
   ],
   "source": [
    "x[1]"
   ]
  },
  {
   "cell_type": "code",
   "execution_count": 57,
   "metadata": {},
   "outputs": [
    {
     "data": {
      "text/plain": [
       "True"
      ]
     },
     "execution_count": 57,
     "metadata": {},
     "output_type": "execute_result"
    }
   ],
   "source": [
    "x[2] !=z[2]"
   ]
  },
  {
   "cell_type": "code",
   "execution_count": null,
   "metadata": {},
   "outputs": [],
   "source": []
  }
 ],
 "metadata": {
  "kernelspec": {
   "display_name": "Python 3",
   "language": "python",
   "name": "python3"
  },
  "language_info": {
   "codemirror_mode": {
    "name": "ipython",
    "version": 3
   },
   "file_extension": ".py",
   "mimetype": "text/x-python",
   "name": "python",
   "nbconvert_exporter": "python",
   "pygments_lexer": "ipython3",
   "version": "3.7.4"
  }
 },
 "nbformat": 4,
 "nbformat_minor": 2
}
