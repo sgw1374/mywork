{
 "cells": [
  {
   "cell_type": "markdown",
   "metadata": {},
   "source": [
    "# 溫度轉換器"
   ]
  },
  {
   "cell_type": "code",
   "execution_count": 6,
   "metadata": {},
   "outputs": [
    {
     "name": "stdout",
     "output_type": "stream",
     "text": [
      "請輸入攝氏溫度:100\n",
      "華氏溫度為 212.0\n",
      "絕對溫度為 373.15\n"
     ]
    }
   ],
   "source": [
    "t=1.8\n",
    "c=float(input(\"請輸入攝氏溫度:\"))\n",
    "print('華氏溫度為',c*t+32)\n",
    "print('絕對溫度為',c+273.15)"
   ]
  },
  {
   "cell_type": "code",
   "execution_count": null,
   "metadata": {},
   "outputs": [],
   "source": []
  },
  {
   "cell_type": "code",
   "execution_count": null,
   "metadata": {},
   "outputs": [],
   "source": []
  },
  {
   "cell_type": "markdown",
   "metadata": {},
   "source": [
    "## 第二週作業\n",
    "##### Q11984: A Change in Thermal Unit"
   ]
  },
  {
   "cell_type": "code",
   "execution_count": 30,
   "metadata": {},
   "outputs": [
    {
     "name": "stdout",
     "output_type": "stream",
     "text": [
      "4\n",
      "40 20\n",
      "50 30\n",
      "20 100\n",
      "30 50\n",
      "case1 51.11\n",
      "case2 66.67\n",
      "case3 75.56\n",
      "case4 57.78\n"
     ]
    }
   ],
   "source": [
    "n=int(input())\n",
    "x=[]\n",
    "for i in range(n):\n",
    "    i=input()\n",
    "    x.append(i)\n",
    "\n",
    "y=[]\n",
    "for j in range(n):\n",
    "    a= x[j].split()\n",
    "    y.append(a)    \n",
    "    \n",
    "for k in range(n):\n",
    "    c= int(y[k][0])+(int(y[k][1])*5/9)\n",
    "    print(f'case{k+1} {c:.2f}')"
   ]
  },
  {
   "cell_type": "code",
   "execution_count": null,
   "metadata": {},
   "outputs": [],
   "source": []
  },
  {
   "cell_type": "code",
   "execution_count": 23,
   "metadata": {},
   "outputs": [
    {
     "name": "stdout",
     "output_type": "stream",
     "text": [
      "2\n",
      "100 0\n",
      "0 100\n"
     ]
    }
   ],
   "source": [
    "n=int(input())\n",
    "x=[]\n",
    "for i in range(n):\n",
    "    i=input()\n",
    "    x.append(i)"
   ]
  },
  {
   "cell_type": "code",
   "execution_count": 24,
   "metadata": {},
   "outputs": [
    {
     "data": {
      "text/plain": [
       "['100 0', '0 100']"
      ]
     },
     "execution_count": 24,
     "metadata": {},
     "output_type": "execute_result"
    }
   ],
   "source": [
    "x"
   ]
  },
  {
   "cell_type": "code",
   "execution_count": 25,
   "metadata": {},
   "outputs": [],
   "source": [
    "y=[]\n",
    "for j in range(n):\n",
    "    a= x[j].split()\n",
    "    y.append(a)"
   ]
  },
  {
   "cell_type": "code",
   "execution_count": 26,
   "metadata": {},
   "outputs": [
    {
     "data": {
      "text/plain": [
       "[['100', '0'], ['0', '100']]"
      ]
     },
     "execution_count": 26,
     "metadata": {},
     "output_type": "execute_result"
    }
   ],
   "source": [
    "y"
   ]
  },
  {
   "cell_type": "code",
   "execution_count": 28,
   "metadata": {},
   "outputs": [
    {
     "name": "stdout",
     "output_type": "stream",
     "text": [
      "100.0\n",
      "case1 100.00\n",
      "55.55555555555556\n",
      "case2 55.56\n"
     ]
    }
   ],
   "source": [
    "for k in range(n):\n",
    "    c= int(y[k][0])+(int(y[k][1])*5/9)\n",
    "    print(c)\n",
    "    print(f'case{k+1} {c:.2f}')"
   ]
  },
  {
   "cell_type": "code",
   "execution_count": null,
   "metadata": {},
   "outputs": [],
   "source": []
  }
 ],
 "metadata": {
  "kernelspec": {
   "display_name": "Python 3",
   "language": "python",
   "name": "python3"
  },
  "language_info": {
   "codemirror_mode": {
    "name": "ipython",
    "version": 3
   },
   "file_extension": ".py",
   "mimetype": "text/x-python",
   "name": "python",
   "nbconvert_exporter": "python",
   "pygments_lexer": "ipython3",
   "version": "3.7.3"
  }
 },
 "nbformat": 4,
 "nbformat_minor": 2
}
