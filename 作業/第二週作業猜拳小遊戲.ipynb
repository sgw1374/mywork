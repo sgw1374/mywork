{
 "cells": [
  {
   "cell_type": "code",
   "execution_count": 38,
   "metadata": {},
   "outputs": [],
   "source": [
    "from random import choice\n",
    "from IPython.display import display, Markdown, HTML"
   ]
  },
  {
   "cell_type": "code",
   "execution_count": 39,
   "metadata": {},
   "outputs": [],
   "source": [
    "html_win = '<h2 style=\"color:red;\">玩家獲勝<h2>'\n",
    "html_lose = '<h2 style=\"color:red;\">電腦獲勝<h2>'\n",
    "html_flat = '<h2 style=\"color:red;\">雙方平手<h2>'"
   ]
  },
  {
   "cell_type": "code",
   "execution_count": 41,
   "metadata": {},
   "outputs": [
    {
     "data": {
      "text/markdown": [
       "## 遊戲代號：0:代表剪刀,1:石頭,2:代表布"
      ],
      "text/plain": [
       "<IPython.core.display.Markdown object>"
      ]
     },
     "metadata": {},
     "output_type": "display_data"
    },
    {
     "name": "stdout",
     "output_type": "stream",
     "text": [
      "請輸入你要出的拳2\n",
      "玩家出拳： 布\n",
      "電腦出拳： 剪刀\n"
     ]
    },
    {
     "data": {
      "text/html": [
       "<h2 style=\"color:red;\">電腦獲勝<h2>"
      ],
      "text/plain": [
       "<IPython.core.display.HTML object>"
      ]
     },
     "metadata": {},
     "output_type": "display_data"
    }
   ],
   "source": [
    "game = ['石頭' , '剪刀', '布']\n",
    "\n",
    "display(Markdown('## 遊戲代號：0:代表剪刀,1:石頭,2:代表布'))\n",
    "player= int(input('請輸入你要出的拳'))\n",
    "\n",
    "if player>=0 and player<=2:\n",
    "    computer=choice(range(0, 3))  \n",
    "    print(\"玩家出拳：\", game[player])\n",
    "    print(\"電腦出拳：\", game[computer])\n",
    "\n",
    "    if player == computer:\n",
    "        display(HTML(html_flat))\n",
    "    elif (player+1) % 3 ==computer:\n",
    "        display(HTML(html_win))\n",
    "    else:\n",
    "        display(HTML(html_lose))\n",
    "else:\n",
    "    print(\"代號錯誤請重新輸入\")"
   ]
  },
  {
   "cell_type": "code",
   "execution_count": null,
   "metadata": {},
   "outputs": [],
   "source": []
  }
 ],
 "metadata": {
  "kernelspec": {
   "display_name": "Python 3",
   "language": "python",
   "name": "python3"
  },
  "language_info": {
   "codemirror_mode": {
    "name": "ipython",
    "version": 3
   },
   "file_extension": ".py",
   "mimetype": "text/x-python",
   "name": "python",
   "nbconvert_exporter": "python",
   "pygments_lexer": "ipython3",
   "version": "3.7.3"
  }
 },
 "nbformat": 4,
 "nbformat_minor": 2
}
