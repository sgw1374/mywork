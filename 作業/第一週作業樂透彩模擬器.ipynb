{
 "cells": [
  {
   "cell_type": "code",
   "execution_count": 18,
   "metadata": {},
   "outputs": [],
   "source": [
    "from random import choice"
   ]
  },
  {
   "cell_type": "code",
   "execution_count": 19,
   "metadata": {},
   "outputs": [],
   "source": [
    "def game():\n",
    "    start=input(\"啟動\")\n",
    "    L1=[]\n",
    "    L=[1,2,3,4,5,6,7,8]\n",
    "    L2=[]\n",
    "    c=choice(L)\n",
    "    L2.append(c)\n",
    "    for i in range (0,6):\n",
    "        b =choice(range(1,50))\n",
    "        L1.append(b)\n",
    "    print(L1)\n",
    "    print(L2)"
   ]
  },
  {
   "cell_type": "code",
   "execution_count": 20,
   "metadata": {},
   "outputs": [
    {
     "name": "stdout",
     "output_type": "stream",
     "text": [
      "啟動1\n",
      "[37, 23, 9, 4, 24, 33]\n",
      "[8]\n",
      "\n",
      "祝你中大獎\n",
      "再玩一次2\n",
      "啟動1\n",
      "[12, 41, 7, 14, 29, 27]\n",
      "[8]\n",
      "\n",
      "祝你中大獎\n",
      "再玩一次\n",
      "啟動2\n",
      "[1, 9, 21, 49, 35, 46]\n",
      "[7]\n",
      "\n",
      "祝你中大獎\n",
      "再玩一次no\n"
     ]
    }
   ],
   "source": [
    "play=True\n",
    "\n",
    "while play:\n",
    "    game()\n",
    "    print()\n",
    "    print(\"祝你中大獎\")\n",
    "    again=input(\"再玩一次\")\n",
    "    if again=='no':\n",
    "        play=False"
   ]
  },
  {
   "cell_type": "code",
   "execution_count": null,
   "metadata": {},
   "outputs": [],
   "source": []
  }
 ],
 "metadata": {
  "kernelspec": {
   "display_name": "Python 3",
   "language": "python",
   "name": "python3"
  },
  "language_info": {
   "codemirror_mode": {
    "name": "ipython",
    "version": 3
   },
   "file_extension": ".py",
   "mimetype": "text/x-python",
   "name": "python",
   "nbconvert_exporter": "python",
   "pygments_lexer": "ipython3",
   "version": "3.7.3"
  }
 },
 "nbformat": 4,
 "nbformat_minor": 2
}
