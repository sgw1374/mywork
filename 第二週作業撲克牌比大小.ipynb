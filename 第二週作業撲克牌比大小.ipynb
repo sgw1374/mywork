{
 "cells": [
  {
   "cell_type": "code",
   "execution_count": 39,
   "metadata": {},
   "outputs": [],
   "source": [
    "from random import choice,sample\n",
    "from IPython.display import display, Markdown"
   ]
  },
  {
   "cell_type": "code",
   "execution_count": 40,
   "metadata": {},
   "outputs": [],
   "source": [
    "md_win = \"## 玩家獲勝\"\n",
    "md01 = Markdown(md_win)\n",
    "md_lose = \"## 電腦獲勝\"\n",
    "md02 = Markdown(md_lose)\n",
    "md_flat = \"## 雙方平手\"\n",
    "md03 = Markdown(md_flat)"
   ]
  },
  {
   "cell_type": "code",
   "execution_count": 41,
   "metadata": {},
   "outputs": [],
   "source": [
    "class Card:\n",
    "    SUITS=[\"♠\",\"♥\",\"♦\",\"♣\"]\n",
    "    RANKS=['A','2','3','4','5','6','7','8','9','10','J','Q','K']\n",
    "    \n",
    "    def __init__(self, s, r):\n",
    "        self.suit = s\n",
    "        self.rank = r\n",
    "    \n",
    "    def show(self):\n",
    "        print(self.SUITS[self.suit] + self.RANKS[self.rank])"
   ]
  },
  {
   "cell_type": "code",
   "execution_count": 44,
   "metadata": {},
   "outputs": [],
   "source": [
    "def cardgame():\n",
    "    player=input('玩家抽牌')\n",
    "    \n",
    "    a=int(choice(range(4)))\n",
    "    b=int(choice(range(13)))\n",
    "    card01=Card(a,b) \n",
    "    card01.show()\n",
    "    \n",
    "    computer=input('電腦抽牌')\n",
    "    \n",
    "    c=int(choice(range(4)))\n",
    "    d=int(choice(range(13)))\n",
    "    card02=Card(c,d) \n",
    "    card02.show()\n",
    "    \n",
    "    if b>d:\n",
    "        display(md01)\n",
    "    elif d>b:\n",
    "        display(md02)\n",
    "    elif a>c:\n",
    "        display(md01)\n",
    "    elif c>a:\n",
    "        display(md02)\n",
    "    else:\n",
    "        display(md03)"
   ]
  },
  {
   "cell_type": "code",
   "execution_count": 45,
   "metadata": {},
   "outputs": [
    {
     "name": "stdout",
     "output_type": "stream",
     "text": [
      "玩家抽牌\n",
      "♥K\n",
      "電腦抽牌\n",
      "♣9\n"
     ]
    },
    {
     "data": {
      "text/markdown": [
       "## 玩家獲勝"
      ],
      "text/plain": [
       "<IPython.core.display.Markdown object>"
      ]
     },
     "metadata": {},
     "output_type": "display_data"
    }
   ],
   "source": [
    "cardgame()"
   ]
  },
  {
   "cell_type": "code",
   "execution_count": null,
   "metadata": {},
   "outputs": [],
   "source": []
  }
 ],
 "metadata": {
  "kernelspec": {
   "display_name": "Python 3",
   "language": "python",
   "name": "python3"
  },
  "language_info": {
   "codemirror_mode": {
    "name": "ipython",
    "version": 3
   },
   "file_extension": ".py",
   "mimetype": "text/x-python",
   "name": "python",
   "nbconvert_exporter": "python",
   "pygments_lexer": "ipython3",
   "version": "3.7.3"
  }
 },
 "nbformat": 4,
 "nbformat_minor": 2
}
