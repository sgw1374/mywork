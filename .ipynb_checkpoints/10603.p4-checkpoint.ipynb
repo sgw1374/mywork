{
 "cells": [
  {
   "cell_type": "code",
   "execution_count": 3,
   "metadata": {},
   "outputs": [
    {
     "name": "stdout",
     "output_type": "stream",
     "text": [
      "5 1\n",
      "1 5 2 7 8\n",
      "7\n"
     ]
    }
   ],
   "source": [
    "line1=input().split(\" \")\n",
    "line2=input().split(\" \")\n",
    "n=int(line1[0])\n",
    "k=int(line1[1])\n",
    "p=[]\n",
    "for i in range(n):\n",
    "    p.append(int(line2[i]))\n",
    "p.sort()\n",
    "\n",
    "def iscovered(diameter):\n",
    "    coverage=0\n",
    "    number=0\n",
    "    pos=0\n",
    "    for i in range(n):\n",
    "        coverage=p[pos]+diameter\n",
    "        number=number+1\n",
    "        if number>k:\n",
    "            return \"N\"\n",
    "        if p[n-1]<=coverage and number<=k:\n",
    "            return \"Y\"\n",
    "        pos=pos+1\n",
    "        while p[pos]<=coverage:\n",
    "            pos=pos+1\n",
    "\n",
    "lower_bound=1\n",
    "upper_bound=int((int(p[n-1])-int(p[0]))/k)+1\n",
    "\n",
    "while lower_bound<=upper_bound:\n",
    "    med=int((lower_bound+upper_bound)/2)\n",
    "    if (iscovered(med)==\"Y\"):\n",
    "        upper_bound=med\n",
    "    else:\n",
    "        lower_bound=med+1\n",
    "    if lower_bound==upper_bound:\n",
    "        break\n",
    "print(\"%d\" %upper_bound)"
   ]
  },
  {
   "cell_type": "code",
   "execution_count": null,
   "metadata": {},
   "outputs": [],
   "source": []
  }
 ],
 "metadata": {
  "kernelspec": {
   "display_name": "Python 3",
   "language": "python",
   "name": "python3"
  },
  "language_info": {
   "codemirror_mode": {
    "name": "ipython",
    "version": 3
   },
   "file_extension": ".py",
   "mimetype": "text/x-python",
   "name": "python",
   "nbconvert_exporter": "python",
   "pygments_lexer": "ipython3",
   "version": "3.7.4"
  }
 },
 "nbformat": 4,
 "nbformat_minor": 2
}
