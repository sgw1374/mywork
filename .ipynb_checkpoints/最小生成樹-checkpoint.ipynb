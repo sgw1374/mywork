{
 "cells": [
  {
   "cell_type": "code",
   "execution_count": 47,
   "metadata": {
    "scrolled": true
   },
   "outputs": [
    {
     "name": "stdout",
     "output_type": "stream",
     "text": [
      "7\n",
      "9\n",
      "5 0 10\n",
      "5 4 25\n",
      "1 6 14\n",
      "0 1 28\n",
      "6 4 24\n",
      "1 2 16\n",
      "6 3 18\n",
      "2 3 12\n",
      "4 3 22\n",
      "[[5, 0, 10], [2, 3, 12], [1, 6, 14], [1, 2, 16], [4, 3, 22], [5, 4, 25]]\n"
     ]
    }
   ],
   "source": [
    "n=int(input())\n",
    "D=int(input())\n",
    "forest=[]\n",
    "for i in range(D):\n",
    "    forest.append(list(map(int,input().split()))) \n",
    "forest.sort(key=lambda s:s[2])\n",
    "\n",
    "def find(parent, i): \n",
    "    if parent[i] == i: \n",
    "        return i \n",
    "    return find(parent, parent[i]) \n",
    "\n",
    "result =[]\n",
    "i = 0  \n",
    "parent = [] ; rank = []\n",
    "for node in range(n+1): \n",
    "    parent.append(node) \n",
    "    rank.append(0) \n",
    "      \n",
    "while len(result) < (n-1) : \n",
    "    u,v,w = forest[i] \n",
    "    i = i + 1\n",
    "    x = find(parent, u) \n",
    "    y = find(parent, v)   \n",
    "    if x != y:\n",
    "        xroot=find(parent,x)\n",
    "        yroot=find(parent,y)    \n",
    "        if rank[xroot]<rank[yroot]:\n",
    "            parent[xroot]=yroot\n",
    "            result.append([u,v,w])\n",
    "        elif rank[xroot]>rank[yroot]:\n",
    "            parent[yroot]=xroot\n",
    "            result.append([u,v,w])\n",
    "        else:\n",
    "            parent[yroot]=xroot\n",
    "            rank[xroot]+=1\n",
    "            result.append([u,v,w])\n",
    "print (result)"
   ]
  },
  {
   "cell_type": "code",
   "execution_count": 46,
   "metadata": {},
   "outputs": [
    {
     "name": "stdout",
     "output_type": "stream",
     "text": [
      "6\n",
      "10\n",
      "1 4 30\n",
      "1 2 10\n",
      "1 5 45\n",
      "2 6 26\n",
      "2 5 40\n",
      "2 3 50\n",
      "3 5 35\n",
      "3 6 15\n",
      "4 6 20\n",
      "5 6 55\n",
      "[[1, 2, 10], [3, 6, 15], [4, 6, 20], [2, 6, 26], [3, 5, 35]]\n"
     ]
    }
   ],
   "source": [
    "n=int(input())\n",
    "D=int(input())\n",
    "forest=[]\n",
    "for i in range(D):\n",
    "    forest.append(list(map(int,input().split()))) \n",
    "forest.sort(key=lambda s:s[2])\n",
    "\n",
    "def find(parent, i): \n",
    "    if parent[i] == i: \n",
    "        return i \n",
    "    return find(parent, parent[i]) \n",
    "\n",
    "result =[]\n",
    "i = 0  \n",
    "parent = [] ; rank = []\n",
    "for node in range(n+1): \n",
    "    parent.append(node) \n",
    "    rank.append(0) \n",
    "      \n",
    "while len(result) < (n-1) : \n",
    "    u,v,w = forest[i] \n",
    "    i = i + 1\n",
    "    x = find(parent, u) \n",
    "    y = find(parent, v)   \n",
    "    if x != y:\n",
    "        xroot=find(parent,x)\n",
    "        yroot=find(parent,y)    \n",
    "        if rank[xroot]<rank[yroot]:\n",
    "            parent[xroot]=yroot\n",
    "            result.append([u,v,w])\n",
    "        elif rank[xroot]>rank[yroot]:\n",
    "            parent[yroot]=xroot\n",
    "            result.append([u,v,w])\n",
    "        else:\n",
    "            parent[yroot]=xroot\n",
    "            rank[xroot]+=1\n",
    "            result.append([u,v,w])\n",
    "print (result)"
   ]
  },
  {
   "cell_type": "code",
   "execution_count": null,
   "metadata": {},
   "outputs": [],
   "source": []
  }
 ],
 "metadata": {
  "kernelspec": {
   "display_name": "Python 3",
   "language": "python",
   "name": "python3"
  },
  "language_info": {
   "codemirror_mode": {
    "name": "ipython",
    "version": 3
   },
   "file_extension": ".py",
   "mimetype": "text/x-python",
   "name": "python",
   "nbconvert_exporter": "python",
   "pygments_lexer": "ipython3",
   "version": "3.7.4"
  }
 },
 "nbformat": 4,
 "nbformat_minor": 2
}
