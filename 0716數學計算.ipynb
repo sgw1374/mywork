{
 "cells": [
  {
   "cell_type": "code",
   "execution_count": 26,
   "metadata": {},
   "outputs": [
    {
     "name": "stdout",
     "output_type": "stream",
     "text": [
      "河內塔的層數:8\n",
      "河內塔移動所需步驟 255\n"
     ]
    }
   ],
   "source": [
    "h=int(input(\"河內塔的層數:\"))\n",
    "print('河內塔移動所需步驟',2**h-1)"
   ]
  },
  {
   "cell_type": "code",
   "execution_count": 25,
   "metadata": {},
   "outputs": [
    {
     "name": "stdout",
     "output_type": "stream",
     "text": [
      "查詢費氏數列第n位數字:15\n",
      "費氏數列第n位數字為: 987\n"
     ]
    }
   ],
   "source": [
    "n=int(input(\"查詢費氏數列第n位數字:\"))\n",
    "a0=0\n",
    "a1=1\n",
    "for i in range (n):\n",
    "    n=a0+a1\n",
    "    a0=a1\n",
    "    a1=n\n",
    "print('費氏數列第n位數字為:',n)"
   ]
  },
  {
   "cell_type": "code",
   "execution_count": null,
   "metadata": {},
   "outputs": [],
   "source": []
  }
 ],
 "metadata": {
  "kernelspec": {
   "display_name": "Python 3",
   "language": "python",
   "name": "python3"
  },
  "language_info": {
   "codemirror_mode": {
    "name": "ipython",
    "version": 3
   },
   "file_extension": ".py",
   "mimetype": "text/x-python",
   "name": "python",
   "nbconvert_exporter": "python",
   "pygments_lexer": "ipython3",
   "version": "3.7.3"
  }
 },
 "nbformat": 4,
 "nbformat_minor": 2
}
