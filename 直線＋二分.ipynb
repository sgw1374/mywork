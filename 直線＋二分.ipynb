{
 "cells": [
  {
   "cell_type": "code",
   "execution_count": 13,
   "metadata": {},
   "outputs": [],
   "source": [
    "from random import randint\n",
    "A=[]\n",
    "for i in range(99):\n",
    "    A.append(randint(1,1000)) #隨機選取1~1000間100個數\n",
    "    \n",
    "for j in range(len(A)):\n",
    "    for k in range(len(A)):\n",
    "        if A[j]<A[k]:\n",
    "            tmp=A[j]\n",
    "            A[j]=A[k]\n",
    "            A[k]=tmp"
   ]
  },
  {
   "cell_type": "code",
   "execution_count": 14,
   "metadata": {},
   "outputs": [
    {
     "name": "stdout",
     "output_type": "stream",
     "text": [
      "500\n"
     ]
    }
   ],
   "source": [
    "T=int(input())"
   ]
  },
  {
   "cell_type": "code",
   "execution_count": 20,
   "metadata": {},
   "outputs": [
    {
     "ename": "KeyboardInterrupt",
     "evalue": "",
     "output_type": "error",
     "traceback": [
      "\u001b[0;31m---------------------------------------------------------------------------\u001b[0m",
      "\u001b[0;31mKeyboardInterrupt\u001b[0m                         Traceback (most recent call last)",
      "\u001b[0;32m<ipython-input-20-72afbaf4dfff>\u001b[0m in \u001b[0;36m<module>\u001b[0;34m\u001b[0m\n\u001b[1;32m      5\u001b[0m     \u001b[0;32mif\u001b[0m \u001b[0mT\u001b[0m\u001b[0;34m>\u001b[0m\u001b[0mA\u001b[0m\u001b[0;34m[\u001b[0m\u001b[0mint\u001b[0m\u001b[0;34m(\u001b[0m\u001b[0mm\u001b[0m\u001b[0;34m)\u001b[0m\u001b[0;34m]\u001b[0m\u001b[0;34m:\u001b[0m\u001b[0;34m\u001b[0m\u001b[0;34m\u001b[0m\u001b[0m\n\u001b[1;32m      6\u001b[0m         \u001b[0ml\u001b[0m\u001b[0;34m=\u001b[0m\u001b[0mm\u001b[0m\u001b[0;34m+\u001b[0m\u001b[0;36m1\u001b[0m\u001b[0;34m\u001b[0m\u001b[0;34m\u001b[0m\u001b[0m\n\u001b[0;32m----> 7\u001b[0;31m     \u001b[0;32melif\u001b[0m \u001b[0mT\u001b[0m\u001b[0;34m<\u001b[0m\u001b[0mA\u001b[0m\u001b[0;34m[\u001b[0m\u001b[0mint\u001b[0m\u001b[0;34m(\u001b[0m\u001b[0mm\u001b[0m\u001b[0;34m)\u001b[0m\u001b[0;34m]\u001b[0m\u001b[0;34m:\u001b[0m\u001b[0;34m\u001b[0m\u001b[0;34m\u001b[0m\u001b[0m\n\u001b[0m\u001b[1;32m      8\u001b[0m         \u001b[0ml\u001b[0m\u001b[0;34m=\u001b[0m\u001b[0mm\u001b[0m\u001b[0;34m-\u001b[0m\u001b[0;36m1\u001b[0m\u001b[0;34m\u001b[0m\u001b[0;34m\u001b[0m\u001b[0m\n\u001b[1;32m      9\u001b[0m     \u001b[0;32melse\u001b[0m \u001b[0;34m:\u001b[0m\u001b[0;34m\u001b[0m\u001b[0;34m\u001b[0m\u001b[0m\n",
      "\u001b[0;31mKeyboardInterrupt\u001b[0m: "
     ]
    }
   ],
   "source": [
    "l=0\n",
    "h=98\n",
    "while l<h:\n",
    "    m=(l+h)/2\n",
    "    if T>A[m]:\n",
    "        l=m+1\n",
    "    elif T<A[m]:\n",
    "        l=m-1\n",
    "    else :\n",
    "        print(T,\"在亂數中第\",(l+h)/2,\"位\")\n",
    "        break\n",
    "print(T,\"不在亂數中\")"
   ]
  },
  {
   "cell_type": "code",
   "execution_count": 21,
   "metadata": {},
   "outputs": [
    {
     "data": {
      "text/plain": [
       "[19,\n",
       " 26,\n",
       " 38,\n",
       " 46,\n",
       " 48,\n",
       " 50,\n",
       " 58,\n",
       " 73,\n",
       " 78,\n",
       " 134,\n",
       " 136,\n",
       " 141,\n",
       " 141,\n",
       " 144,\n",
       " 153,\n",
       " 159,\n",
       " 171,\n",
       " 171,\n",
       " 179,\n",
       " 194,\n",
       " 198,\n",
       " 208,\n",
       " 218,\n",
       " 221,\n",
       " 221,\n",
       " 244,\n",
       " 253,\n",
       " 259,\n",
       " 282,\n",
       " 290,\n",
       " 292,\n",
       " 294,\n",
       " 318,\n",
       " 348,\n",
       " 353,\n",
       " 386,\n",
       " 392,\n",
       " 398,\n",
       " 399,\n",
       " 405,\n",
       " 408,\n",
       " 414,\n",
       " 421,\n",
       " 423,\n",
       " 443,\n",
       " 450,\n",
       " 481,\n",
       " 485,\n",
       " 498,\n",
       " 531,\n",
       " 533,\n",
       " 557,\n",
       " 560,\n",
       " 579,\n",
       " 585,\n",
       " 594,\n",
       " 605,\n",
       " 629,\n",
       " 633,\n",
       " 641,\n",
       " 655,\n",
       " 672,\n",
       " 674,\n",
       " 681,\n",
       " 696,\n",
       " 702,\n",
       " 705,\n",
       " 708,\n",
       " 709,\n",
       " 710,\n",
       " 744,\n",
       " 756,\n",
       " 768,\n",
       " 776,\n",
       " 784,\n",
       " 794,\n",
       " 796,\n",
       " 804,\n",
       " 804,\n",
       " 820,\n",
       " 827,\n",
       " 828,\n",
       " 834,\n",
       " 836,\n",
       " 836,\n",
       " 845,\n",
       " 859,\n",
       " 864,\n",
       " 880,\n",
       " 889,\n",
       " 891,\n",
       " 893,\n",
       " 900,\n",
       " 916,\n",
       " 917,\n",
       " 945,\n",
       " 948,\n",
       " 949,\n",
       " 988,\n",
       " 992]"
      ]
     },
     "execution_count": 21,
     "metadata": {},
     "output_type": "execute_result"
    }
   ],
   "source": [
    "A"
   ]
  },
  {
   "cell_type": "code",
   "execution_count": null,
   "metadata": {},
   "outputs": [],
   "source": []
  }
 ],
 "metadata": {
  "kernelspec": {
   "display_name": "Python 3",
   "language": "python",
   "name": "python3"
  },
  "language_info": {
   "codemirror_mode": {
    "name": "ipython",
    "version": 3
   },
   "file_extension": ".py",
   "mimetype": "text/x-python",
   "name": "python",
   "nbconvert_exporter": "python",
   "pygments_lexer": "ipython3",
   "version": "3.7.4"
  }
 },
 "nbformat": 4,
 "nbformat_minor": 2
}
