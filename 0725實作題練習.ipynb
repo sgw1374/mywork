{
 "cells": [
  {
   "cell_type": "markdown",
   "metadata": {},
   "source": [
    "# 邏輯運算子 (Logic Operators)\n",
    "\n",
    "## 問題描述\n",
    "\n",
    "## 小蘇最近在學三種邏輯運算子 AND、OR 和 XOR。這三種運算子都是二元運算子，\n",
    "\n",
    "也就是說在運算時需要兩個運算元，例如 a AND b。對於整數a與b，以下三個二元運算\n",
    "子的運算結果定義如下列三個表格：\n",
    "\n",
    "## 舉例來說：\n",
    "\n",
    "## (1) 0 AND 0 的結果為 0 ， 0 OR 0 以及 0 XOR 0 的結果也為 0 。\n",
    "\n",
    "## (2) 0 AND 3 的結果為 0 ， 0 OR 3 以及 0 XOR 3 的結果則為 1 。\n",
    "\n",
    "## (3) 4 AND 9 的結果為 1 ， 4 OR 9 的結果也為 1 ，但 4 XOR 9 的結果為 0 。\n",
    "\n",
    "```\n",
    "請撰寫一個程式，讀入 a、b 以及邏輯運算的結果，輸出可能的邏輯運算為何。\n",
    "```\n",
    "輸入格式\n",
    "輸入只有一行，共三個整數值，整數間以一個空白隔開。第一個整數代表 a，第二\n",
    "個整數代表 b，這兩數均為非負的整數。第三個整數代表邏輯運算的結果，只會是 0 或 1 。\n",
    "\n",
    "輸出格式\n",
    "輸出可能得到指定結果的運算，若有多個，輸出順序為 AND、OR、XOR，每個可能\n",
    "的運算單獨輸出一行，每行結尾皆有換行。若不可能得到指定結果，輸出 IMPOSSIBLE。\n",
    "（注意輸出時所有英文字母均為大寫字母。）\n",
    "\n",
    "```\n",
    "範例一：輸入\n",
    "0 0 0\n",
    "```\n",
    "```\n",
    "範例一：正確輸出\n",
    "AND\n",
    "OR\n",
    "XOR\n",
    "```\n",
    "## 範例二：輸入\n",
    "\n",
    "## 1 1 1\n",
    "\n",
    "## 範例二：正確輸出\n",
    "\n",
    "## AND\n",
    "\n",
    "## OR\n",
    "\n",
    "## 範例三：輸入\n",
    "\n",
    "## 3 0 1\n",
    "\n",
    "## 範例三：正確輸出\n",
    "\n",
    "## OR\n",
    "\n",
    "## XOR\n",
    "\n",
    "## 範例四：輸入\n",
    "\n",
    "## 0 0 1\n",
    "\n",
    "## 範例四：正確輸出\n",
    "\n",
    "## IMPOSSIBLE\n",
    "\n",
    "## 評分說明\n",
    "\n",
    "輸入包含若干筆測試資料，每一筆測試資料的執行時間限制(time limit)均為 1 秒，依\n",
    "正確通過測資筆數給分。其中：\n",
    "第 1 子題組 80 分，a 和 b 的值只會是 0 或 1 。\n",
    "第 2 子題組 20 分， 0 _≤_ a, b < 10,000。\n",
    "\n",
    "```\n",
    "a AND b a OR b a XOR b\n",
    "b為 0 b不為 0 b為 0 b不為 0 b為 0 b不為 0\n",
    "a為 0 0 0 a為 0 0 1 a為 0 0 1\n",
    "a不為 0^0 1 a不為 0^1 1 a不為 0^1 \n",
    "```\n"
   ]
  },
  {
   "cell_type": "code",
   "execution_count": 28,
   "metadata": {},
   "outputs": [
    {
     "name": "stdout",
     "output_type": "stream",
     "text": [
      "1 1 1\n"
     ]
    }
   ],
   "source": [
    "line =input()\n",
    "a ,b ,c= line.split()"
   ]
  },
  {
   "cell_type": "code",
   "execution_count": 41,
   "metadata": {},
   "outputs": [
    {
     "data": {
      "text/plain": [
       "['1', '1', '1']"
      ]
     },
     "execution_count": 41,
     "metadata": {},
     "output_type": "execute_result"
    }
   ],
   "source": [
    "a,b,c =input().split()\n",
    "a, b, c = int(a), int(b), int(c)"
   ]
  },
  {
   "cell_type": "code",
   "execution_count": 43,
   "metadata": {},
   "outputs": [
    {
     "data": {
      "text/plain": [
       "(1, 1, 1)"
      ]
     },
     "execution_count": 43,
     "metadata": {},
     "output_type": "execute_result"
    }
   ],
   "source": [
    "a, b, c"
   ]
  },
  {
   "cell_type": "code",
   "execution_count": 36,
   "metadata": {},
   "outputs": [],
   "source": [
    "if int(a) !=0:\n",
    "    a = 1\n",
    "else:\n",
    "    a =0\n",
    "\n",
    "if int(b) !=0:\n",
    "    b = 1\n",
    "else:\n",
    "    b =0\n",
    "\n",
    "if int(c) !=0:\n",
    "    c = 1\n",
    "else:\n",
    "    c =0"
   ]
  },
  {
   "cell_type": "code",
   "execution_count": 37,
   "metadata": {},
   "outputs": [
    {
     "data": {
      "text/plain": [
       "1"
      ]
     },
     "execution_count": 37,
     "metadata": {},
     "output_type": "execute_result"
    }
   ],
   "source": [
    "a"
   ]
  },
  {
   "cell_type": "code",
   "execution_count": null,
   "metadata": {},
   "outputs": [],
   "source": [
    "a = 0"
   ]
  },
  {
   "cell_type": "code",
   "execution_count": 44,
   "metadata": {},
   "outputs": [],
   "source": [
    "if a:\n",
    "    a=1"
   ]
  },
  {
   "cell_type": "code",
   "execution_count": 45,
   "metadata": {},
   "outputs": [
    {
     "data": {
      "text/plain": [
       "1"
      ]
     },
     "execution_count": 45,
     "metadata": {},
     "output_type": "execute_result"
    }
   ],
   "source": [
    "a"
   ]
  },
  {
   "cell_type": "markdown",
   "metadata": {},
   "source": [
    "### 我的程式區"
   ]
  },
  {
   "cell_type": "code",
   "execution_count": 51,
   "metadata": {},
   "outputs": [
    {
     "name": "stdout",
     "output_type": "stream",
     "text": [
      "3 0 1\n",
      "AND\n",
      "OR\n"
     ]
    }
   ],
   "source": [
    "line = input().split()\n",
    "a, b, c =map(int, line)\n",
    "\n",
    "if a != 0:\n",
    "    a = 1\n",
    "if a != 0:\n",
    "    b = 1\n",
    "if c != 0:\n",
    "    c = 1\n",
    "\n",
    "if (a & b == c):\n",
    "    print(\"AND\")\n",
    "if (a | b == c):\n",
    "    print(\"OR\")\n",
    "if (a ^ b == c):\n",
    "    print(\"XOR\")\n",
    "if not (a & b == c) or (a | b == c) or (a ^ b == c):\n",
    "    print(\"IMPOSSIBLE\")"
   ]
  },
  {
   "cell_type": "code",
   "execution_count": 64,
   "metadata": {},
   "outputs": [
    {
     "name": "stdout",
     "output_type": "stream",
     "text": [
      "1 1 1\n",
      "AND\n",
      "OR\n"
     ]
    }
   ],
   "source": [
    "line = input().split()\n",
    "a, b, c =map(int, line)\n",
    "\n",
    "if a != 0:\n",
    "    a = 1\n",
    "if b != 0:\n",
    "    b = 1\n",
    "if c != 0:\n",
    "    c = 1\n",
    "\n",
    "fail=True\n",
    "if (a & b == c):\n",
    "    print(\"AND\")\n",
    "    fail=False\n",
    "if (a | b == c):\n",
    "    print(\"OR\")\n",
    "    fail=False\n",
    "if (a ^ b == c):\n",
    "    print(\"XOR\")\n",
    "    fail=False\n",
    "if fail:\n",
    "    print(\"IMPOSSIBLE\")"
   ]
  },
  {
   "cell_type": "code",
   "execution_count": 65,
   "metadata": {},
   "outputs": [
    {
     "name": "stdout",
     "output_type": "stream",
     "text": [
      "File `p1.py` exists. Overwrite (y/[N])?  y\n",
      "The following commands were written to file `p1.py`:\n",
      "line = input().split()\n",
      "a, b, c =map(int, line)\n",
      "\n",
      "if a != 0:\n",
      "    a = 1\n",
      "if b != 0:\n",
      "    b = 1\n",
      "if c != 0:\n",
      "    c = 1\n",
      "\n",
      "fail=True\n",
      "if (a & b == c):\n",
      "    print(\"AND\")\n",
      "    fail=False\n",
      "if (a | b == c):\n",
      "    print(\"OR\")\n",
      "    fail=False\n",
      "if (a ^ b == c):\n",
      "    print(\"XOR\")\n",
      "    fail=False\n",
      "if fail:\n",
      "    print(\"IMPOSSIBLE\")\n"
     ]
    }
   ],
   "source": [
    "%save \"p1.py\" 64"
   ]
  },
  {
   "cell_type": "code",
   "execution_count": 59,
   "metadata": {},
   "outputs": [
    {
     "name": "stdout",
     "output_type": "stream",
     "text": [
      "Writing p1t01.txt\n"
     ]
    }
   ],
   "source": [
    "%%writefile \"p1t01.txt\"\n",
    "0 0 0"
   ]
  },
  {
   "cell_type": "code",
   "execution_count": 60,
   "metadata": {},
   "outputs": [
    {
     "name": "stdout",
     "output_type": "stream",
     "text": [
      "Writing p1t02.txt\n"
     ]
    }
   ],
   "source": [
    "%%writefile \"p1t02.txt\"\n",
    "1 1 1"
   ]
  },
  {
   "cell_type": "code",
   "execution_count": 61,
   "metadata": {},
   "outputs": [
    {
     "name": "stdout",
     "output_type": "stream",
     "text": [
      "Writing p1t03.txt\n"
     ]
    }
   ],
   "source": [
    "%%writefile \"p1t03.txt\"\n",
    "3 0 1"
   ]
  },
  {
   "cell_type": "code",
   "execution_count": 62,
   "metadata": {},
   "outputs": [
    {
     "name": "stdout",
     "output_type": "stream",
     "text": [
      "Writing p1t04.txt\n"
     ]
    }
   ],
   "source": [
    "%%writefile \"p1t04.txt\"\n",
    "0 0 1"
   ]
  },
  {
   "cell_type": "code",
   "execution_count": 66,
   "metadata": {},
   "outputs": [
    {
     "name": "stdout",
     "output_type": "stream",
     "text": [
      "AND\r\n",
      "OR\r\n",
      "XOR\r\n"
     ]
    }
   ],
   "source": [
    "!python p1.py < p1t01.txt"
   ]
  },
  {
   "cell_type": "code",
   "execution_count": 67,
   "metadata": {},
   "outputs": [
    {
     "name": "stdout",
     "output_type": "stream",
     "text": [
      "AND\r\n",
      "OR\r\n"
     ]
    }
   ],
   "source": [
    "!python p1.py < p1t02.txt"
   ]
  },
  {
   "cell_type": "code",
   "execution_count": 68,
   "metadata": {},
   "outputs": [
    {
     "name": "stdout",
     "output_type": "stream",
     "text": [
      "OR\r\n",
      "XOR\r\n"
     ]
    }
   ],
   "source": [
    "!python p1.py < p1t03.txt"
   ]
  },
  {
   "cell_type": "code",
   "execution_count": 69,
   "metadata": {},
   "outputs": [
    {
     "name": "stdout",
     "output_type": "stream",
     "text": [
      "IMPOSSIBLE\r\n"
     ]
    }
   ],
   "source": [
    "!python p1.py < p1t04.txt"
   ]
  },
  {
   "cell_type": "markdown",
   "metadata": {},
   "source": [
    "### 第二題"
   ]
  },
  {
   "cell_type": "code",
   "execution_count": 70,
   "metadata": {},
   "outputs": [],
   "source": [
    "st= 'aaaaBBBccDEF'"
   ]
  },
  {
   "cell_type": "code",
   "execution_count": 71,
   "metadata": {},
   "outputs": [],
   "source": [
    "c='A'"
   ]
  },
  {
   "cell_type": "code",
   "execution_count": 80,
   "metadata": {},
   "outputs": [
    {
     "data": {
      "text/plain": [
       "False"
      ]
     },
     "execution_count": 80,
     "metadata": {},
     "output_type": "execute_result"
    }
   ],
   "source": [
    "c.islower()"
   ]
  },
  {
   "cell_type": "code",
   "execution_count": 74,
   "metadata": {},
   "outputs": [
    {
     "data": {
      "text/plain": [
       "True"
      ]
     },
     "execution_count": 74,
     "metadata": {},
     "output_type": "execute_result"
    }
   ],
   "source": [
    "c.isupper()"
   ]
  },
  {
   "cell_type": "code",
   "execution_count": 75,
   "metadata": {},
   "outputs": [],
   "source": [
    "newst ='00011100110'"
   ]
  },
  {
   "cell_type": "code",
   "execution_count": 76,
   "metadata": {},
   "outputs": [
    {
     "data": {
      "text/plain": [
       "True"
      ]
     },
     "execution_count": 76,
     "metadata": {},
     "output_type": "execute_result"
    }
   ],
   "source": [
    "'0011' in newst"
   ]
  },
  {
   "cell_type": "code",
   "execution_count": 77,
   "metadata": {},
   "outputs": [
    {
     "data": {
      "text/plain": [
       "True"
      ]
     },
     "execution_count": 77,
     "metadata": {},
     "output_type": "execute_result"
    }
   ],
   "source": [
    "'1100' in newst"
   ]
  },
  {
   "cell_type": "code",
   "execution_count": 78,
   "metadata": {},
   "outputs": [
    {
     "data": {
      "text/plain": [
       "False"
      ]
     },
     "execution_count": 78,
     "metadata": {},
     "output_type": "execute_result"
    }
   ],
   "source": [
    "'001100' in newst"
   ]
  },
  {
   "cell_type": "code",
   "execution_count": 79,
   "metadata": {},
   "outputs": [
    {
     "data": {
      "text/plain": [
       "True"
      ]
     },
     "execution_count": 79,
     "metadata": {},
     "output_type": "execute_result"
    }
   ],
   "source": [
    "'110011' in newst"
   ]
  },
  {
   "cell_type": "code",
   "execution_count": 120,
   "metadata": {},
   "outputs": [],
   "source": [
    "line='AAbbbCCCdddGGGjjjTTKK'"
   ]
  },
  {
   "cell_type": "code",
   "execution_count": 121,
   "metadata": {},
   "outputs": [
    {
     "data": {
      "text/plain": [
       "[True,\n",
       " True,\n",
       " False,\n",
       " False,\n",
       " False,\n",
       " True,\n",
       " True,\n",
       " True,\n",
       " False,\n",
       " False,\n",
       " False,\n",
       " True,\n",
       " True,\n",
       " True,\n",
       " False,\n",
       " False,\n",
       " False,\n",
       " True,\n",
       " True,\n",
       " True,\n",
       " True]"
      ]
     },
     "execution_count": 121,
     "metadata": {},
     "output_type": "execute_result"
    }
   ],
   "source": [
    "[x.isupper() for x in line]"
   ]
  },
  {
   "cell_type": "code",
   "execution_count": 126,
   "metadata": {},
   "outputs": [
    {
     "data": {
      "text/plain": [
       "1"
      ]
     },
     "execution_count": 126,
     "metadata": {},
     "output_type": "execute_result"
    }
   ],
   "source": [
    "int(True)"
   ]
  },
  {
   "cell_type": "code",
   "execution_count": 127,
   "metadata": {},
   "outputs": [
    {
     "data": {
      "text/plain": [
       "0"
      ]
     },
     "execution_count": 127,
     "metadata": {},
     "output_type": "execute_result"
    }
   ],
   "source": [
    "int(False)"
   ]
  },
  {
   "cell_type": "code",
   "execution_count": 129,
   "metadata": {},
   "outputs": [
    {
     "data": {
      "text/plain": [
       "[1, 1, 0, 0, 0, 1, 1, 1, 0, 0, 0, 1, 1, 1, 0, 0, 0, 1, 1, 1, 1]"
      ]
     },
     "execution_count": 129,
     "metadata": {},
     "output_type": "execute_result"
    }
   ],
   "source": [
    "[int(x.isupper())for x in line]"
   ]
  },
  {
   "cell_type": "code",
   "execution_count": 122,
   "metadata": {},
   "outputs": [
    {
     "data": {
      "text/plain": [
       "['1',\n",
       " '1',\n",
       " '0',\n",
       " '0',\n",
       " '0',\n",
       " '1',\n",
       " '1',\n",
       " '1',\n",
       " '0',\n",
       " '0',\n",
       " '0',\n",
       " '1',\n",
       " '1',\n",
       " '1',\n",
       " '0',\n",
       " '0',\n",
       " '0',\n",
       " '1',\n",
       " '1',\n",
       " '1',\n",
       " '1']"
      ]
     },
     "execution_count": 122,
     "metadata": {},
     "output_type": "execute_result"
    }
   ],
   "source": [
    "[str(int(x.isupper()))for x in line]"
   ]
  },
  {
   "cell_type": "code",
   "execution_count": 130,
   "metadata": {},
   "outputs": [],
   "source": [
    "st=''.join([str(int(x.isupper()))for x in line])"
   ]
  },
  {
   "cell_type": "code",
   "execution_count": 142,
   "metadata": {},
   "outputs": [],
   "source": [
    "k=3"
   ]
  },
  {
   "cell_type": "code",
   "execution_count": 143,
   "metadata": {},
   "outputs": [],
   "source": [
    "pattern = ['0'*k,'1'*k]"
   ]
  },
  {
   "cell_type": "code",
   "execution_count": 144,
   "metadata": {},
   "outputs": [],
   "source": [
    "p0=pattern[0]\n",
    "p1=pattern[1]"
   ]
  },
  {
   "cell_type": "code",
   "execution_count": 145,
   "metadata": {},
   "outputs": [
    {
     "data": {
      "text/plain": [
       "('000', '111')"
      ]
     },
     "execution_count": 145,
     "metadata": {},
     "output_type": "execute_result"
    }
   ],
   "source": [
    "p0,p1"
   ]
  },
  {
   "cell_type": "code",
   "execution_count": 146,
   "metadata": {},
   "outputs": [
    {
     "data": {
      "text/plain": [
       "True"
      ]
     },
     "execution_count": 146,
     "metadata": {},
     "output_type": "execute_result"
    }
   ],
   "source": [
    "p0 in st"
   ]
  },
  {
   "cell_type": "code",
   "execution_count": 147,
   "metadata": {},
   "outputs": [
    {
     "data": {
      "text/plain": [
       "True"
      ]
     },
     "execution_count": 147,
     "metadata": {},
     "output_type": "execute_result"
    }
   ],
   "source": [
    "p1 in st"
   ]
  },
  {
   "cell_type": "code",
   "execution_count": 148,
   "metadata": {},
   "outputs": [],
   "source": [
    "p0 = p0 + pattern[1]\n",
    "p1 = p1 + pattern[0]"
   ]
  },
  {
   "cell_type": "code",
   "execution_count": 149,
   "metadata": {},
   "outputs": [
    {
     "data": {
      "text/plain": [
       "('000111', '111000')"
      ]
     },
     "execution_count": 149,
     "metadata": {},
     "output_type": "execute_result"
    }
   ],
   "source": [
    "p0,p1"
   ]
  },
  {
   "cell_type": "code",
   "execution_count": 150,
   "metadata": {},
   "outputs": [
    {
     "data": {
      "text/plain": [
       "True"
      ]
     },
     "execution_count": 150,
     "metadata": {},
     "output_type": "execute_result"
    }
   ],
   "source": [
    "p0 in st"
   ]
  },
  {
   "cell_type": "code",
   "execution_count": 151,
   "metadata": {},
   "outputs": [
    {
     "data": {
      "text/plain": [
       "True"
      ]
     },
     "execution_count": 151,
     "metadata": {},
     "output_type": "execute_result"
    }
   ],
   "source": [
    "p1 in st"
   ]
  },
  {
   "cell_type": "code",
   "execution_count": 152,
   "metadata": {},
   "outputs": [],
   "source": [
    "p0=p0+pattern[0]\n",
    "p1=p1+pattern[1]"
   ]
  },
  {
   "cell_type": "code",
   "execution_count": 153,
   "metadata": {},
   "outputs": [
    {
     "data": {
      "text/plain": [
       "True"
      ]
     },
     "execution_count": 153,
     "metadata": {},
     "output_type": "execute_result"
    }
   ],
   "source": [
    "p0 in st"
   ]
  },
  {
   "cell_type": "code",
   "execution_count": 154,
   "metadata": {},
   "outputs": [
    {
     "data": {
      "text/plain": [
       "True"
      ]
     },
     "execution_count": 154,
     "metadata": {},
     "output_type": "execute_result"
    }
   ],
   "source": [
    "p1 in st"
   ]
  },
  {
   "cell_type": "code",
   "execution_count": 155,
   "metadata": {},
   "outputs": [
    {
     "data": {
      "text/plain": [
       "('000111000', '111000111')"
      ]
     },
     "execution_count": 155,
     "metadata": {},
     "output_type": "execute_result"
    }
   ],
   "source": [
    "p0,p1"
   ]
  },
  {
   "cell_type": "code",
   "execution_count": 156,
   "metadata": {},
   "outputs": [],
   "source": [
    "p0 = p0 + pattern[1]\n",
    "p1 = p1 + pattern[0]"
   ]
  },
  {
   "cell_type": "code",
   "execution_count": 157,
   "metadata": {},
   "outputs": [
    {
     "data": {
      "text/plain": [
       "('000111000111', '111000111000')"
      ]
     },
     "execution_count": 157,
     "metadata": {},
     "output_type": "execute_result"
    }
   ],
   "source": [
    "p0,p1"
   ]
  },
  {
   "cell_type": "code",
   "execution_count": 158,
   "metadata": {},
   "outputs": [
    {
     "data": {
      "text/plain": [
       "True"
      ]
     },
     "execution_count": 158,
     "metadata": {},
     "output_type": "execute_result"
    }
   ],
   "source": [
    "p0 in st"
   ]
  },
  {
   "cell_type": "code",
   "execution_count": 159,
   "metadata": {},
   "outputs": [
    {
     "data": {
      "text/plain": [
       "True"
      ]
     },
     "execution_count": 159,
     "metadata": {},
     "output_type": "execute_result"
    }
   ],
   "source": [
    "p1 in st"
   ]
  },
  {
   "cell_type": "markdown",
   "metadata": {},
   "source": [
    "### 我的程式"
   ]
  },
  {
   "cell_type": "code",
   "execution_count": 118,
   "metadata": {},
   "outputs": [
    {
     "name": "stdout",
     "output_type": "stream",
     "text": [
      "AAbbbCCCdddGGGjjjTTKK\n",
      "001110001110001110000\n"
     ]
    }
   ],
   "source": [
    "line=input()\n",
    "k=len(line)\n",
    "L=''\n",
    "for x in line:\n",
    "    if x.islower():\n",
    "        L = L +'1'\n",
    "    else:\n",
    "        L = L +'0'\n",
    "print(L)"
   ]
  },
  {
   "cell_type": "code",
   "execution_count": 160,
   "metadata": {
    "scrolled": true
   },
   "outputs": [
    {
     "name": "stdout",
     "output_type": "stream",
     "text": [
      "3\n",
      "AAbbbCCCdddGGGjjjTTKK\n",
      "18\n"
     ]
    }
   ],
   "source": [
    "k = int(input())\n",
    "line = input()\n",
    "\n",
    "st = ''.join([str(int(x.isupper()))for x in line])\n",
    "\n",
    "pattern = ['0'*k,'1'*k]\n",
    "p0=''\n",
    "p1=''\n",
    "\n",
    "c = True\n",
    "m=0\n",
    "\n",
    "while c:\n",
    "    p0=p0+pattern[m%2]\n",
    "    p1=p1+pattern[(m+1)%2]\n",
    "    \n",
    "    if (p0 in st) or (p1 in st):\n",
    "        m = m + 1\n",
    "    else:\n",
    "        c = False\n",
    "    \n",
    "print(m*k)\n"
   ]
  },
  {
   "cell_type": "code",
   "execution_count": 111,
   "metadata": {},
   "outputs": [
    {
     "name": "stdout",
     "output_type": "stream",
     "text": [
      "The following commands were written to file `p2.py`:\n",
      "k = int(input())\n",
      "line = input()\n",
      "\n",
      "st = ''.join([str(int(x.isupper()))for x in line])\n",
      "\n",
      "pattern = ['0'*k,'1'*k]\n",
      "p0=''\n",
      "p1=''\n",
      "\n",
      "c = True\n",
      "m=0\n",
      "\n",
      "while c:\n",
      "    p0=p0+pattern[m%2]\n",
      "    p1=p1+pattern[(m+1)%2]\n",
      "    \n",
      "    if (p0 in st) or (p1 in st):\n",
      "        m = m + 1\n",
      "    else:\n",
      "        c = False\n",
      "    \n",
      "print(m*k)\n"
     ]
    }
   ],
   "source": [
    "%save \"p2.py\" 110"
   ]
  },
  {
   "cell_type": "code",
   "execution_count": 112,
   "metadata": {},
   "outputs": [
    {
     "name": "stdout",
     "output_type": "stream",
     "text": [
      "Writing p2t01.txt\n"
     ]
    }
   ],
   "source": [
    "%%writefile \"p2t01.txt\"\n",
    "1\n",
    "aBBdaaa"
   ]
  },
  {
   "cell_type": "code",
   "execution_count": 113,
   "metadata": {},
   "outputs": [
    {
     "name": "stdout",
     "output_type": "stream",
     "text": [
      "Writing p2t02.txt\n"
     ]
    }
   ],
   "source": [
    "%%writefile \"p2t02.txt\"\n",
    "3\n",
    "DDaasAAbbCC"
   ]
  },
  {
   "cell_type": "code",
   "execution_count": 114,
   "metadata": {},
   "outputs": [
    {
     "name": "stdout",
     "output_type": "stream",
     "text": [
      "3\r\n"
     ]
    }
   ],
   "source": [
    "!python p2.py < p2t02.txt"
   ]
  },
  {
   "cell_type": "code",
   "execution_count": 115,
   "metadata": {},
   "outputs": [
    {
     "name": "stdout",
     "output_type": "stream",
     "text": [
      "Writing p2t03.txt\n"
     ]
    }
   ],
   "source": [
    "%%writefile \"p2t03.txt\"\n",
    "2\n",
    "aafAXbbCDCCC"
   ]
  },
  {
   "cell_type": "code",
   "execution_count": 116,
   "metadata": {},
   "outputs": [
    {
     "name": "stdout",
     "output_type": "stream",
     "text": [
      "Writing p2t04.txt\n"
     ]
    }
   ],
   "source": [
    "%%writefile \"p2t04.txt\"\n",
    "3\n",
    "DDaaAAbbCC"
   ]
  },
  {
   "cell_type": "code",
   "execution_count": 117,
   "metadata": {},
   "outputs": [
    {
     "name": "stdout",
     "output_type": "stream",
     "text": [
      "0\r\n"
     ]
    }
   ],
   "source": [
    "!python p2.py < p2t04.txt"
   ]
  },
  {
   "cell_type": "code",
   "execution_count": 1,
   "metadata": {},
   "outputs": [],
   "source": [
    "L =list('abxdfvaea')"
   ]
  },
  {
   "cell_type": "code",
   "execution_count": 8,
   "metadata": {},
   "outputs": [
    {
     "data": {
      "text/plain": [
       "['a', 'b', 'x', 'd', 'f', 'v', 'a', 'e', 'a']"
      ]
     },
     "execution_count": 8,
     "metadata": {},
     "output_type": "execute_result"
    }
   ],
   "source": [
    "L"
   ]
  },
  {
   "cell_type": "code",
   "execution_count": 15,
   "metadata": {},
   "outputs": [
    {
     "name": "stdout",
     "output_type": "stream",
     "text": [
      "0 a\n",
      "1 b\n",
      "2 x\n",
      "3 d\n",
      "4 f\n",
      "5 v\n",
      "6 a\n",
      "7 e\n",
      "8 a\n"
     ]
    }
   ],
   "source": [
    "for i in range(len(L)):\n",
    "    print(i,L[i])"
   ]
  },
  {
   "cell_type": "code",
   "execution_count": 10,
   "metadata": {},
   "outputs": [
    {
     "name": "stdout",
     "output_type": "stream",
     "text": [
      "a\n",
      "b\n",
      "x\n",
      "d\n",
      "f\n",
      "v\n",
      "a\n",
      "e\n",
      "a\n"
     ]
    }
   ],
   "source": [
    "for x in L:\n",
    "    print(x)"
   ]
  },
  {
   "cell_type": "code",
   "execution_count": 11,
   "metadata": {},
   "outputs": [
    {
     "name": "stdout",
     "output_type": "stream",
     "text": [
      "(0, 'a')\n",
      "(1, 'b')\n",
      "(2, 'x')\n",
      "(3, 'd')\n",
      "(4, 'f')\n",
      "(5, 'v')\n",
      "(6, 'a')\n",
      "(7, 'e')\n",
      "(8, 'a')\n"
     ]
    }
   ],
   "source": [
    "for x in enumerate(L):\n",
    "    print(x)"
   ]
  },
  {
   "cell_type": "code",
   "execution_count": 12,
   "metadata": {},
   "outputs": [
    {
     "name": "stdout",
     "output_type": "stream",
     "text": [
      "0 a\n",
      "1 b\n",
      "2 x\n",
      "3 d\n",
      "4 f\n",
      "5 v\n",
      "6 a\n",
      "7 e\n",
      "8 a\n"
     ]
    }
   ],
   "source": [
    "for i, x in enumerate(L):\n",
    "    print(i,x)"
   ]
  },
  {
   "cell_type": "code",
   "execution_count": 16,
   "metadata": {},
   "outputs": [
    {
     "data": {
      "text/plain": [
       "[(0, 'a'),\n",
       " (1, 'b'),\n",
       " (2, 'x'),\n",
       " (3, 'd'),\n",
       " (4, 'f'),\n",
       " (5, 'v'),\n",
       " (6, 'a'),\n",
       " (7, 'e'),\n",
       " (8, 'a')]"
      ]
     },
     "execution_count": 16,
     "metadata": {},
     "output_type": "execute_result"
    }
   ],
   "source": [
    "list(enumerate(L))"
   ]
  },
  {
   "cell_type": "code",
   "execution_count": null,
   "metadata": {},
   "outputs": [],
   "source": []
  }
 ],
 "metadata": {
  "kernelspec": {
   "display_name": "Python 3",
   "language": "python",
   "name": "python3"
  },
  "language_info": {
   "codemirror_mode": {
    "name": "ipython",
    "version": 3
   },
   "file_extension": ".py",
   "mimetype": "text/x-python",
   "name": "python",
   "nbconvert_exporter": "python",
   "pygments_lexer": "ipython3",
   "version": "3.7.3"
  }
 },
 "nbformat": 4,
 "nbformat_minor": 2
}
